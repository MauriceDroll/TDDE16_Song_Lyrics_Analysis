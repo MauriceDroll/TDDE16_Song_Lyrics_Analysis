{
 "cells": [
  {
   "cell_type": "markdown",
   "id": "6c664878-4aea-49c8-bdcd-0c6a10e83c42",
   "metadata": {},
   "source": [
    "<h1> GENRE: RAP </h1>"
   ]
  },
  {
   "cell_type": "markdown",
   "id": "fb58b5aa-e4aa-47ea-8de6-39736199bc11",
   "metadata": {},
   "source": [
    "<h3>(1) Access the data from the dataset </h3>\n"
   ]
  },
  {
   "cell_type": "code",
   "execution_count": 1,
   "id": "c36f509d-632c-432c-853f-e7dfee496973",
   "metadata": {},
   "outputs": [],
   "source": [
    "%%capture\n",
    "%pip install datasets\n",
    "\n",
    "from datasets import load_dataset\n",
    "\n",
    "ds = load_dataset(\"sebastiandizon/genius-song-lyrics\")"
   ]
  },
  {
   "cell_type": "code",
   "execution_count": 36,
   "id": "a84645ae-05c1-47c2-af63-c43cdf167dca",
   "metadata": {},
   "outputs": [
    {
     "name": "stdout",
     "output_type": "stream",
     "text": [
      "done\n",
      "[2360514, 1625352, 807531, 691578, 649119]\n"
     ]
    }
   ],
   "source": [
    "# Assuming the dataset has a 'category' column\n",
    "unique_categories = ds['train'].unique('tag')  # Get all unique categories\n",
    "\n",
    "# Group into subdatasets\n",
    "subdatasets = {category: ds['train'].filter(lambda x: x['tag'] == category and x['language'] == 'en') for category in unique_categories}\n",
    "\n",
    "type_of_music = 'rap'\n",
    "# Group into music decades\n",
    "#subdataset_70_without_sort = ds['train'].filter(lambda song: 1960 <= song[\"year\"] <= 1970 and song['tag'] == type_of_music)\n",
    "subdataset_70 = ds['train'].filter(lambda song: 1960 <= song[\"year\"] <= 1970 and song['tag'] == type_of_music).sort('views', reverse=True)\n",
    "subdataset_80 = ds['train'].filter(lambda song: 1970 <= song[\"year\"] <= 1980 and song['tag'] == type_of_music).sort('views', reverse=True)\n",
    "subdataset_90 = ds['train'].filter(lambda song: 1980 <= song[\"year\"] <= 1990 and song['tag'] == type_of_music).sort('views', reverse=True)\n",
    "subdataset_00 = ds['train'].filter(lambda song: 1990 <= song[\"year\"] <= 2000 and song['tag'] == type_of_music).sort('views', reverse=True)\n",
    "subdataset_10 = ds['train'].filter(lambda song: 2000 <= song[\"year\"] <= 2010 and song['tag'] == type_of_music).sort('views', reverse=True)\n",
    "subdataset_20 = ds['train'].filter(lambda song: 2010 <= song[\"year\"] <= 2020 and song['tag'] == type_of_music).sort('views', reverse=True)\n",
    "subdataset_30 = ds['train'].filter(lambda song: 2020 <= song[\"year\"] <= 2030 and song['tag'] == type_of_music).sort('views', reverse=True)\n",
    "\n",
    "print(\"Done\")\n",
    "\n",
    "# Create subdataset\n",
    "#eng_rap = subdatasets['rap']"
   ]
  },
  {
   "cell_type": "markdown",
   "id": "1eca33b8-ff6c-4ab3-aae9-8de32db0f00e",
   "metadata": {},
   "source": [
    "<h2> LDA </h2>"
   ]
  },
  {
   "cell_type": "markdown",
   "id": "ba6c1930-379d-4c13-8378-0c7e31382765",
   "metadata": {},
   "source": [
    "<h2> Remove the bad words</h2>"
   ]
  },
  {
   "cell_type": "code",
   "execution_count": 6,
   "id": "fc19c9ee-4499-49cb-ba77-32ff6fa3fb0c",
   "metadata": {},
   "outputs": [
    {
     "name": "stdout",
     "output_type": "stream",
     "text": [
      "Path to dataset files: /home/maurice/.cache/kagglehub/datasets/sahib12/badwords/versions/1\n",
      "!!!!Loaded 2130 swear words.\n"
     ]
    }
   ],
   "source": [
    "import kagglehub\n",
    "import os\n",
    "\n",
    "# Download latest version\n",
    "path = kagglehub.dataset_download(\"tushifire/ldnoobw\")\n",
    "path = kagglehub.dataset_download(\"sahib12/badwords\")\n",
    "\n",
    "#file = kagglehub.load_dataset(\"tushifire/ldnoobw\",path)\n",
    "\n",
    "print(\"Path to dataset files:\", path)\n",
    "\n",
    "swear_words_file = os.path.join(path, 'Terms-to-Block.csv')  # Replace 'en.txt' with the correct filename\n",
    "\n",
    "with open(swear_words_file, 'r') as f:\n",
    "    swear_words = set(f.read().splitlines())\n",
    "\n",
    "print(f\"!!!!Loaded {len(swear_words)} swear words.\")\n",
    "\n",
    "#print(swear_words)"
   ]
  },
  {
   "cell_type": "code",
   "execution_count": 18,
   "id": "cecd6a07-2735-4e22-8936-6201e2f4454e",
   "metadata": {},
   "outputs": [
    {
     "name": "stderr",
     "output_type": "stream",
     "text": [
      "[nltk_data] Downloading package stopwords to\n",
      "[nltk_data]     /home/maurice/nltk_data...\n",
      "[nltk_data]   Package stopwords is already up-to-date!\n",
      "[nltk_data] Downloading package punkt to /home/maurice/nltk_data...\n",
      "[nltk_data]   Package punkt is already up-to-date!\n"
     ]
    }
   ],
   "source": [
    "import gensim\n",
    "import re\n",
    "from gensim.corpora.dictionary import Dictionary\n",
    "from nltk.corpus import stopwords\n",
    "from nltk.tokenize import word_tokenize\n",
    "import nltk\n",
    "from gensim.parsing.preprocessing import remove_stopwords\n",
    "\n",
    "# Sicherstellen, dass NLTK-Daten heruntergeladen sind\n",
    "nltk.download('stopwords')\n",
    "nltk.download('punkt')\n",
    "\n",
    "# Beispiel-Liste von Strings\n",
    "\n",
    "\n",
    "# Stopwords definieren\n",
    "stop_words = set(stopwords.words('english')+[\"like\", \"oh\", \"na\", \"la\", \"yo\", \"get\"])\n",
    "\n",
    "# Preprocessing: Tokenisieren, Stopwords entfernen, Kleinbuchstaben\n",
    "def preprocess(doc):\n",
    "    doc = re.sub(r\"[^a-zA-Z0-9\\s]\", \" \", doc) # delete unncessary things\n",
    "    #doc = remove_stopwords(doc.lower())\n",
    "    doc = remove_repeated_lines(doc)\n",
    "    \n",
    "    tokens = word_tokenize(doc.lower())  # Kleinbuchstaben und Tokenisierung\n",
    "    \n",
    "    tokens = [word for word in tokens if word not in stop_words]  # Stopwords entfernen\n",
    "    \n",
    "    return tokens\n",
    "\n",
    "def remove_repeated_lines(doc):\n",
    "    lines = doc.split(\"\\n\")\n",
    "    return \"\\n\".join(sorted(set(lines), key=lines.index))\n",
    "\n",
    "def sort_out_bad_words(doc,word_list, replacement=\"swear\"):\n",
    "    \"\"\"\n",
    "    Ersetzt Wörter in einem Text, wenn sie in einer Liste vorkommen.\n",
    "    \n",
    "    :param text: Der Eingabetext (String).\n",
    "    :param word_list: Liste der Wörter, die ersetzt werden sollen.\n",
    "    :param replacement: Der Text, durch den die Wörter ersetzt werden sollen.\n",
    "    :return: Der bearbeitete Text.\n",
    "    \"\"\"\n",
    "    # Erstelle ein Set für einen schnelleren Lookup\n",
    "    word_set = set(word_list)\n",
    "    \n",
    "    # Splitte den Text in Wörter\n",
    "    words = doc.split()\n",
    "    \n",
    "    # Ersetze jedes Wort, falls es in der Liste vorkommt\n",
    "    replaced_words = [replacement if word.lower() in word_set else word for word in words]\n",
    "    \n",
    "    # Füge den Text wieder zusammen\n",
    "    return \" \".join(replaced_words)\n",
    " \n",
    "\n",
    "def process_subdatasets(subdataset):\n",
    "    # Get rid of the bad words and replace it with \"swear word\"\n",
    "    without_swear = [sort_out_bad_words(doc, swear_words ) for doc in subdataset]\n",
    "\n",
    "    # Preprocessing für alle Dokumente anwenden\n",
    "    processed_docs = [preprocess(doc) for doc in without_swear]\n",
    "\n",
    "    # Erstellen eines Wörterbuchs\n",
    "    dictionary = Dictionary(processed_docs)\n",
    "\n",
    "    # Erstellen eines Bag-of-Words-Korpus\n",
    "    corpus = [dictionary.doc2bow(doc) for doc in processed_docs]\n",
    "\n",
    "    # LDA-Modell trainieren\n",
    "    lda_model = gensim.models.LdaModel(\n",
    "        corpus=corpus,\n",
    "        id2word=dictionary,\n",
    "        num_topics=5,  # Anzahl der Themen\n",
    "        random_state=42,\n",
    "        passes=40,  # Anzahl der Durchgänge\n",
    "        alpha='symmetric',\n",
    "        eta='auto'\n",
    "        #alpha='auto'  # Dirichlet-Hyperparameter Entscheidung zwischen Auto und symetric\n",
    "    )\n",
    "    \n",
    "    id2word = dictionary\n",
    "    dict_topic = {}\n",
    "    # Themen anzeigen\n",
    "    #print(\"Themen und ihre Schlüsselwörter:\")\n",
    "    for idx, topic in lda_model.print_topics(num_words=5):\n",
    "        #print(f\"Topic {idx}: {topic}\")\n",
    "        dict_topic[idx] = topic \n",
    "\n",
    "    return dict_topic\n"
   ]
  },
  {
   "cell_type": "code",
   "execution_count": 20,
   "id": "750121e6-67ce-4d46-bfb2-08910881b4c9",
   "metadata": {},
   "outputs": [
    {
     "name": "stdout",
     "output_type": "stream",
     "text": [
      "CSV-Datei 'Analysis_Folder/topics_rap_LDA.csv' wurde erfolgreich erstellt!\n"
     ]
    }
   ],
   "source": [
    "amount = 100\n",
    "\n",
    "\n",
    "rap_70_lyrics = process_subdatasets(subdataset_70['lyrics'][:amount])\n",
    "rap_80_lyrics = process_subdatasets(subdataset_80['lyrics'][:amount])\n",
    "rap_90_lyrics = process_subdatasets(subdataset_90['lyrics'][:amount])\n",
    "rap_00_lyrics = process_subdatasets(subdataset_00['lyrics'][:amount])\n",
    "rap_10_lyrics = process_subdatasets(subdataset_10['lyrics'][:amount])\n",
    "rap_20_lyrics = process_subdatasets(subdataset_20['lyrics'][:amount])\n",
    "rap_30_lyrics = process_subdatasets(subdataset_30['lyrics'][:amount])\n",
    "\n",
    "#list_of_lyrics = [rap_70_lyrics,rap_80_lyrics]\n",
    "list_of_lyrics = {\n",
    "    \"70s\": rap_70_lyrics,\n",
    "    \"80s\": rap_80_lyrics,\n",
    "    \"90s\": rap_90_lyrics,\n",
    "    \"00s\": rap_00_lyrics,\n",
    "    \"10s\": rap_10_lyrics,\n",
    "    \"20s\": rap_20_lyrics,\n",
    "    \"30s\": rap_30_lyrics\n",
    "}\n",
    "\n",
    "import csv\n",
    "\n",
    "data_for_csv = []\n",
    "\n",
    "for decade_name, decade in list_of_lyrics.items():\n",
    "    i = 0\n",
    "    for topics in decade:\n",
    "        i = i + 1\n",
    "        data_for_csv.append({\n",
    "            \"Method\": \"LDA\",\n",
    "            \"Genre\": \"Rap\",\n",
    "            \"Decade\": decade_name,\n",
    "            \"Topic\": str(decade[topics])\n",
    "        })\n",
    "\n",
    "\n",
    "# Datei schreiben\n",
    "output_file = \"Analysis_Folder/topics_rap_LDA.csv\"\n",
    "with open(output_file, mode='w', newline='', encoding='utf-8') as file:\n",
    "    writer = csv.DictWriter(file, fieldnames=[\"Method\", \"Genre\", \"Decade\", \"Topic\"])\n",
    "    writer.writeheader()  # Schreibe die Kopfzeile\n",
    "    writer.writerows(data_for_csv)  # Schreibe die Daten\n",
    "\n",
    "print(f\"CSV-Datei '{output_file}' wurde erfolgreich erstellt!\")\n"
   ]
  },
  {
   "cell_type": "code",
   "execution_count": 6,
   "id": "1d17fedf-8bf3-4661-b436-4ee4b3361548",
   "metadata": {},
   "outputs": [
    {
     "data": {
      "text/plain": [
       "str"
      ]
     },
     "execution_count": 6,
     "metadata": {},
     "output_type": "execute_result"
    }
   ],
   "source": [
    "type(rap_70_lyrics[0])"
   ]
  },
  {
   "cell_type": "markdown",
   "id": "7599b719-6c7e-4a39-a10d-9afa5bf73fc6",
   "metadata": {},
   "source": [
    "# tipps von ChaGPT\n",
    "https://chatgpt.com/c/676f1ffc-b134-8012-9f03-6bd466bda148\n",
    "\n",
    "- Herausfinden, wieviele Topics am geeingesten sind\n",
    "- warum sind weiterhin so viele Stop words enthalten\n",
    "- wieviele Lieder nehm ich überhaupt"
   ]
  },
  {
   "cell_type": "code",
   "execution_count": 7,
   "id": "0fe2b480-22d5-4cf4-80e5-a80de53db53d",
   "metadata": {},
   "outputs": [
    {
     "name": "stdout",
     "output_type": "stream",
     "text": [
      "440\n"
     ]
    }
   ],
   "source": [
    "print(len(subdataset_80))"
   ]
  },
  {
   "cell_type": "code",
   "execution_count": 8,
   "id": "082c6e5b-0527-44eb-9dc8-8f963f035875",
   "metadata": {},
   "outputs": [
    {
     "name": "stdout",
     "output_type": "stream",
     "text": [
      "4505\n"
     ]
    }
   ],
   "source": [
    "print(len(subdataset_90))"
   ]
  },
  {
   "cell_type": "markdown",
   "id": "ac41e834-cb3b-42fc-8321-42e4b9050621",
   "metadata": {},
   "source": [
    "<h1> BERT TOPIC MODELLING </h1>\n"
   ]
  },
  {
   "cell_type": "code",
   "execution_count": 11,
   "id": "94fb4e4f-0e6c-4320-8c6a-6ed5dba60686",
   "metadata": {},
   "outputs": [
    {
     "name": "stderr",
     "output_type": "stream",
     "text": [
      "[nltk_data] Downloading package stopwords to\n",
      "[nltk_data]     /home/maurice/nltk_data...\n",
      "[nltk_data]   Package stopwords is already up-to-date!\n",
      "[nltk_data] Downloading package punkt to /home/maurice/nltk_data...\n",
      "[nltk_data]   Package punkt is already up-to-date!\n"
     ]
    }
   ],
   "source": [
    "import gensim\n",
    "import re\n",
    "from gensim.corpora.dictionary import Dictionary\n",
    "from nltk.corpus import stopwords\n",
    "from nltk.tokenize import word_tokenize\n",
    "import nltk\n",
    "from gensim.parsing.preprocessing import remove_stopwords\n",
    "\n",
    "# Sicherstellen, dass NLTK-Daten heruntergeladen sind\n",
    "nltk.download('stopwords')\n",
    "nltk.download('punkt')\n",
    "\n",
    "# Beispiel-Liste von Strings\n",
    "\n",
    "\n",
    "# Stopwords definieren\n",
    "stop_words = set(stopwords.words('english')+[\"like\", \"oh\", \"na\", \"la\", \"yo\", \"get\"])\n",
    "\n",
    "# Preprocessing: Tokenisieren, Stopwords entfernen, Kleinbuchstaben\n",
    "def preprocess(doc):\n",
    "    doc = re.sub(r\"[^a-zA-Z0-9\\s]\", \" \", doc) # delete unncessary things\n",
    "    #doc = remove_stopwords(doc.lower())\n",
    "    doc = remove_repeated_lines(doc)\n",
    "    \n",
    "    tokens = word_tokenize(doc.lower())  \n",
    "    \n",
    "    tokens = [word for word in tokens if word not in stop_words] \n",
    "    \n",
    "    return tokens\n",
    "\n",
    "def remove_repeated_lines(doc):\n",
    "    lines = doc.split(\"\\n\")\n",
    "    return \"\\n\".join(sorted(set(lines), key=lines.index))\n",
    "\n",
    "def sort_out_bad_words(doc,word_list, replacement=\"swear\"):\n",
    "    # Erstelle ein Set für einen schnelleren Lookup\n",
    "    word_set = set(word_list)\n",
    "    \n",
    "    # Splitte den Text in Wörter\n",
    "    words = doc.split()\n",
    "    \n",
    "    # Ersetze jedes Wort, falls es in der Liste vorkommt\n",
    "    replaced_words = [replacement if word.lower() in word_set else word for word in words]\n",
    "    \n",
    "    # Füge den Text wieder zusammen\n",
    "    return \" \".join(replaced_words)"
   ]
  },
  {
   "cell_type": "code",
   "execution_count": 12,
   "id": "6970a026-c9cf-4da3-bc7d-8368dfec0fe1",
   "metadata": {},
   "outputs": [],
   "source": [
    "from bertopic import BERTopic\n",
    "from sentence_transformers import SentenceTransformer\n",
    "import csv\n",
    "\n",
    "def processBertTopics(dataset,sentenceTransformer):\n",
    "    # Initialize your topic model\n",
    "    #embedding_model = SentenceTransformer(\"all-MiniLM-L6-v2\")\n",
    "    \n",
    "    embedding_model = SentenceTransformer(sentenceTransformer)\n",
    "    topic_model = BERTopic(embedding_model=embedding_model)\n",
    "    # Fit and transform the text data\n",
    "\n",
    "    without_swear = [sort_out_bad_words(doc, swear_words ) for doc in dataset]\n",
    "    topics, probs = topic_model.fit_transform(without_swear)\n",
    "\n",
    "    #print(topic_model.get_topic_info())\n",
    "    #print(type(topic_model.get_topics()))\n",
    "    return topic_model.get_topics()\n",
    "\n",
    "# Print or analyze the results\n",
    "#print(\"Topics:\", topics)\n",
    "#print(\"Probabilities:\", probs)"
   ]
  },
  {
   "cell_type": "code",
   "execution_count": null,
   "id": "4dd6ae7c-546b-4eb3-8f54-d43536abfbad",
   "metadata": {},
   "outputs": [],
   "source": []
  },
  {
   "cell_type": "code",
   "execution_count": 15,
   "id": "ad529d32-bc48-4ec2-b26f-7cb3e1c0ff3d",
   "metadata": {},
   "outputs": [],
   "source": [
    "import time\n",
    "def run_analytics_bert_different_Sentence_Transformers(amount_per_iteration,name_of_run, sentence_transformer):\n",
    "\n",
    "    start_time = time.time()\n",
    "    amount = amount_per_iteration\n",
    "\n",
    "    rap_70_lyrics_bert = processBertTopics(subdataset_70['lyrics'][:amount],sentence_transformer)\n",
    "    rap_80_lyrics_bert = processBertTopics(subdataset_80['lyrics'][:amount],sentence_transformer)\n",
    "    rap_90_lyrics_bert = processBertTopics(subdataset_90['lyrics'][:amount],sentence_transformer)\n",
    "    rap_00_lyrics_bert = processBertTopics(subdataset_00['lyrics'][:amount],sentence_transformer)\n",
    "    rap_10_lyrics_bert = processBertTopics(subdataset_10['lyrics'][:amount],sentence_transformer)\n",
    "    rap_20_lyrics_bert = processBertTopics(subdataset_20['lyrics'][:amount],sentence_transformer)\n",
    "    rap_30_lyrics_bert = processBertTopics(subdataset_30['lyrics'][:amount],sentence_transformer)\n",
    "\n",
    "    list_of_lyrics_bert = {\n",
    "        \"70s\": rap_70_lyrics_bert,\n",
    "        \"80s\": rap_80_lyrics_bert,\n",
    "        \"90s\": rap_90_lyrics_bert,\n",
    "        \"00s\": rap_00_lyrics_bert,\n",
    "        \"10s\": rap_10_lyrics_bert,\n",
    "        \"20s\": rap_20_lyrics_bert,\n",
    "        \"30s\": rap_30_lyrics_bert\n",
    "    }\n",
    "    end_time = time.time()\n",
    "\n",
    "    amount_of_time = end_time - start_time\n",
    "    \n",
    "    data_for_csv_bert = []\n",
    "    \n",
    "    for decade_name, decade in list_of_lyrics_bert.items():\n",
    "        i = 0\n",
    "        for topics in decade:\n",
    "            i = i + 1\n",
    "            data_for_csv_bert.append({\n",
    "                \"Method\": \"BERT\",\n",
    "                \"Genre\": \"Rap\",\n",
    "                \"Decade\": decade_name,\n",
    "                \"Topic\": str(decade[topics])\n",
    "            })\n",
    "    data_for_csv_bert.append({\n",
    "                \"Method\": \"TIME\",\n",
    "                \"Genre\": \"TIME\",\n",
    "                \"Decade\": \"TIME\",\n",
    "                \"Topic\": str(amount_of_time)\n",
    "            })\n",
    "    \n",
    "    # Datei schreiben\n",
    "    name_of_file = \"topics_rap_BERT_\" + str(sentence_transformer) + str(name_of_run) + \".csv\"\n",
    "    output_file = os.path.join(\"Analysis_Folder/BERT/\", name_of_file)\n",
    "    #output_file = \"Analysis_Folder/BERT/topics_rap_BERT_.csv\"\n",
    "    with open(output_file, mode='w', newline='', encoding='utf-8') as file:\n",
    "        writer = csv.DictWriter(file, fieldnames=[\"Method\", \"Genre\", \"Decade\", \"Topic\"])\n",
    "        writer.writeheader()  # Schreibe die Kopfzeile\n",
    "        writer.writerows(data_for_csv_bert)  # Schreibe die Daten\n",
    "    \n",
    "    print(f\"CSV-Datei '{output_file}' wurde erfolgreich erstellt!\")"
   ]
  },
  {
   "cell_type": "code",
   "execution_count": 24,
   "id": "c70ccbf7-d026-4549-a865-36a22b423889",
   "metadata": {},
   "outputs": [
    {
     "name": "stdout",
     "output_type": "stream",
     "text": [
      "CSV-Datei 'Analysis_Folder/BERT/topics_rap_BERT_all-Mpnet-base-v21000Songs.csv' wurde erfolgreich erstellt!\n"
     ]
    }
   ],
   "source": [
    "run_analytics_bert_different_Sentence_Transformers(1000,\"1000Songs\",\"all-Mpnet-base-v2\")"
   ]
  },
  {
   "cell_type": "code",
   "execution_count": null,
   "id": "5c2ee952-5a1e-48d5-bc2d-fedd50cd225d",
   "metadata": {},
   "outputs": [],
   "source": []
  }
 ],
 "metadata": {
  "kernelspec": {
   "display_name": "Python 3 (ipykernel)",
   "language": "python",
   "name": "python3"
  },
  "language_info": {
   "codemirror_mode": {
    "name": "ipython",
    "version": 3
   },
   "file_extension": ".py",
   "mimetype": "text/x-python",
   "name": "python",
   "nbconvert_exporter": "python",
   "pygments_lexer": "ipython3",
   "version": "3.10.12"
  }
 },
 "nbformat": 4,
 "nbformat_minor": 5
}
