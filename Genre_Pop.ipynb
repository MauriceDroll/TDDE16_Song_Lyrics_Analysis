{
 "cells": [
  {
   "cell_type": "markdown",
   "id": "6c664878-4aea-49c8-bdcd-0c6a10e83c42",
   "metadata": {},
   "source": [
    "<h1> GENRE: POP </h1>"
   ]
  },
  {
   "cell_type": "markdown",
   "id": "fb58b5aa-e4aa-47ea-8de6-39736199bc11",
   "metadata": {},
   "source": [
    "<h3>(1) Access the data from the dataset </h3>\n"
   ]
  },
  {
   "cell_type": "code",
   "execution_count": 2,
   "id": "c36f509d-632c-432c-853f-e7dfee496973",
   "metadata": {},
   "outputs": [],
   "source": [
    "%%capture\n",
    "%pip install datasets\n",
    "\n",
    "from datasets import load_dataset\n",
    "\n",
    "ds = load_dataset(\"sebastiandizon/genius-song-lyrics\")"
   ]
  },
  {
   "cell_type": "code",
   "execution_count": 3,
   "id": "19708af4",
   "metadata": {},
   "outputs": [
    {
     "data": {
      "application/vnd.jupyter.widget-view+json": {
       "model_id": "6da3dd503a6f47ca93765f5070ad147c",
       "version_major": 2,
       "version_minor": 0
      },
      "text/plain": [
       "Saving the dataset (0/1 shards):   0%|          | 0/1000 [00:00<?, ? examples/s]"
      ]
     },
     "metadata": {},
     "output_type": "display_data"
    },
    {
     "data": {
      "application/vnd.jupyter.widget-view+json": {
       "model_id": "bf7fc8b94b9d4232af9beb17519b4795",
       "version_major": 2,
       "version_minor": 0
      },
      "text/plain": [
       "Saving the dataset (0/1 shards):   0%|          | 0/1000 [00:00<?, ? examples/s]"
      ]
     },
     "metadata": {},
     "output_type": "display_data"
    },
    {
     "data": {
      "application/vnd.jupyter.widget-view+json": {
       "model_id": "fd5fefdeda4a49eaaa68871dc32c96a0",
       "version_major": 2,
       "version_minor": 0
      },
      "text/plain": [
       "Saving the dataset (0/1 shards):   0%|          | 0/1000 [00:00<?, ? examples/s]"
      ]
     },
     "metadata": {},
     "output_type": "display_data"
    },
    {
     "data": {
      "application/vnd.jupyter.widget-view+json": {
       "model_id": "bb2d47792ad54594b8462fad3cbf3f28",
       "version_major": 2,
       "version_minor": 0
      },
      "text/plain": [
       "Saving the dataset (0/1 shards):   0%|          | 0/1000 [00:00<?, ? examples/s]"
      ]
     },
     "metadata": {},
     "output_type": "display_data"
    },
    {
     "data": {
      "application/vnd.jupyter.widget-view+json": {
       "model_id": "97c1b5175c51401cbe4f252211bb74f8",
       "version_major": 2,
       "version_minor": 0
      },
      "text/plain": [
       "Saving the dataset (0/1 shards):   0%|          | 0/1000 [00:00<?, ? examples/s]"
      ]
     },
     "metadata": {},
     "output_type": "display_data"
    },
    {
     "data": {
      "application/vnd.jupyter.widget-view+json": {
       "model_id": "77f50d274b03481ea9aa841dfaf1f051",
       "version_major": 2,
       "version_minor": 0
      },
      "text/plain": [
       "Saving the dataset (0/1 shards):   0%|          | 0/1000 [00:00<?, ? examples/s]"
      ]
     },
     "metadata": {},
     "output_type": "display_data"
    }
   ],
   "source": [
    "import heapq\n",
    "from datasets import Dataset\n",
    "type_of_music= 'pop'\n",
    "TOP_K = 1000\n",
    "decade_heaps = {70: [], 80: [], 90: [], 00: [], 10:[], 20:[]}  # z.B. 70=70er, 0=00er etc.\n",
    "\n",
    "def get_decade(year):\n",
    "    if 1970 <= year <= 1979:\n",
    "        return 70\n",
    "    elif 1980 <= year <= 1989:\n",
    "        return 80\n",
    "    elif 1990 <= year <= 1999:\n",
    "        return 90\n",
    "    elif 2000 <= year <= 2009:\n",
    "        return 00\n",
    "    elif 2010 <= year <= 2019:\n",
    "        return 10\n",
    "    elif 2020 <= year <= 2029:\n",
    "        return 20\n",
    "    return None\n",
    "\n",
    "i = 0  # Zähler für tie-break\n",
    "for song in ds[\"train\"]:\n",
    "    if song[\"tag\"] != type_of_music:\n",
    "        continue\n",
    "    elif song[\"language\"] != \"en\":\n",
    "        continue\n",
    "    dec = get_decade(song[\"year\"])\n",
    "    if dec is None:\n",
    "        continue\n",
    "\n",
    "    views = song[\"views\"]\n",
    "    heap = decade_heaps[dec]\n",
    "\n",
    "    # Das Tupel enthält jetzt (views, i, song).\n",
    "    # Der zweite Wert i ist rein für Tie-Break (und garantiert sortierbar).\n",
    "    if len(heap) < TOP_K:\n",
    "        heapq.heappush(heap, (views, i, song))\n",
    "    else:\n",
    "        # Vergleiche nur, ob aktuelle views (oder Tie-Break i) größer sind \n",
    "        # als das Minimum im Heap (heap[0]).\n",
    "        if (views, i) > (heap[0][0], heap[0][1]):\n",
    "            heapq.heapreplace(heap, (views, i, song))\n",
    "    i += 1\n",
    "\n",
    "# Am Ende hat jede Dekade max. 1000 Elemente.\n",
    "decade_toplists = {}\n",
    "for dec, heap in decade_heaps.items():\n",
    "    # Sortieren nach (views, i) absteigend.\n",
    "    # Falls dir der Index egal ist, kannst du einfach nur nach views sortieren.\n",
    "    sorted_heap = sorted(heap, key=lambda x: (x[0], x[1]), reverse=True)\n",
    "    # x[0] = views, x[1] = tie-break index, x[2] = song\n",
    "    songs_only = [item[2] for item in sorted_heap]\n",
    "    decade_toplists[dec] = songs_only\n",
    "\n",
    "# Optional: zu HF Dataset konvertieren\n",
    "subdataset_70 = Dataset.from_list(decade_toplists[70])\n",
    "subdataset_80 = Dataset.from_list(decade_toplists[80])\n",
    "subdataset_90 = Dataset.from_list(decade_toplists[90])\n",
    "subdataset_00 = Dataset.from_list(decade_toplists[00])\n",
    "subdataset_10 = Dataset.from_list(decade_toplists[10])\n",
    "subdataset_20 = Dataset.from_list(decade_toplists[20])\n",
    "\n",
    "# Save to hard drive\n",
    "subdataset_70.save_to_disk(\"subdataset_70_pop\")\n",
    "subdataset_80.save_to_disk(\"subdataset_80_pop\")\n",
    "subdataset_90.save_to_disk(\"subdataset_90_pop\")\n",
    "subdataset_00.save_to_disk(\"subdataset_00_pop\")\n",
    "subdataset_10.save_to_disk(\"subdataset_10_pop\")\n",
    "subdataset_20.save_to_disk(\"subdataset_20_pop\")\n",
    "\n",
    "\n"
   ]
  },
  {
   "cell_type": "markdown",
   "id": "1eca33b8-ff6c-4ab3-aae9-8de32db0f00e",
   "metadata": {},
   "source": [
    "<h2> LDA </h2>"
   ]
  },
  {
   "cell_type": "markdown",
   "id": "ba6c1930-379d-4c13-8378-0c7e31382765",
   "metadata": {},
   "source": [
    "<h2> Remove the bad words</h2>"
   ]
  },
  {
   "cell_type": "code",
   "execution_count": 1,
   "id": "e0155b7f",
   "metadata": {},
   "outputs": [
    {
     "ename": "NameError",
     "evalue": "name 'subdataset_00' is not defined",
     "output_type": "error",
     "traceback": [
      "\u001b[0;31m---------------------------------------------------------------------------\u001b[0m",
      "\u001b[0;31mNameError\u001b[0m                                 Traceback (most recent call last)",
      "Cell \u001b[0;32mIn[1], line 1\u001b[0m\n\u001b[0;32m----> 1\u001b[0m \u001b[43msubdataset_00\u001b[49m[\u001b[38;5;241m1\u001b[39m]\n",
      "\u001b[0;31mNameError\u001b[0m: name 'subdataset_00' is not defined"
     ]
    }
   ],
   "source": [
    "subdataset_00[1]"
   ]
  },
  {
   "cell_type": "code",
   "execution_count": 21,
   "id": "fc19c9ee-4499-49cb-ba77-32ff6fa3fb0c",
   "metadata": {},
   "outputs": [
    {
     "name": "stdout",
     "output_type": "stream",
     "text": [
      "Path to dataset files: /home/maurice/.cache/kagglehub/datasets/sahib12/badwords/versions/1\n",
      "!!!!Loaded 2130 swear words.\n",
      "Done\n"
     ]
    }
   ],
   "source": [
    "import kagglehub\n",
    "import os\n",
    "\n",
    "# Download latest version\n",
    "path = kagglehub.dataset_download(\"tushifire/ldnoobw\")\n",
    "path = kagglehub.dataset_download(\"sahib12/badwords\")\n",
    "\n",
    "#file = kagglehub.load_dataset(\"tushifire/ldnoobw\",path)\n",
    "\n",
    "print(\"Path to dataset files:\", path)\n",
    "\n",
    "swear_words_file = os.path.join(path, 'Terms-to-Block.csv')  # Replace 'en.txt' with the correct filename\n",
    "\n",
    "with open(swear_words_file, 'r') as f:\n",
    "    swear_words = set(f.read().splitlines())\n",
    "\n",
    "print(f\"!!!!Loaded {len(swear_words)} swear words.\")\n",
    "\n",
    "#print(swear_words)\n",
    "print(\"Done\")\n"
   ]
  },
  {
   "cell_type": "code",
   "execution_count": 22,
   "id": "cecd6a07-2735-4e22-8936-6201e2f4454e",
   "metadata": {},
   "outputs": [
    {
     "name": "stdout",
     "output_type": "stream",
     "text": [
      "Stopwords: {'oh', 'you', 'to', 'ma', 'before', 'am', \"shouldn't\", 'herself', 'are', 'chorus', 'between', 'my', \"you'd\", \"haven't\", 'hook', 'wasn', 'because', 'have', 'how', 'like', 'further', 'outro', 'la', 'the', 'if', 'at', 'off', 'a', 're', 'don', 'this', 'having', 'shouldn', \"shan't\", 'in', 'he', 'very', 'just', 'won', 'your', 'been', 'after', 'our', 'more', 'there', 'than', 'too', 'weren', 'na', 'below', 'which', 'whom', 'few', \"couldn't\", 'about', 'doesn', 'once', 'couldn', \"wasn't\", \"hasn't\", 'be', 'she', \"you'll\", \"wouldn't\", 'verse', 'same', 'as', 'so', 'why', 'were', 'some', 'her', 'o', 'during', 'while', 'm', 'an', 'any', 'theirs', 'does', 'only', 'here', 'both', 'no', \"aren't\", 'of', \"weren't\", \"needn't\", 'himself', 'on', 'for', 'what', 't', 'with', \"don't\", 'hasn', 'again', 'yeah', 'ain', 'it', 'had', 'd', 'his', 'when', 'own', \"you've\", 'out', 'they', \"doesn't\", 'can', \"she's\", 'above', \"mustn't\", \"mightn't\", 'them', 'shan', 'against', 'not', 'was', 'over', 've', \"won't\", 'yours', 'those', 'each', 'will', 'bridge', 'i', 'got', 'isn', 'by', 's', 'nor', 'myself', 'needn', 'me', 'where', 'their', 'him', 'is', 'get', 'yourselves', 'other', 'but', 'into', 'all', 'haven', 'doing', 'did', 'hadn', 'hers', 'intro', 'most', \"isn't\", 'ours', 'these', 'has', \"you're\", 'itself', 'and', \"should've\", 'then', 'up', 'y', 'yo', 'under', 'or', 'being', \"it's\", \"didn't\", 'should', \"hadn't\", 'through', 'didn', 'such', 'ourselves', 'until', 'that', 'mightn', 'wouldn', \"that'll\", 'we', 'now', 'do', 'down', 'themselves', 'll', 'aren', 'yourself', 'who', 'from', 'its', 'mustn'}\n"
     ]
    },
    {
     "name": "stderr",
     "output_type": "stream",
     "text": [
      "[nltk_data] Downloading package stopwords to\n",
      "[nltk_data]     /home/maurice/nltk_data...\n",
      "[nltk_data]   Package stopwords is already up-to-date!\n",
      "[nltk_data] Downloading package punkt to /home/maurice/nltk_data...\n",
      "[nltk_data]   Package punkt is already up-to-date!\n"
     ]
    }
   ],
   "source": [
    "import gensim\n",
    "import re\n",
    "from gensim.corpora.dictionary import Dictionary\n",
    "from nltk.corpus import stopwords\n",
    "from nltk.tokenize import word_tokenize\n",
    "import nltk\n",
    "from gensim.parsing.preprocessing import remove_stopwords\n",
    "\n",
    "# Sicherstellen, dass NLTK-Daten heruntergeladen sind\n",
    "nltk.download('stopwords')\n",
    "nltk.download('punkt')\n",
    "\n",
    "# Beispiel-Liste von Strings\n",
    "\n",
    "\n",
    "# Stopwords definieren\n",
    "stop_words = set(stopwords.words('english')+[\"like\", \"oh\", \"na\", \"la\", \"yo\", \"get\", \"yeah\", \"got\",\"verse\", \"chorus\", \"hook\", \"bridge\", \"outro\", \"intro\"])\n",
    "print(\"Stopwords:\", stop_words)\n",
    "# Preprocessing: Tokenisieren, Stopwords entfernen, Kleinbuchstaben\n",
    "def preprocess(doc):\n",
    "    doc = re.sub(r\"[^a-zA-Z0-9\\s]\", \" \", doc) # delete unncessary things\n",
    "    #doc = remove_stopwords(doc.lower())\n",
    "    doc = remove_repeated_lines(doc)\n",
    "    \n",
    "    tokens = word_tokenize(doc.lower())  # Kleinbuchstaben und Tokenisierung\n",
    "    \n",
    "    tokens = [word for word in tokens if word not in stop_words]  # Stopwords entfernen\n",
    "    \n",
    "    return tokens\n",
    "\n",
    "def remove_repeated_lines(doc):\n",
    "    lines = doc.split(\"\\n\")\n",
    "    return \"\\n\".join(sorted(set(lines), key=lines.index))\n",
    "\n",
    "def sort_out_bad_words(doc,word_list, replacement=\" \"):\n",
    "    \"\"\"\n",
    "    Ersetzt Wörter in einem Text, wenn sie in einer Liste vorkommen.\n",
    "    \n",
    "    :param text: Der Eingabetext (String).\n",
    "    :param word_list: Liste der Wörter, die ersetzt werden sollen.\n",
    "    :param replacement: Der Text, durch den die Wörter ersetzt werden sollen.\n",
    "    :return: Der bearbeitete Text.\n",
    "    \"\"\"\n",
    "    # Erstelle ein Set für einen schnelleren Lookup\n",
    "    word_set = set(word_list)\n",
    "    \n",
    "    # Splitte den Text in Wörter\n",
    "    words = doc.split()\n",
    "    \n",
    "    # Ersetze jedes Wort, falls es in der Liste vorkommt\n",
    "    replaced_words = [replacement if word.lower() in word_set else word for word in words]\n",
    "    \n",
    "    # Füge den Text wieder zusammen\n",
    "    return \" \".join(replaced_words)\n",
    " \n",
    "\n",
    "def process_subdatasets(subdataset):\n",
    "    # Get rid of the bad words and replace it with \"swear word\"\n",
    "    without_swear = [sort_out_bad_words(doc, swear_words ) for doc in subdataset]\n",
    "\n",
    "    # Preprocessing für alle Dokumente anwenden\n",
    "    processed_docs = [preprocess(doc) for doc in without_swear]\n",
    "\n",
    "    if stop_words in processed_docs:\n",
    "        print(\"FEHLER: Stopwords nicht entfernt!\")\n",
    "        \n",
    "    # Erstellen eines Wörterbuchs\n",
    "    dictionary = Dictionary(processed_docs)\n",
    "\n",
    "    # Erstellen eines Bag-of-Words-Korpus\n",
    "    corpus = [dictionary.doc2bow(doc) for doc in processed_docs]\n",
    "\n",
    "    # LDA-Modell trainieren\n",
    "    lda_model = gensim.models.LdaModel(\n",
    "        corpus=corpus,\n",
    "        id2word=dictionary,\n",
    "        num_topics=5,  # Anzahl der Themen\n",
    "        random_state=42,\n",
    "        passes=40,  # Anzahl der Durchgänge\n",
    "        alpha='symmetric',\n",
    "        eta='auto'\n",
    "        #alpha='auto'  # Dirichlet-Hyperparameter Entscheidung zwischen Auto und symetric\n",
    "    )\n",
    "    \n",
    "    id2word = dictionary\n",
    "    dict_topic = {}\n",
    "    # Themen anzeigen\n",
    "    #print(\"Themen und ihre Schlüsselwörter:\")\n",
    "    for idx, topic in lda_model.print_topics(num_words=5):\n",
    "        #print(f\"Topic {idx}: {topic}\")\n",
    "        dict_topic[idx] = topic \n",
    "\n",
    "    return dict_topic\n"
   ]
  },
  {
   "cell_type": "code",
   "execution_count": null,
   "id": "750121e6-67ce-4d46-bfb2-08910881b4c9",
   "metadata": {},
   "outputs": [
    {
     "name": "stdout",
     "output_type": "stream",
     "text": [
      "CSV-Datei '/home/maurice/Dokumente/3rd_Semester_LiU/TDDE16_Projekt/TDDE16_Song_Lyrics_Analysis/Analysis_Folder/topics_pop_LDA.csv' wurde erfolgreich erstellt!\n"
     ]
    }
   ],
   "source": [
    "amount = 1000\n",
    "from datasets import load_from_disk\n",
    "\n",
    "path = \"/home/maurice/Dokumente/3rd_Semester_LiU/TDDE16_Projekt/TDDE16_Song_Lyrics_Analysis/\"\n",
    "\n",
    "\n",
    "rap_70_lyrics = process_subdatasets(load_from_disk(path + 'subdataset_70_pop')['lyrics'][:amount])\n",
    "rap_80_lyrics = process_subdatasets(load_from_disk(path + \"subdataset_80_pop\")['lyrics'][:amount])\n",
    "rap_90_lyrics = process_subdatasets(load_from_disk(path + \"subdataset_90_pop\")['lyrics'][:amount])\n",
    "rap_00_lyrics = process_subdatasets(load_from_disk(path + \"subdataset_00_pop\")['lyrics'][:amount])\n",
    "rap_10_lyrics = process_subdatasets(load_from_disk(path + \"subdataset_10_pop\")['lyrics'][:amount])\n",
    "rap_20_lyrics = process_subdatasets(load_from_disk(path + \"subdataset_20_pop\")['lyrics'][:amount])\n",
    "\n",
    "list_of_lyrics = {\n",
    "    \"70s\": rap_70_lyrics,\n",
    "    \"80s\": rap_80_lyrics,\n",
    "    \"90s\": rap_90_lyrics,\n",
    "    \"00s\": rap_00_lyrics,\n",
    "    \"10s\": rap_10_lyrics,\n",
    "    \"20s\": rap_20_lyrics\n",
    "}\n",
    "\n",
    "import csv\n",
    "\n",
    "data_for_csv = []\n",
    "\n",
    "for decade_name, decade in list_of_lyrics.items():\n",
    "    i = 0\n",
    "    for topics in decade:\n",
    "        i = i + 1\n",
    "        data_for_csv.append({\n",
    "            \"Method\": \"LDA\",\n",
    "            \"Genre\": \"Pop\",\n",
    "            \"Decade\": decade_name,\n",
    "            \"Topic\": str(decade[topics])\n",
    "        })\n",
    "\n",
    "\n",
    "# Datei schreiben\n",
    "output_file = path + \"Analysis_Folder/topics_pop_LDA.csv\"\n",
    "with open(output_file, mode='w', newline='', encoding='utf-8') as file:\n",
    "    writer = csv.DictWriter(file, fieldnames=[\"Method\", \"Genre\", \"Decade\", \"Topic\"])\n",
    "    writer.writeheader()  \n",
    "    writer.writerows(data_for_csv) \n",
    "\n",
    "print(f\"CSV-Datei '{output_file}' wurde erfolgreich erstellt!\")\n"
   ]
  },
  {
   "cell_type": "code",
   "execution_count": 20,
   "id": "1d17fedf-8bf3-4661-b436-4ee4b3361548",
   "metadata": {},
   "outputs": [],
   "source": [
    "output_file = path + \"Analysis_Folder/topics_pop_LDA.csv\"\n",
    "with open(output_file, mode='w', newline='', encoding='utf-8') as file:\n",
    "    writer = csv.DictWriter(file, fieldnames=[\"Method\", \"Genre\", \"Decade\", \"Topic\"])\n",
    "    writer.writeheader()  \n",
    "    writer.writerows(data_for_csv) "
   ]
  },
  {
   "cell_type": "markdown",
   "id": "7599b719-6c7e-4a39-a10d-9afa5bf73fc6",
   "metadata": {},
   "source": [
    "# tipps von ChaGPT\n",
    "https://chatgpt.com/c/676f1ffc-b134-8012-9f03-6bd466bda148\n",
    "\n",
    "- Herausfinden, wieviele Topics am geeingesten sind\n",
    "- warum sind weiterhin so viele Stop words enthalten\n",
    "- wieviele Lieder nehm ich überhaupt"
   ]
  },
  {
   "cell_type": "code",
   "execution_count": null,
   "id": "0fe2b480-22d5-4cf4-80e5-a80de53db53d",
   "metadata": {},
   "outputs": [],
   "source": [
    "print(len(subdataset_80))"
   ]
  },
  {
   "cell_type": "code",
   "execution_count": null,
   "id": "082c6e5b-0527-44eb-9dc8-8f963f035875",
   "metadata": {},
   "outputs": [],
   "source": [
    "print(len(subdataset_90))"
   ]
  },
  {
   "cell_type": "markdown",
   "id": "ac41e834-cb3b-42fc-8321-42e4b9050621",
   "metadata": {},
   "source": [
    "<h1> BERT TOPIC MODELLING </h1>\n"
   ]
  },
  {
   "cell_type": "code",
   "execution_count": 179,
   "id": "94fb4e4f-0e6c-4320-8c6a-6ed5dba60686",
   "metadata": {},
   "outputs": [
    {
     "name": "stdout",
     "output_type": "stream",
     "text": [
      "Done\n"
     ]
    },
    {
     "name": "stderr",
     "output_type": "stream",
     "text": [
      "[nltk_data] Downloading package stopwords to\n",
      "[nltk_data]     /home/maurice/nltk_data...\n",
      "[nltk_data]   Package stopwords is already up-to-date!\n",
      "[nltk_data] Downloading package punkt to /home/maurice/nltk_data...\n",
      "[nltk_data]   Package punkt is already up-to-date!\n"
     ]
    }
   ],
   "source": [
    "import gensim\n",
    "import re\n",
    "from gensim.corpora.dictionary import Dictionary\n",
    "from nltk.corpus import stopwords\n",
    "from nltk.tokenize import word_tokenize\n",
    "import nltk\n",
    "from gensim.parsing.preprocessing import remove_stopwords\n",
    "\n",
    "# Sicherstellen, dass NLTK-Daten heruntergeladen sind\n",
    "nltk.download('stopwords')\n",
    "nltk.download('punkt')\n",
    "\n",
    "# clean the text\n",
    "import re\n",
    "\n",
    "def clean_text(document_list):\n",
    "    \n",
    "    cleaned_document_list = []\n",
    "    \n",
    "    for single_doc in document_list:\n",
    "        # Delete HTML-Tags\n",
    "        text = re.sub(r\"<.*?>\", \"\", single_doc)\n",
    "        # Delete Sonderzeichen und Zahlen\n",
    "        text = re.sub(r\"[^a-zA-Z\\s]\", \"\", text)\n",
    "        # Delete uncessary whitespaces\n",
    "        text = re.sub(r\"\\s+\", \" \", text).strip()\n",
    "        \n",
    "        # lower case the text\n",
    "        text = text.lower()\n",
    "        \n",
    "        cleaned_document_list.append(text)\n",
    "    \n",
    "    return cleaned_document_list\n",
    "    \n",
    "\n",
    "\n",
    "\n",
    "# Preprocessing: Tokenisieren, Stopwords entfernen, Kleinbuchstaben\n",
    "def preprocess_stop_words(document_list):\n",
    "    # Stopwords definieren\n",
    "    stop_words = set(stopwords.words('english')+[\"like\", \"oh\", \"na\", \"la\", \"yo\", \"you\",\"get\", \"the\",\"and\", \"of\", \"on\", \"[Intro]\" ,\"[Storyteller]\" ])\n",
    "    \n",
    "    list_of_tokens = []\n",
    "    for single_doc in document_list:\n",
    "        #without_strange_characters = re.sub(r\"[^a-zA-Z0-9\\s]\", \" \", single_doc) \n",
    "        #print(\"single_doc\", single_doc)\n",
    "        #print(\"single_doc_type\", type(single_doc))\n",
    "        #doc = remove_stopwords(doc.lower())\n",
    "        #doc = remove_repeated_lines(doc)\n",
    "        without_stop_words = [word for word in single_doc if word not in stop_words]\n",
    "        print(\"without_stop_words\", without_stop_words)\n",
    "        print(\"type_without_stop_words\", type(without_stop_words))\n",
    "        \n",
    "        \n",
    "        tokens = word_tokenize(without_stop_words.lower())  \n",
    "        print(tokens)\n",
    "        \n",
    "        list_of_tokens.append(tokens)\n",
    "    \n",
    "    return list_of_tokens\n",
    "\n",
    "def remove_repeated_lines(doc):\n",
    "    # doc ist eine Liste von Strings, z.B. [\"Zeile1\", \"Zeile2\", ...]\n",
    "    # Wiederholte Zeilen entfernen und Reihenfolge beibehalten\n",
    "    unique_lines = []\n",
    "    seen = set()\n",
    "    for line in doc:\n",
    "        if line not in seen:\n",
    "            unique_lines.append(line)\n",
    "            seen.add(line)\n",
    "    # Am Ende kannst du wieder eine Liste zurückgeben:\n",
    "    return unique_lines\n",
    "\n",
    "def sort_out_bad_words(doc,word_list, replacement=\"\"):\n",
    "    \n",
    "    word_list = list(word_list) + [\"like\", \"oh\", \"na\", \"la\", \"yo\", \"you\",\"get\", \"the\",\"and\", \"of\", \"on\", \"[Intro]\" ,\"[Storyteller]\"]\n",
    "    # Erstelle ein Set für einen schnelleren Lookup\n",
    "    word_set = set(word_list)\n",
    "    \n",
    "    # Splitte den Text in Wörter\n",
    "    words = doc.split()\n",
    "    \n",
    "    # Ersetze jedes Wort, falls es in der Liste vorkommt\n",
    "    replaced_words = [replacement if word.lower() in word_set else word for word in words]\n",
    "    \n",
    "    # Füge den Text wieder zusammen\n",
    "    return \" \".join(replaced_words)\n",
    "\n",
    "def tokenize_all_docs(document_list):\n",
    "    list_of_tokens = []\n",
    "    \n",
    "    for single_doc in document_list:\n",
    "        \n",
    "        if type(single_doc) == str:\n",
    "            tokens = word_tokenize(single_doc)\n",
    "            list_of_tokens.append(tokens)\n",
    "        else:\n",
    "            print(\"Type von Document\", type(single_doc))\n",
    "            continue\n",
    "    \n",
    "    return list_of_tokens\n",
    "\n",
    "print(\"Done\")\n"
   ]
  },
  {
   "cell_type": "code",
   "execution_count": 180,
   "id": "6970a026-c9cf-4da3-bc7d-8368dfec0fe1",
   "metadata": {},
   "outputs": [
    {
     "name": "stdout",
     "output_type": "stream",
     "text": [
      "Done\n"
     ]
    }
   ],
   "source": [
    "from bertopic import BERTopic\n",
    "from sentence_transformers import SentenceTransformer\n",
    "import csv\n",
    "\n",
    "def processBertTopics(dataset,sentenceTransformer):\n",
    "    # Initialize your topic model\n",
    "    #embedding_model = SentenceTransformer(\"all-MiniLM-L6-v2\")\n",
    "    \n",
    "    embedding_model = SentenceTransformer(sentenceTransformer)\n",
    "    topic_model = BERTopic(embedding_model=embedding_model)\n",
    "    # Fit and transform the text data\n",
    "    #without_repatition = remove_repeated_lines(dataset)\n",
    "    \n",
    "    cleaned_song_lyrics = clean_text(dataset)\n",
    "    \n",
    "    without_swear = [sort_out_bad_words(doc, swear_words ) for doc in cleaned_song_lyrics]\n",
    "    \n",
    "    #without_swear = preprocess(without_repatition)\n",
    "    \n",
    "    #print(type(without_swear))\n",
    "    #print(\"without_swear\",without_swear)\n",
    "    \n",
    "    \n",
    "    # Semi supervised topuc modeling\n",
    "    #classes = [\"war\", \"love\", \"hate\", \"peace\", \"money\", \"family\", \"friends\",\"hate\"]\n",
    "    #topics, probs = topic_model.topics_per_class(without_swear,classes)\n",
    "    \n",
    "    tokenized_docs = tokenize_all_docs(without_swear)\n",
    "    \n",
    "    topics, probs = topic_model.fit_transform(tokenized_docs)\n",
    "\n",
    "    # Ergebnisse\n",
    "    #print(\"Themenzuweisung:\", topics)\n",
    "    #print(\"Wahrscheinlichkeiten:\", probs)\n",
    "\n",
    "    str_topic_with_probs = []\n",
    "    #for t, p in zip(topics, probs):\n",
    "    #    str_topic_with_probs.append(str(t) + \": \" + str(p))\n",
    "        \n",
    "    #return str_topic_with_probs\n",
    "    #print(topic_model.get_topic_info())\n",
    "    #print(type(topic_model.get_topics()))\n",
    "    #print(topic_model.get_topics())\n",
    "    #topic_model.visualize_topics()\n",
    "    return topic_model.get_topics()\n",
    "    \n",
    "# Print or analyze the results\n",
    "#print(\"Topics:\", topics)\n",
    "#print(\"Probabilities:\", probs)\n",
    "print(\"Done\")\n"
   ]
  },
  {
   "cell_type": "code",
   "execution_count": null,
   "id": "4dd6ae7c-546b-4eb3-8f54-d43536abfbad",
   "metadata": {},
   "outputs": [
    {
     "name": "stderr",
     "output_type": "stream",
     "text": [
      "emoji is not installed, thus not converting emoticons or emojis into text. Install emoji: pip3 install emoji==0.6.0\n"
     ]
    },
    {
     "ename": "NameError",
     "evalue": "name 'subdataset_90' is not defined",
     "output_type": "error",
     "traceback": [
      "\u001b[0;31m---------------------------------------------------------------------------\u001b[0m",
      "\u001b[0;31mNameError\u001b[0m                                 Traceback (most recent call last)",
      "Cell \u001b[0;32mIn[161], line 13\u001b[0m\n\u001b[1;32m      9\u001b[0m amount \u001b[38;5;241m=\u001b[39m \u001b[38;5;241m10\u001b[39m  \u001b[38;5;66;03m# Beispiel: Anzahl der Texte, die verarbeitet werden sollen\u001b[39;00m\n\u001b[1;32m     11\u001b[0m \u001b[38;5;66;03m# INPUT TWEET IST BEREITS NORMALISIERT!\u001b[39;00m\n\u001b[1;32m     12\u001b[0m \u001b[38;5;66;03m# Tokenisierung und Padding/Truncation\u001b[39;00m\n\u001b[0;32m---> 13\u001b[0m lyrics \u001b[38;5;241m=\u001b[39m \u001b[43msubdataset_90\u001b[49m[\u001b[38;5;124m'\u001b[39m\u001b[38;5;124mlyrics\u001b[39m\u001b[38;5;124m'\u001b[39m][:amount]\n\u001b[1;32m     14\u001b[0m inputs \u001b[38;5;241m=\u001b[39m tokenizer(lyrics, return_tensors\u001b[38;5;241m=\u001b[39m\u001b[38;5;124m\"\u001b[39m\u001b[38;5;124mpt\u001b[39m\u001b[38;5;124m\"\u001b[39m, padding\u001b[38;5;241m=\u001b[39m\u001b[38;5;28;01mTrue\u001b[39;00m, truncation\u001b[38;5;241m=\u001b[39m\u001b[38;5;28;01mTrue\u001b[39;00m, max_length\u001b[38;5;241m=\u001b[39m\u001b[38;5;241m512\u001b[39m)\n\u001b[1;32m     16\u001b[0m \u001b[38;5;66;03m# Verarbeitung der Eingabe durch das Modell\u001b[39;00m\n",
      "\u001b[0;31mNameError\u001b[0m: name 'subdataset_90' is not defined"
     ]
    }
   ],
   "source": [
    "# import torch\n",
    "# from transformers import AutoModel, AutoTokenizer\n",
    "\n",
    "# # Modell und Tokenizer laden\n",
    "# bertweet = AutoModel.from_pretrained(\"vinai/bertweet-base\")\n",
    "# tokenizer = AutoTokenizer.from_pretrained(\"vinai/bertweet-base\", use_fast=False)\n",
    "\n",
    "# # Anzahl der Songtexte, die verarbeitet werden sollen\n",
    "# amount = 10  # Beispiel: Anzahl der Texte, die verarbeitet werden sollen\n",
    "\n",
    "# # INPUT TWEET IST BEREITS NORMALISIERT!\n",
    "# # Tokenisierung und Padding/Truncation\n",
    "# lyrics = subdataset_90['lyrics'][:amount]\n",
    "# inputs = tokenizer(lyrics, return_tensors=\"pt\", padding=True, truncation=True, max_length=512)\n",
    "\n",
    "# # Verarbeitung der Eingabe durch das Modell\n",
    "# with torch.no_grad():\n",
    "#     features = bertweet(**inputs)  # Models outputs sind jetzt Tupel\n",
    "\n",
    "# # Ausgabe der Features (optional: erster Layer oder hidden states)\n",
    "# print(features.last_hidden_state)  # Beispielausgabe\n",
    "# print(\"Done\")\n"
   ]
  },
  {
   "cell_type": "code",
   "execution_count": 181,
   "id": "ad529d32-bc48-4ec2-b26f-7cb3e1c0ff3d",
   "metadata": {},
   "outputs": [
    {
     "name": "stdout",
     "output_type": "stream",
     "text": [
      "CSV-Datei '/home/maurice/Dokumente/3rd_Semester_LiU/TDDE16_Projekt/TDDE16_Song_Lyrics_Analysis/Analysis_Folder/BERT/topics_rap_BERT_MiniLM.csv' wurde erfolgreich erstellt!\n",
      "Done\n"
     ]
    }
   ],
   "source": [
    "import time\n",
    "from datasets import load_from_disk\n",
    "def run_analytics_bert_different_Sentence_Transformers(amount_per_iteration,name_of_run, sentence_transformer):\n",
    "\n",
    "    start_time = time.time()\n",
    "    amount = amount_per_iteration\n",
    "\n",
    "    path = \"/home/maurice/Dokumente/3rd_Semester_LiU/TDDE16_Projekt/TDDE16_Song_Lyrics_Analysis/Subdatasets/pop/\"\n",
    "\n",
    "    \n",
    "    rap_70_lyrics_bert = processBertTopics(load_from_disk(path + 'subdataset_70_pop')['lyrics'][:amount],sentence_transformer)\n",
    "    rap_80_lyrics_bert = processBertTopics(load_from_disk(path + \"subdataset_80_pop\")['lyrics'][:amount],sentence_transformer)\n",
    "    rap_90_lyrics_bert = processBertTopics(load_from_disk(path + \"subdataset_90_pop\")['lyrics'][:amount],sentence_transformer)\n",
    "    rap_00_lyrics_bert = processBertTopics(load_from_disk(path + \"subdataset_00_pop\")['lyrics'][:amount],sentence_transformer)\n",
    "    rap_10_lyrics_bert = processBertTopics(load_from_disk(path + \"subdataset_10_pop\")['lyrics'][:amount],sentence_transformer)\n",
    "    rap_20_lyrics_bert = processBertTopics(load_from_disk(path + \"subdataset_20_pop\")['lyrics'][:amount],sentence_transformer)\n",
    "    \n",
    "    \n",
    "    \n",
    "\n",
    "    list_of_lyrics_bert = {\n",
    "        \"70s\": rap_70_lyrics_bert,\n",
    "        \"80s\": rap_80_lyrics_bert,\n",
    "        \"90s\": rap_90_lyrics_bert,\n",
    "        \"00s\": rap_00_lyrics_bert,\n",
    "        \"10s\": rap_10_lyrics_bert,\n",
    "        \"20s\": rap_20_lyrics_bert,\n",
    "    }\n",
    "    end_time = time.time()\n",
    "\n",
    "    amount_of_time = end_time - start_time\n",
    "    \n",
    "    data_for_csv_bert = []\n",
    "    \n",
    "    for decade_name, decade in list_of_lyrics_bert.items():\n",
    "        i = 0\n",
    "        \n",
    "        for topics in decade:\n",
    "            i = i + 1\n",
    "            data_for_csv_bert.append({\n",
    "                \"Method\": \"BERT\",\n",
    "                \"Genre\": \"Rap\",\n",
    "                \"Decade\": decade_name,\n",
    "                \"Topic\": str(decade[topics])\n",
    "            })\n",
    "    data_for_csv_bert.append({\n",
    "                \"Method\": \"TIME\",\n",
    "                \"Genre\": \"TIME\",\n",
    "                \"Decade\": \"TIME\",\n",
    "                \"Topic\": str(amount_of_time)\n",
    "            })\n",
    "    \n",
    "    # Write to csv\n",
    "    path = \"/home/maurice/Dokumente/3rd_Semester_LiU/TDDE16_Projekt/TDDE16_Song_Lyrics_Analysis/Analysis_Folder/BERT/\"\n",
    "   # Datei schreiben\n",
    "    name_of_file = \"topics_pop_BERT_\" + \"MiniLM.csv\"\n",
    "    output_file = os.path.join(path, name_of_file)\n",
    "\n",
    "    with open(output_file, mode='w', newline='', encoding='utf-8') as file:\n",
    "        writer = csv.DictWriter(file, fieldnames=[\"Method\", \"Genre\", \"Decade\", \"Topic\"])\n",
    "        writer.writeheader()  \n",
    "        writer.writerows(data_for_csv_bert) \n",
    "   \n",
    "print(f\"CSV-Datei '{output_file}' wurde erfolgreich erstellt!\")\n",
    "print(\"Done\")\n"
   ]
  },
  {
   "cell_type": "code",
   "execution_count": 182,
   "id": "c70ccbf7-d026-4549-a865-36a22b423889",
   "metadata": {},
   "outputs": [
    {
     "ename": "TypeError",
     "evalue": "Make sure that the iterable only contains strings.",
     "output_type": "error",
     "traceback": [
      "\u001b[0;31m---------------------------------------------------------------------------\u001b[0m",
      "\u001b[0;31mTypeError\u001b[0m                                 Traceback (most recent call last)",
      "Cell \u001b[0;32mIn[182], line 1\u001b[0m\n\u001b[0;32m----> 1\u001b[0m \u001b[43mrun_analytics_bert_different_Sentence_Transformers\u001b[49m\u001b[43m(\u001b[49m\u001b[38;5;241;43m1000\u001b[39;49m\u001b[43m,\u001b[49m\u001b[38;5;124;43m\"\u001b[39;49m\u001b[38;5;124;43mTEST_MIST\u001b[39;49m\u001b[38;5;124;43m\"\u001b[39;49m\u001b[43m,\u001b[49m\u001b[38;5;124;43m\"\u001b[39;49m\u001b[38;5;124;43mall-MiniLM-L6-v2\u001b[39;49m\u001b[38;5;124;43m\"\u001b[39;49m\u001b[43m)\u001b[49m\n",
      "Cell \u001b[0;32mIn[181], line 11\u001b[0m, in \u001b[0;36mrun_analytics_bert_different_Sentence_Transformers\u001b[0;34m(amount_per_iteration, name_of_run, sentence_transformer)\u001b[0m\n\u001b[1;32m      6\u001b[0m amount \u001b[38;5;241m=\u001b[39m amount_per_iteration\n\u001b[1;32m      8\u001b[0m path \u001b[38;5;241m=\u001b[39m \u001b[38;5;124m\"\u001b[39m\u001b[38;5;124m/home/maurice/Dokumente/3rd_Semester_LiU/TDDE16_Projekt/TDDE16_Song_Lyrics_Analysis/Subdatasets/pop/\u001b[39m\u001b[38;5;124m\"\u001b[39m\n\u001b[0;32m---> 11\u001b[0m rap_70_lyrics_bert \u001b[38;5;241m=\u001b[39m \u001b[43mprocessBertTopics\u001b[49m\u001b[43m(\u001b[49m\u001b[43mload_from_disk\u001b[49m\u001b[43m(\u001b[49m\u001b[43mpath\u001b[49m\u001b[43m \u001b[49m\u001b[38;5;241;43m+\u001b[39;49m\u001b[43m \u001b[49m\u001b[38;5;124;43m'\u001b[39;49m\u001b[38;5;124;43msubdataset_70_pop\u001b[39;49m\u001b[38;5;124;43m'\u001b[39;49m\u001b[43m)\u001b[49m\u001b[43m[\u001b[49m\u001b[38;5;124;43m'\u001b[39;49m\u001b[38;5;124;43mlyrics\u001b[39;49m\u001b[38;5;124;43m'\u001b[39;49m\u001b[43m]\u001b[49m\u001b[43m[\u001b[49m\u001b[43m:\u001b[49m\u001b[43mamount\u001b[49m\u001b[43m]\u001b[49m\u001b[43m,\u001b[49m\u001b[43msentence_transformer\u001b[49m\u001b[43m)\u001b[49m\n\u001b[1;32m     12\u001b[0m rap_80_lyrics_bert \u001b[38;5;241m=\u001b[39m processBertTopics(load_from_disk(path \u001b[38;5;241m+\u001b[39m \u001b[38;5;124m\"\u001b[39m\u001b[38;5;124msubdataset_80_pop\u001b[39m\u001b[38;5;124m\"\u001b[39m)[\u001b[38;5;124m'\u001b[39m\u001b[38;5;124mlyrics\u001b[39m\u001b[38;5;124m'\u001b[39m][:amount],sentence_transformer)\n\u001b[1;32m     13\u001b[0m rap_90_lyrics_bert \u001b[38;5;241m=\u001b[39m processBertTopics(load_from_disk(path \u001b[38;5;241m+\u001b[39m \u001b[38;5;124m\"\u001b[39m\u001b[38;5;124msubdataset_90_pop\u001b[39m\u001b[38;5;124m\"\u001b[39m)[\u001b[38;5;124m'\u001b[39m\u001b[38;5;124mlyrics\u001b[39m\u001b[38;5;124m'\u001b[39m][:amount],sentence_transformer)\n",
      "Cell \u001b[0;32mIn[180], line 30\u001b[0m, in \u001b[0;36mprocessBertTopics\u001b[0;34m(dataset, sentenceTransformer)\u001b[0m\n\u001b[1;32m     18\u001b[0m \u001b[38;5;66;03m#without_swear = preprocess(without_repatition)\u001b[39;00m\n\u001b[1;32m     19\u001b[0m \n\u001b[1;32m     20\u001b[0m \u001b[38;5;66;03m#print(type(without_swear))\u001b[39;00m\n\u001b[0;32m   (...)\u001b[0m\n\u001b[1;32m     25\u001b[0m \u001b[38;5;66;03m#classes = [\"war\", \"love\", \"hate\", \"peace\", \"money\", \"family\", \"friends\",\"hate\"]\u001b[39;00m\n\u001b[1;32m     26\u001b[0m \u001b[38;5;66;03m#topics, probs = topic_model.topics_per_class(without_swear,classes)\u001b[39;00m\n\u001b[1;32m     28\u001b[0m tokenized_docs \u001b[38;5;241m=\u001b[39m tokenize_all_docs(without_swear)\n\u001b[0;32m---> 30\u001b[0m topics, probs \u001b[38;5;241m=\u001b[39m \u001b[43mtopic_model\u001b[49m\u001b[38;5;241;43m.\u001b[39;49m\u001b[43mfit_transform\u001b[49m\u001b[43m(\u001b[49m\u001b[43mtokenized_docs\u001b[49m\u001b[43m)\u001b[49m\n\u001b[1;32m     32\u001b[0m \u001b[38;5;66;03m# Ergebnisse\u001b[39;00m\n\u001b[1;32m     33\u001b[0m \u001b[38;5;66;03m#print(\"Themenzuweisung:\", topics)\u001b[39;00m\n\u001b[1;32m     34\u001b[0m \u001b[38;5;66;03m#print(\"Wahrscheinlichkeiten:\", probs)\u001b[39;00m\n\u001b[1;32m     36\u001b[0m str_topic_with_probs \u001b[38;5;241m=\u001b[39m []\n",
      "File \u001b[0;32m~/.local/lib/python3.10/site-packages/bertopic/_bertopic.py:421\u001b[0m, in \u001b[0;36mBERTopic.fit_transform\u001b[0;34m(self, documents, embeddings, images, y)\u001b[0m\n\u001b[1;32m    374\u001b[0m \u001b[38;5;250m\u001b[39m\u001b[38;5;124;03m\"\"\"Fit the models on a collection of documents, generate topics,\u001b[39;00m\n\u001b[1;32m    375\u001b[0m \u001b[38;5;124;03mand return the probabilities and topic per document.\u001b[39;00m\n\u001b[1;32m    376\u001b[0m \n\u001b[0;32m   (...)\u001b[0m\n\u001b[1;32m    418\u001b[0m \u001b[38;5;124;03m```\u001b[39;00m\n\u001b[1;32m    419\u001b[0m \u001b[38;5;124;03m\"\"\"\u001b[39;00m\n\u001b[1;32m    420\u001b[0m \u001b[38;5;28;01mif\u001b[39;00m documents \u001b[38;5;129;01mis\u001b[39;00m \u001b[38;5;129;01mnot\u001b[39;00m \u001b[38;5;28;01mNone\u001b[39;00m:\n\u001b[0;32m--> 421\u001b[0m     \u001b[43mcheck_documents_type\u001b[49m\u001b[43m(\u001b[49m\u001b[43mdocuments\u001b[49m\u001b[43m)\u001b[49m\n\u001b[1;32m    422\u001b[0m     check_embeddings_shape(embeddings, documents)\n\u001b[1;32m    424\u001b[0m doc_ids \u001b[38;5;241m=\u001b[39m \u001b[38;5;28mrange\u001b[39m(\u001b[38;5;28mlen\u001b[39m(documents)) \u001b[38;5;28;01mif\u001b[39;00m documents \u001b[38;5;129;01mis\u001b[39;00m \u001b[38;5;129;01mnot\u001b[39;00m \u001b[38;5;28;01mNone\u001b[39;00m \u001b[38;5;28;01melse\u001b[39;00m \u001b[38;5;28mrange\u001b[39m(\u001b[38;5;28mlen\u001b[39m(images))\n",
      "File \u001b[0;32m~/.local/lib/python3.10/site-packages/bertopic/_utils.py:46\u001b[0m, in \u001b[0;36mcheck_documents_type\u001b[0;34m(documents)\u001b[0m\n\u001b[1;32m     44\u001b[0m \u001b[38;5;28;01melif\u001b[39;00m \u001b[38;5;28misinstance\u001b[39m(documents, Iterable) \u001b[38;5;129;01mand\u001b[39;00m \u001b[38;5;129;01mnot\u001b[39;00m \u001b[38;5;28misinstance\u001b[39m(documents, \u001b[38;5;28mstr\u001b[39m):\n\u001b[1;32m     45\u001b[0m     \u001b[38;5;28;01mif\u001b[39;00m \u001b[38;5;129;01mnot\u001b[39;00m \u001b[38;5;28many\u001b[39m([\u001b[38;5;28misinstance\u001b[39m(doc, \u001b[38;5;28mstr\u001b[39m) \u001b[38;5;28;01mfor\u001b[39;00m doc \u001b[38;5;129;01min\u001b[39;00m documents]):\n\u001b[0;32m---> 46\u001b[0m         \u001b[38;5;28;01mraise\u001b[39;00m \u001b[38;5;167;01mTypeError\u001b[39;00m(\u001b[38;5;124m\"\u001b[39m\u001b[38;5;124mMake sure that the iterable only contains strings.\u001b[39m\u001b[38;5;124m\"\u001b[39m)\n\u001b[1;32m     47\u001b[0m \u001b[38;5;28;01melse\u001b[39;00m:\n\u001b[1;32m     48\u001b[0m     \u001b[38;5;28;01mraise\u001b[39;00m \u001b[38;5;167;01mTypeError\u001b[39;00m(\u001b[38;5;124m\"\u001b[39m\u001b[38;5;124mMake sure that the documents variable is an iterable containing strings only.\u001b[39m\u001b[38;5;124m\"\u001b[39m)\n",
      "\u001b[0;31mTypeError\u001b[0m: Make sure that the iterable only contains strings."
     ]
    }
   ],
   "source": [
    "run_analytics_bert_different_Sentence_Transformers(1000,\"TEST_MIST\",\"all-MiniLM-L6-v2\")"
   ]
  },
  {
   "cell_type": "code",
   "execution_count": null,
   "id": "37030031",
   "metadata": {},
   "outputs": [],
   "source": []
  }
 ],
 "metadata": {
  "kernelspec": {
   "display_name": "Python 3 (ipykernel)",
   "language": "python",
   "name": "python3"
  },
  "language_info": {
   "codemirror_mode": {
    "name": "ipython",
    "version": 3
   },
   "file_extension": ".py",
   "mimetype": "text/x-python",
   "name": "python",
   "nbconvert_exporter": "python",
   "pygments_lexer": "ipython3",
   "version": "3.10.12"
  }
 },
 "nbformat": 4,
 "nbformat_minor": 5
}
