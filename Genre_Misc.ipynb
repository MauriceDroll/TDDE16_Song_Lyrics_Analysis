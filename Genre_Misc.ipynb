{
 "cells": [
  {
   "cell_type": "markdown",
   "id": "6c664878-4aea-49c8-bdcd-0c6a10e83c42",
   "metadata": {},
   "source": [
    "<h1> GENRE: POP </h1>"
   ]
  },
  {
   "cell_type": "markdown",
   "id": "fb58b5aa-e4aa-47ea-8de6-39736199bc11",
   "metadata": {},
   "source": [
    "<h3>(1) Access the data from the dataset </h3>\n"
   ]
  },
  {
   "cell_type": "code",
   "execution_count": 1,
   "id": "c36f509d-632c-432c-853f-e7dfee496973",
   "metadata": {},
   "outputs": [],
   "source": [
    "%%capture\n",
    "%pip install datasets\n",
    "\n",
    "from datasets import load_dataset\n",
    "\n",
    "ds = load_dataset(\"sebastiandizon/genius-song-lyrics\")"
   ]
  },
  {
   "cell_type": "code",
   "execution_count": 2,
   "id": "19708af4",
   "metadata": {},
   "outputs": [
    {
     "data": {
      "application/vnd.jupyter.widget-view+json": {
       "model_id": "84c1081b901e463cbd193d798cc0a49d",
       "version_major": 2,
       "version_minor": 0
      },
      "text/plain": [
       "Saving the dataset (0/1 shards):   0%|          | 0/1000 [00:00<?, ? examples/s]"
      ]
     },
     "metadata": {},
     "output_type": "display_data"
    },
    {
     "data": {
      "application/vnd.jupyter.widget-view+json": {
       "model_id": "154925aa18464c249ef1aeaf07dc9fec",
       "version_major": 2,
       "version_minor": 0
      },
      "text/plain": [
       "Saving the dataset (0/1 shards):   0%|          | 0/1000 [00:00<?, ? examples/s]"
      ]
     },
     "metadata": {},
     "output_type": "display_data"
    },
    {
     "data": {
      "application/vnd.jupyter.widget-view+json": {
       "model_id": "c228592596da4c65915e423dff56b3dc",
       "version_major": 2,
       "version_minor": 0
      },
      "text/plain": [
       "Saving the dataset (0/1 shards):   0%|          | 0/1000 [00:00<?, ? examples/s]"
      ]
     },
     "metadata": {},
     "output_type": "display_data"
    },
    {
     "data": {
      "application/vnd.jupyter.widget-view+json": {
       "model_id": "7674939ef9de4cfb85685f65bae4f58f",
       "version_major": 2,
       "version_minor": 0
      },
      "text/plain": [
       "Saving the dataset (0/1 shards):   0%|          | 0/1000 [00:00<?, ? examples/s]"
      ]
     },
     "metadata": {},
     "output_type": "display_data"
    },
    {
     "data": {
      "application/vnd.jupyter.widget-view+json": {
       "model_id": "b5d8488f88484c389f282462c581b88f",
       "version_major": 2,
       "version_minor": 0
      },
      "text/plain": [
       "Saving the dataset (0/1 shards):   0%|          | 0/1000 [00:00<?, ? examples/s]"
      ]
     },
     "metadata": {},
     "output_type": "display_data"
    },
    {
     "data": {
      "application/vnd.jupyter.widget-view+json": {
       "model_id": "c561a8d1f872416995fb95d6d70e9cb4",
       "version_major": 2,
       "version_minor": 0
      },
      "text/plain": [
       "Saving the dataset (0/1 shards):   0%|          | 0/1000 [00:00<?, ? examples/s]"
      ]
     },
     "metadata": {},
     "output_type": "display_data"
    }
   ],
   "source": [
    "import heapq\n",
    "from datasets import Dataset\n",
    "type_of_music= 'misc'\n",
    "TOP_K = 1000\n",
    "decade_heaps = {70: [], 80: [], 90: [], 00: [], 10:[], 20:[]}  # z.B. 70=70er, 0=00er etc.\n",
    "\n",
    "def get_decade(year):\n",
    "    if 1970 <= year <= 1979:\n",
    "        return 70\n",
    "    elif 1980 <= year <= 1989:\n",
    "        return 80\n",
    "    elif 1990 <= year <= 1999:\n",
    "        return 90\n",
    "    elif 2000 <= year <= 2009:\n",
    "        return 00\n",
    "    elif 2010 <= year <= 2019:\n",
    "        return 10\n",
    "    elif 2020 <= year <= 2029:\n",
    "        return 20\n",
    "    return None\n",
    "\n",
    "i = 0  # Zähler für tie-break\n",
    "for song in ds[\"train\"]:\n",
    "    if song[\"tag\"] != type_of_music:\n",
    "        continue\n",
    "    elif song[\"language\"] != \"en\":\n",
    "        continue\n",
    "    dec = get_decade(song[\"year\"])\n",
    "    if dec is None:\n",
    "        continue\n",
    "\n",
    "    views = song[\"views\"]\n",
    "    heap = decade_heaps[dec]\n",
    "\n",
    "    # Das Tupel enthält jetzt (views, i, song).\n",
    "    # Der zweite Wert i ist rein für Tie-Break (und garantiert sortierbar).\n",
    "    if len(heap) < TOP_K:\n",
    "        heapq.heappush(heap, (views, i, song))\n",
    "    else:\n",
    "        # Vergleiche nur, ob aktuelle views (oder Tie-Break i) größer sind \n",
    "        # als das Minimum im Heap (heap[0]).\n",
    "        if (views, i) > (heap[0][0], heap[0][1]):\n",
    "            heapq.heapreplace(heap, (views, i, song))\n",
    "    i += 1\n",
    "\n",
    "# Am Ende hat jede Dekade max. 1000 Elemente.\n",
    "decade_toplists = {}\n",
    "for dec, heap in decade_heaps.items():\n",
    "    # Sortieren nach (views, i) absteigend.\n",
    "    # Falls dir der Index egal ist, kannst du einfach nur nach views sortieren.\n",
    "    sorted_heap = sorted(heap, key=lambda x: (x[0], x[1]), reverse=True)\n",
    "    # x[0] = views, x[1] = tie-break index, x[2] = song\n",
    "    songs_only = [item[2] for item in sorted_heap]\n",
    "    decade_toplists[dec] = songs_only\n",
    "\n",
    "# Optional: zu HF Dataset konvertieren\n",
    "subdataset_70 = Dataset.from_list(decade_toplists[70])\n",
    "subdataset_80 = Dataset.from_list(decade_toplists[80])\n",
    "subdataset_90 = Dataset.from_list(decade_toplists[90])\n",
    "subdataset_00 = Dataset.from_list(decade_toplists[00])\n",
    "subdataset_10 = Dataset.from_list(decade_toplists[10])\n",
    "subdataset_20 = Dataset.from_list(decade_toplists[20])\n",
    "\n",
    "path = \"/home/maurice/Dokumente/3rd_Semester_LiU/TDDE16_Projekt/TDDE16_Song_Lyrics_Analysis/\"\n",
    "# Save to hard drive\n",
    "subdataset_70.save_to_disk(path + \"/Subdatasets/misc/subdataset_70_misc\")\n",
    "subdataset_80.save_to_disk(path + \"/Subdatasets/misc/subdataset_80_misc\")\n",
    "subdataset_90.save_to_disk(path + \"/Subdatasets/misc/subdataset_90_misc\")\n",
    "subdataset_00.save_to_disk(path + \"/Subdatasets/misc/subdataset_00_misc\")\n",
    "subdataset_10.save_to_disk(path + \"/Subdatasets/misc/subdataset_10_misc\")\n",
    "subdataset_20.save_to_disk(path + \"/Subdatasets/misc/subdataset_20_misc\")"
   ]
  },
  {
   "cell_type": "code",
   "execution_count": 4,
   "id": "63b8c7fe",
   "metadata": {},
   "outputs": [
    {
     "data": {
      "application/vnd.jupyter.widget-view+json": {
       "model_id": "c471fac1f7654989b76427ea58f1fab5",
       "version_major": 2,
       "version_minor": 0
      },
      "text/plain": [
       "Saving the dataset (0/1 shards):   0%|          | 0/1000 [00:00<?, ? examples/s]"
      ]
     },
     "metadata": {},
     "output_type": "display_data"
    },
    {
     "data": {
      "application/vnd.jupyter.widget-view+json": {
       "model_id": "c46ff212a75945eeb5f48277f93ea7df",
       "version_major": 2,
       "version_minor": 0
      },
      "text/plain": [
       "Saving the dataset (0/1 shards):   0%|          | 0/1000 [00:00<?, ? examples/s]"
      ]
     },
     "metadata": {},
     "output_type": "display_data"
    },
    {
     "data": {
      "application/vnd.jupyter.widget-view+json": {
       "model_id": "41ae4a53947d441fa5fc74adde7e83c6",
       "version_major": 2,
       "version_minor": 0
      },
      "text/plain": [
       "Saving the dataset (0/1 shards):   0%|          | 0/1000 [00:00<?, ? examples/s]"
      ]
     },
     "metadata": {},
     "output_type": "display_data"
    },
    {
     "data": {
      "application/vnd.jupyter.widget-view+json": {
       "model_id": "3e0f2db77a104b1b9692bbc99f57a6ae",
       "version_major": 2,
       "version_minor": 0
      },
      "text/plain": [
       "Saving the dataset (0/1 shards):   0%|          | 0/1000 [00:00<?, ? examples/s]"
      ]
     },
     "metadata": {},
     "output_type": "display_data"
    },
    {
     "data": {
      "application/vnd.jupyter.widget-view+json": {
       "model_id": "192d2b2c0aca4998b8db5348eadb89e1",
       "version_major": 2,
       "version_minor": 0
      },
      "text/plain": [
       "Saving the dataset (0/1 shards):   0%|          | 0/1000 [00:00<?, ? examples/s]"
      ]
     },
     "metadata": {},
     "output_type": "display_data"
    },
    {
     "data": {
      "application/vnd.jupyter.widget-view+json": {
       "model_id": "88284ff1e9f54b6984dd59cd0830bda5",
       "version_major": 2,
       "version_minor": 0
      },
      "text/plain": [
       "Saving the dataset (0/1 shards):   0%|          | 0/1000 [00:00<?, ? examples/s]"
      ]
     },
     "metadata": {},
     "output_type": "display_data"
    }
   ],
   "source": [
    "path = \"/home/maurice/Dokumente/3rd_Semester_LiU/TDDE16_Projekt/TDDE16_Song_Lyrics_Analysis/\"\n",
    "# Save to hard drive\n",
    "subdataset_70.save_to_disk(path + \"/Subdatasets/misc/subdataset_70_misc\")\n",
    "subdataset_80.save_to_disk(path + \"/Subdatasets/misc/subdataset_80_misc\")\n",
    "subdataset_90.save_to_disk(path + \"/Subdatasets/misc/subdataset_90_misc\")\n",
    "subdataset_00.save_to_disk(path + \"/Subdatasets/misc/subdataset_00_misc\")\n",
    "subdataset_10.save_to_disk(path + \"/Subdatasets/misc/subdataset_10_misc\")\n",
    "subdataset_20.save_to_disk(path + \"/Subdatasets/misc/subdataset_20_misc\")"
   ]
  },
  {
   "cell_type": "markdown",
   "id": "1eca33b8-ff6c-4ab3-aae9-8de32db0f00e",
   "metadata": {},
   "source": [
    "<h2> LDA </h2>"
   ]
  },
  {
   "cell_type": "markdown",
   "id": "ba6c1930-379d-4c13-8378-0c7e31382765",
   "metadata": {},
   "source": [
    "<h2> Remove the bad words</h2>"
   ]
  },
  {
   "cell_type": "code",
   "execution_count": 1,
   "id": "e0155b7f",
   "metadata": {},
   "outputs": [
    {
     "ename": "NameError",
     "evalue": "name 'subdataset_00' is not defined",
     "output_type": "error",
     "traceback": [
      "\u001b[0;31m---------------------------------------------------------------------------\u001b[0m",
      "\u001b[0;31mNameError\u001b[0m                                 Traceback (most recent call last)",
      "Cell \u001b[0;32mIn[1], line 1\u001b[0m\n\u001b[0;32m----> 1\u001b[0m \u001b[43msubdataset_00\u001b[49m[\u001b[38;5;241m1\u001b[39m]\n",
      "\u001b[0;31mNameError\u001b[0m: name 'subdataset_00' is not defined"
     ]
    }
   ],
   "source": [
    "subdataset_00[1]"
   ]
  },
  {
   "cell_type": "code",
   "execution_count": 3,
   "id": "fc19c9ee-4499-49cb-ba77-32ff6fa3fb0c",
   "metadata": {},
   "outputs": [
    {
     "name": "stdout",
     "output_type": "stream",
     "text": [
      "Path to dataset files: /home/maurice/.cache/kagglehub/datasets/sahib12/badwords/versions/1\n",
      "!!!!Loaded 2130 swear words.\n",
      "Done\n"
     ]
    }
   ],
   "source": [
    "import kagglehub\n",
    "import os\n",
    "\n",
    "# Download latest version\n",
    "path = kagglehub.dataset_download(\"tushifire/ldnoobw\")\n",
    "path = kagglehub.dataset_download(\"sahib12/badwords\")\n",
    "\n",
    "#file = kagglehub.load_dataset(\"tushifire/ldnoobw\",path)\n",
    "\n",
    "print(\"Path to dataset files:\", path)\n",
    "\n",
    "swear_words_file = os.path.join(path, 'Terms-to-Block.csv')  # Replace 'en.txt' with the correct filename\n",
    "\n",
    "with open(swear_words_file, 'r') as f:\n",
    "    swear_words = set(f.read().splitlines())\n",
    "\n",
    "print(f\"!!!!Loaded {len(swear_words)} swear words.\")\n",
    "\n",
    "#print(swear_words)\n",
    "print(\"Done\")\n"
   ]
  },
  {
   "cell_type": "code",
   "execution_count": 4,
   "id": "cecd6a07-2735-4e22-8936-6201e2f4454e",
   "metadata": {},
   "outputs": [
    {
     "name": "stdout",
     "output_type": "stream",
     "text": [
      "Stopwords: {\"mightn't\", 'ourselves', 'do', 'll', 'chorus', 'wasn', 'myself', 'for', 'was', 'most', 'each', 'nor', 'yo', 'can', 'ours', 'shouldn', 'himself', 'during', 'by', 'down', 'further', 'm', \"isn't\", \"wouldn't\", 'hook', 'on', 'am', 'again', 'mightn', \"haven't\", \"you'd\", \"she's\", 'does', 'such', \"doesn't\", 'there', 'be', 'now', 'and', 'from', 'whom', 'no', 'own', \"hadn't\", 'wouldn', 'needn', \"weren't\", 'hasn', 'like', 'more', 'just', \"aren't\", 'then', 'once', 'an', 'same', 'at', 'got', 'me', 'our', \"couldn't\", 'i', 'it', 'what', 'he', 'until', 'after', 'being', \"should've\", 'hadn', 'having', 'of', 'mustn', 'don', 'so', 'here', 'about', 'didn', 'over', 'get', 'or', 'is', 'above', 'in', 'yeah', 'few', 'off', \"don't\", 'theirs', 'had', 'any', \"it's\", 'na', 'you', 'y', 'him', 'other', 'which', 'ain', \"mustn't\", 'hers', 'those', 'with', 'if', 'yourselves', 'not', 'to', 've', 'yours', 'were', 'why', \"hasn't\", 'because', 'up', 'against', 'd', 'aren', 's', \"didn't\", 'isn', 'their', 'shan', 'very', 'should', 'been', 'as', 'doing', \"you'll\", 'my', \"you're\", 'only', 'doesn', 'they', 'where', 'have', \"shouldn't\", 'verse', 'them', 'oh', 'weren', 'itself', 'into', \"needn't\", 'are', 'through', 'we', 'both', 'couldn', 'some', \"shan't\", 'under', 'this', 'she', 'ma', 'haven', 'outro', 'than', 'too', 'his', 'her', 'these', 're', 'will', \"wasn't\", 'themselves', \"that'll\", \"you've\", 'herself', 'all', 'has', 'o', 't', 'your', 'how', \"won't\", 'below', 'out', 'la', 'did', 'intro', 'yourself', 'the', 'but', 'between', 'won', 'while', 'its', 'when', 'a', 'before', 'that', 'who', 'bridge'}\n"
     ]
    },
    {
     "name": "stderr",
     "output_type": "stream",
     "text": [
      "[nltk_data] Downloading package stopwords to\n",
      "[nltk_data]     /home/maurice/nltk_data...\n",
      "[nltk_data]   Package stopwords is already up-to-date!\n",
      "[nltk_data] Downloading package punkt to /home/maurice/nltk_data...\n",
      "[nltk_data]   Package punkt is already up-to-date!\n"
     ]
    }
   ],
   "source": [
    "import gensim\n",
    "import re\n",
    "from gensim.corpora.dictionary import Dictionary\n",
    "from nltk.corpus import stopwords\n",
    "from nltk.tokenize import word_tokenize\n",
    "import nltk\n",
    "from gensim.parsing.preprocessing import remove_stopwords\n",
    "\n",
    "# Sicherstellen, dass NLTK-Daten heruntergeladen sind\n",
    "nltk.download('stopwords')\n",
    "nltk.download('punkt')\n",
    "\n",
    "# Beispiel-Liste von Strings\n",
    "\n",
    "\n",
    "# Stopwords definieren\n",
    "stop_words = set(stopwords.words('english')+[\"like\", \"oh\", \"na\", \"la\", \"yo\", \"get\", \"yeah\", \"got\",\"verse\", \"chorus\", \"hook\", \"bridge\", \"outro\", \"intro\"])\n",
    "print(\"Stopwords:\", stop_words)\n",
    "# Preprocessing: Tokenisieren, Stopwords entfernen, Kleinbuchstaben\n",
    "def preprocess(doc):\n",
    "    doc = re.sub(r\"[^a-zA-Z0-9\\s]\", \" \", doc) # delete unncessary things\n",
    "    #doc = remove_stopwords(doc.lower())\n",
    "    doc = remove_repeated_lines(doc)\n",
    "    \n",
    "    tokens = word_tokenize(doc.lower())  # Kleinbuchstaben und Tokenisierung\n",
    "    \n",
    "    tokens = [word for word in tokens if word not in stop_words]  # Stopwords entfernen\n",
    "    \n",
    "    return tokens\n",
    "\n",
    "def remove_repeated_lines(doc):\n",
    "    lines = doc.split(\"\\n\")\n",
    "    return \"\\n\".join(sorted(set(lines), key=lines.index))\n",
    "\n",
    "def sort_out_bad_words(doc,word_list, replacement=\" \"):\n",
    "    \"\"\"\n",
    "    Ersetzt Wörter in einem Text, wenn sie in einer Liste vorkommen.\n",
    "    \n",
    "    :param text: Der Eingabetext (String).\n",
    "    :param word_list: Liste der Wörter, die ersetzt werden sollen.\n",
    "    :param replacement: Der Text, durch den die Wörter ersetzt werden sollen.\n",
    "    :return: Der bearbeitete Text.\n",
    "    \"\"\"\n",
    "    # Erstelle ein Set für einen schnelleren Lookup\n",
    "    word_set = set(word_list)\n",
    "    \n",
    "    # Splitte den Text in Wörter\n",
    "    words = doc.split()\n",
    "    \n",
    "    # Ersetze jedes Wort, falls es in der Liste vorkommt\n",
    "    replaced_words = [replacement if word.lower() in word_set else word for word in words]\n",
    "    \n",
    "    # Füge den Text wieder zusammen\n",
    "    return \" \".join(replaced_words)\n",
    " \n",
    "\n",
    "def process_subdatasets(subdataset):\n",
    "    # Get rid of the bad words and replace it with \"swear word\"\n",
    "    without_swear = [sort_out_bad_words(doc, swear_words ) for doc in subdataset]\n",
    "\n",
    "    # Preprocessing für alle Dokumente anwenden\n",
    "    processed_docs = [preprocess(doc) for doc in without_swear]\n",
    "\n",
    "    if stop_words in processed_docs:\n",
    "        print(\"FEHLER: Stopwords nicht entfernt!\")\n",
    "        \n",
    "    # Erstellen eines Wörterbuchs\n",
    "    dictionary = Dictionary(processed_docs)\n",
    "\n",
    "    # Erstellen eines Bag-of-Words-Korpus\n",
    "    corpus = [dictionary.doc2bow(doc) for doc in processed_docs]\n",
    "\n",
    "    # LDA-Modell trainieren\n",
    "    lda_model = gensim.models.LdaModel(\n",
    "        corpus=corpus,\n",
    "        id2word=dictionary,\n",
    "        num_topics=5,  # Anzahl der Themen\n",
    "        random_state=42,\n",
    "        passes=40,  # Anzahl der Durchgänge\n",
    "        alpha='symmetric',\n",
    "        eta='auto'\n",
    "        #alpha='auto'  # Dirichlet-Hyperparameter Entscheidung zwischen Auto und symetric\n",
    "    )\n",
    "    \n",
    "    id2word = dictionary\n",
    "    dict_topic = {}\n",
    "    # Themen anzeigen\n",
    "    #print(\"Themen und ihre Schlüsselwörter:\")\n",
    "    for idx, topic in lda_model.print_topics(num_words=5):\n",
    "        #print(f\"Topic {idx}: {topic}\")\n",
    "        dict_topic[idx] = topic \n",
    "\n",
    "    return dict_topic\n"
   ]
  },
  {
   "cell_type": "code",
   "execution_count": 5,
   "id": "750121e6-67ce-4d46-bfb2-08910881b4c9",
   "metadata": {},
   "outputs": [
    {
     "ename": "FileNotFoundError",
     "evalue": "[Errno 2] No such file or directory: '/home/maurice/Dokumente/3rd_Semester_LiU/TDDE16_Projekt/TDDE16_Song_Lyrics_Analysis/Analysis_Folder/LDA/topics_misc_LDA.csv'",
     "output_type": "error",
     "traceback": [
      "\u001b[0;31m---------------------------------------------------------------------------\u001b[0m",
      "\u001b[0;31mFileNotFoundError\u001b[0m                         Traceback (most recent call last)",
      "Cell \u001b[0;32mIn[5], line 41\u001b[0m\n\u001b[1;32m     39\u001b[0m \u001b[38;5;66;03m# Datei schreiben\u001b[39;00m\n\u001b[1;32m     40\u001b[0m output_file \u001b[38;5;241m=\u001b[39m path \u001b[38;5;241m+\u001b[39m \u001b[38;5;124m\"\u001b[39m\u001b[38;5;124mAnalysis_Folder/LDA/topics_misc_LDA.csv\u001b[39m\u001b[38;5;124m\"\u001b[39m\n\u001b[0;32m---> 41\u001b[0m \u001b[38;5;28;01mwith\u001b[39;00m \u001b[38;5;28;43mopen\u001b[39;49m\u001b[43m(\u001b[49m\u001b[43moutput_file\u001b[49m\u001b[43m,\u001b[49m\u001b[43m \u001b[49m\u001b[43mmode\u001b[49m\u001b[38;5;241;43m=\u001b[39;49m\u001b[38;5;124;43m'\u001b[39;49m\u001b[38;5;124;43mw\u001b[39;49m\u001b[38;5;124;43m'\u001b[39;49m\u001b[43m,\u001b[49m\u001b[43m \u001b[49m\u001b[43mnewline\u001b[49m\u001b[38;5;241;43m=\u001b[39;49m\u001b[38;5;124;43m'\u001b[39;49m\u001b[38;5;124;43m'\u001b[39;49m\u001b[43m,\u001b[49m\u001b[43m \u001b[49m\u001b[43mencoding\u001b[49m\u001b[38;5;241;43m=\u001b[39;49m\u001b[38;5;124;43m'\u001b[39;49m\u001b[38;5;124;43mutf-8\u001b[39;49m\u001b[38;5;124;43m'\u001b[39;49m\u001b[43m)\u001b[49m \u001b[38;5;28;01mas\u001b[39;00m file:\n\u001b[1;32m     42\u001b[0m     writer \u001b[38;5;241m=\u001b[39m csv\u001b[38;5;241m.\u001b[39mDictWriter(file, fieldnames\u001b[38;5;241m=\u001b[39m[\u001b[38;5;124m\"\u001b[39m\u001b[38;5;124mMethod\u001b[39m\u001b[38;5;124m\"\u001b[39m, \u001b[38;5;124m\"\u001b[39m\u001b[38;5;124mGenre\u001b[39m\u001b[38;5;124m\"\u001b[39m, \u001b[38;5;124m\"\u001b[39m\u001b[38;5;124mDecade\u001b[39m\u001b[38;5;124m\"\u001b[39m, \u001b[38;5;124m\"\u001b[39m\u001b[38;5;124mTopic\u001b[39m\u001b[38;5;124m\"\u001b[39m])\n\u001b[1;32m     43\u001b[0m     writer\u001b[38;5;241m.\u001b[39mwriteheader()  \n",
      "File \u001b[0;32m~/.local/lib/python3.10/site-packages/IPython/core/interactiveshell.py:310\u001b[0m, in \u001b[0;36m_modified_open\u001b[0;34m(file, *args, **kwargs)\u001b[0m\n\u001b[1;32m    303\u001b[0m \u001b[38;5;28;01mif\u001b[39;00m file \u001b[38;5;129;01min\u001b[39;00m {\u001b[38;5;241m0\u001b[39m, \u001b[38;5;241m1\u001b[39m, \u001b[38;5;241m2\u001b[39m}:\n\u001b[1;32m    304\u001b[0m     \u001b[38;5;28;01mraise\u001b[39;00m \u001b[38;5;167;01mValueError\u001b[39;00m(\n\u001b[1;32m    305\u001b[0m         \u001b[38;5;124mf\u001b[39m\u001b[38;5;124m\"\u001b[39m\u001b[38;5;124mIPython won\u001b[39m\u001b[38;5;124m'\u001b[39m\u001b[38;5;124mt let you open fd=\u001b[39m\u001b[38;5;132;01m{\u001b[39;00mfile\u001b[38;5;132;01m}\u001b[39;00m\u001b[38;5;124m by default \u001b[39m\u001b[38;5;124m\"\u001b[39m\n\u001b[1;32m    306\u001b[0m         \u001b[38;5;124m\"\u001b[39m\u001b[38;5;124mas it is likely to crash IPython. If you know what you are doing, \u001b[39m\u001b[38;5;124m\"\u001b[39m\n\u001b[1;32m    307\u001b[0m         \u001b[38;5;124m\"\u001b[39m\u001b[38;5;124myou can use builtins\u001b[39m\u001b[38;5;124m'\u001b[39m\u001b[38;5;124m open.\u001b[39m\u001b[38;5;124m\"\u001b[39m\n\u001b[1;32m    308\u001b[0m     )\n\u001b[0;32m--> 310\u001b[0m \u001b[38;5;28;01mreturn\u001b[39;00m \u001b[43mio_open\u001b[49m\u001b[43m(\u001b[49m\u001b[43mfile\u001b[49m\u001b[43m,\u001b[49m\u001b[43m \u001b[49m\u001b[38;5;241;43m*\u001b[39;49m\u001b[43margs\u001b[49m\u001b[43m,\u001b[49m\u001b[43m \u001b[49m\u001b[38;5;241;43m*\u001b[39;49m\u001b[38;5;241;43m*\u001b[39;49m\u001b[43mkwargs\u001b[49m\u001b[43m)\u001b[49m\n",
      "\u001b[0;31mFileNotFoundError\u001b[0m: [Errno 2] No such file or directory: '/home/maurice/Dokumente/3rd_Semester_LiU/TDDE16_Projekt/TDDE16_Song_Lyrics_Analysis/Analysis_Folder/LDA/topics_misc_LDA.csv'"
     ]
    }
   ],
   "source": [
    "amount = 1000\n",
    "from datasets import load_from_disk\n",
    "\n",
    "path = \"/home/maurice/Dokumente/3rd_Semester_LiU/TDDE16_Projekt/TDDE16_Song_Lyrics_Analysis/Subdatasets/misc/\"\n",
    "\n",
    "\n",
    "rock_70_lyrics = process_subdatasets(load_from_disk(path + 'subdataset_70_misc')['lyrics'][:amount])\n",
    "rock_80_lyrics = process_subdatasets(load_from_disk(path + \"subdataset_80_misc\")['lyrics'][:amount])\n",
    "rock_90_lyrics = process_subdatasets(load_from_disk(path + \"subdataset_90_misc\")['lyrics'][:amount])\n",
    "rock_00_lyrics = process_subdatasets(load_from_disk(path + \"subdataset_00_misc\")['lyrics'][:amount])\n",
    "rock_10_lyrics = process_subdatasets(load_from_disk(path + \"subdataset_10_misc\")['lyrics'][:amount])\n",
    "rock_20_lyrics = process_subdatasets(load_from_disk(path + \"subdataset_20_misc\")['lyrics'][:amount])\n",
    "\n",
    "list_of_lyrics = {\n",
    "    \"70s\": rock_70_lyrics,\n",
    "    \"80s\": rock_80_lyrics,\n",
    "    \"90s\": rock_90_lyrics,\n",
    "    \"00s\": rock_00_lyrics,\n",
    "    \"10s\": rock_10_lyrics,\n",
    "    \"20s\": rock_20_lyrics\n",
    "}\n",
    "\n",
    "import csv\n",
    "\n",
    "data_for_csv = []\n",
    "\n",
    "for decade_name, decade in list_of_lyrics.items():\n",
    "    i = 0\n",
    "    for topics in decade:\n",
    "        i = i + 1\n",
    "        data_for_csv.append({\n",
    "            \"Method\": \"LDA\",\n",
    "            \"Genre\": \"Rock\",\n",
    "            \"Decade\": decade_name,\n",
    "            \"Topic\": str(decade[topics])\n",
    "        })\n",
    "\n",
    "path = \"/home/maurice/Dokumente/3rd_Semester_LiU/TDDE16_Projekt/TDDE16_Song_Lyrics_Analysis/\"\n",
    "# Datei schreiben\n",
    "output_file = path + \"Analysis_Folder/LDA/topics_misc_LDA.csv\"\n",
    "with open(output_file, mode='w', newline='', encoding='utf-8') as file:\n",
    "    writer = csv.DictWriter(file, fieldnames=[\"Method\", \"Genre\", \"Decade\", \"Topic\"])\n",
    "    writer.writeheader()  \n",
    "    writer.writerows(data_for_csv) \n",
    "\n",
    "print(f\"CSV-Datei '{output_file}' wurde erfolgreich erstellt!\")\n"
   ]
  },
  {
   "cell_type": "code",
   "execution_count": 6,
   "id": "1d17fedf-8bf3-4661-b436-4ee4b3361548",
   "metadata": {},
   "outputs": [
    {
     "name": "stdout",
     "output_type": "stream",
     "text": [
      "CSV-Datei '/home/maurice/Dokumente/3rd_Semester_LiU/TDDE16_Projekt/TDDE16_Song_Lyrics_Analysis/Analysis_Folder/topics_misc_LDA.csv' wurde erfolgreich erstellt!\n"
     ]
    }
   ],
   "source": [
    "path = \"/home/maurice/Dokumente/3rd_Semester_LiU/TDDE16_Projekt/TDDE16_Song_Lyrics_Analysis/\"\n",
    "# Datei schreiben\n",
    "output_file = path + \"Analysis_Folder/topics_misc_LDA.csv\"\n",
    "with open(output_file, mode='w', newline='', encoding='utf-8') as file:\n",
    "    writer = csv.DictWriter(file, fieldnames=[\"Method\", \"Genre\", \"Decade\", \"Topic\"])\n",
    "    writer.writeheader()  \n",
    "    writer.writerows(data_for_csv) \n",
    "\n",
    "print(f\"CSV-Datei '{output_file}' wurde erfolgreich erstellt!\")"
   ]
  },
  {
   "cell_type": "markdown",
   "id": "7599b719-6c7e-4a39-a10d-9afa5bf73fc6",
   "metadata": {},
   "source": [
    "# tipps von ChaGPT\n",
    "https://chatgpt.com/c/676f1ffc-b134-8012-9f03-6bd466bda148\n",
    "\n",
    "- Herausfinden, wieviele Topics am geeingesten sind\n",
    "- warum sind weiterhin so viele Stop words enthalten\n",
    "- wieviele Lieder nehm ich überhaupt"
   ]
  },
  {
   "cell_type": "code",
   "execution_count": null,
   "id": "0fe2b480-22d5-4cf4-80e5-a80de53db53d",
   "metadata": {},
   "outputs": [],
   "source": [
    "print(len(subdataset_80))"
   ]
  },
  {
   "cell_type": "code",
   "execution_count": null,
   "id": "082c6e5b-0527-44eb-9dc8-8f963f035875",
   "metadata": {},
   "outputs": [],
   "source": [
    "print(len(subdataset_90))"
   ]
  },
  {
   "cell_type": "markdown",
   "id": "ac41e834-cb3b-42fc-8321-42e4b9050621",
   "metadata": {},
   "source": [
    "<h1> BERT TOPIC MODELLING </h1>\n"
   ]
  },
  {
   "cell_type": "code",
   "execution_count": 11,
   "id": "94fb4e4f-0e6c-4320-8c6a-6ed5dba60686",
   "metadata": {},
   "outputs": [
    {
     "name": "stdout",
     "output_type": "stream",
     "text": [
      "Done\n"
     ]
    },
    {
     "name": "stderr",
     "output_type": "stream",
     "text": [
      "[nltk_data] Downloading package stopwords to\n",
      "[nltk_data]     /home/maurice/nltk_data...\n",
      "[nltk_data]   Package stopwords is already up-to-date!\n",
      "[nltk_data] Downloading package punkt to /home/maurice/nltk_data...\n",
      "[nltk_data]   Package punkt is already up-to-date!\n"
     ]
    }
   ],
   "source": [
    "import gensim\n",
    "import re\n",
    "from gensim.corpora.dictionary import Dictionary\n",
    "from nltk.corpus import stopwords\n",
    "from nltk.tokenize import word_tokenize\n",
    "import nltk\n",
    "from gensim.parsing.preprocessing import remove_stopwords\n",
    "import kagglehub\n",
    "import os\n",
    "\n",
    "\n",
    "# Sicherstellen, dass NLTK-Daten heruntergeladen sind\n",
    "nltk.download('stopwords')\n",
    "nltk.download('punkt')\n",
    "\n",
    "# clean the text\n",
    "import re\n",
    "\n",
    "def clean_text(document_list):\n",
    "    \n",
    "    cleaned_document_list = []\n",
    "    \n",
    "    for single_doc in document_list:\n",
    "        # Delete HTML-Tags\n",
    "        text = re.sub(r\"<.*?>\", \"\", single_doc)\n",
    "        # Delete Sonderzeichen und Zahlen\n",
    "        text = re.sub(r\"[^a-zA-Z\\s]\", \"\", text)\n",
    "        # Delete uncessary whitespaces\n",
    "        text = re.sub(r\"\\s+\", \" \", text).strip()\n",
    "        \n",
    "        # lower case the text\n",
    "        text = text.lower()\n",
    "        \n",
    "        cleaned_document_list.append(text)\n",
    "    \n",
    "    return cleaned_document_list\n",
    "\n",
    "def get_swear_words():\n",
    "\n",
    "    path = kagglehub.dataset_download(\"tushifire/ldnoobw\")\n",
    "    path = kagglehub.dataset_download(\"sahib12/badwords\")\n",
    "\n",
    "    #file = kagglehub.load_dataset(\"tushifire/ldnoobw\",path)\n",
    "\n",
    "    print(\"Path to dataset files:\", path)\n",
    "\n",
    "    swear_words_file = os.path.join(path, 'Terms-to-Block.csv')  # Replace 'en.txt' with the correct filename\n",
    "\n",
    "    with open(swear_words_file, 'r') as f:\n",
    "        swear_words = set(f.read().splitlines())\n",
    "\n",
    "    print(f\"!!!!Loaded {len(swear_words)} swear words.\")\n",
    "\n",
    "    return swear_words\n",
    "\n",
    "# Preprocessing: Tokenisieren, Stopwords entfernen, Kleinbuchstaben\n",
    "def preprocess_stop_words(document_list):\n",
    "    # Stopwords definieren\n",
    "    \n",
    "    stop_words = set(stopwords.words('english'))  # Standard-Stopwords\n",
    "    additional_words = {\"like\", \"oh\", \"na\", \"la\", \"yo\", \"you\", \"get\", \n",
    "                            \"the\", \"and\", \"of\", \"on\", \"[Intro]\", \"[Storyteller]\"}\n",
    "    \n",
    "    swear_words = get_swear_words()\n",
    "      \n",
    "    word_set = stop_words.union(additional_words)\n",
    "    word_set = word_set.union(swear_words)\n",
    "        \n",
    "    replacement = \"\"\n",
    "    list_of_tokens = []\n",
    "    for single_doc in document_list:\n",
    "        # Kombiniere Standard-Stopwords mit zusätzlichen Wörtern\n",
    "\n",
    "        # Splitte den Text in Wörter\n",
    "        words = single_doc.split()\n",
    "        \n",
    "        # Ersetze jedes Wort, falls es in der Liste vorkommt\n",
    "        replaced_words = []\n",
    "        for word in words:\n",
    "            if word.lower() in word_set:\n",
    "                replaced_words.append(replacement)  # Ersetze das Wort\n",
    "            else:\n",
    "                replaced_words.append(word)  # Behalte das Wort\n",
    "        \n",
    "        # Füge den Text wieder zusammen\n",
    "        list_of_tokens.append(str(\" \".join(replaced_words)))\n",
    "              \n",
    "    \n",
    "    return list_of_tokens\n",
    "\n",
    "def remove_repeated_lines(doc):\n",
    "    # doc ist eine Liste von Strings, z.B. [\"Zeile1\", \"Zeile2\", ...]\n",
    "    # Wiederholte Zeilen entfernen und Reihenfolge beibehalten\n",
    "    unique_lines = []\n",
    "    seen = set()\n",
    "    for line in doc:\n",
    "        if line not in seen:\n",
    "            unique_lines.append(line)\n",
    "            seen.add(line)\n",
    "    # Am Ende kannst du wieder eine Liste zurückgeben:\n",
    "    return unique_lines\n",
    "\n",
    "def tokenize_all_docs(document_list):\n",
    "    list_of_tokens = []\n",
    "    \n",
    "    for single_doc in document_list:\n",
    "        \n",
    "        if type(single_doc) == str:\n",
    "            tokens = word_tokenize(single_doc)\n",
    "            list_of_tokens.append(tokens)\n",
    "        else:\n",
    "            print(\"Type von Document\", type(single_doc))\n",
    "            continue\n",
    "    \n",
    "    return list_of_tokens\n",
    "\n",
    "print(\"Done\")\n"
   ]
  },
  {
   "cell_type": "code",
   "execution_count": 12,
   "id": "6970a026-c9cf-4da3-bc7d-8368dfec0fe1",
   "metadata": {},
   "outputs": [
    {
     "name": "stdout",
     "output_type": "stream",
     "text": [
      "Done\n"
     ]
    }
   ],
   "source": [
    "from bertopic import BERTopic\n",
    "from sentence_transformers import SentenceTransformer\n",
    "import csv\n",
    "\n",
    "\n",
    "def processBertTopics(dataset,sentenceTransformer):\n",
    "    i = 0\n",
    "    # Initialize your topic model\n",
    "    #embedding_model = SentenceTransformer(\"all-MiniLM-L6-v2\")\n",
    "    \n",
    "    embedding_model = SentenceTransformer(sentenceTransformer)\n",
    "    topic_model = BERTopic(embedding_model=embedding_model)\n",
    "    # Fit and transform the text data\n",
    "    #without_repatition = remove_repeated_lines(dataset)\n",
    "    \n",
    "    # clean dataset from HTML-Tags, special characters and numbers\n",
    "    cleaned_song_lyrics = clean_text(dataset)\n",
    "    \n",
    "    # Get rid of the bad words and replace it with NOTHING\n",
    "    swear_words = set(stopwords.words('english'))\n",
    "    #without_swear = [sort_out_bad_words(doc) for doc in cleaned_song_lyrics]\n",
    "    \n",
    "    #Deleting the stopwords\n",
    "    without_stop_words = preprocess_stop_words(cleaned_song_lyrics)\n",
    "    \n",
    "    tokenized_docs = tokenize_all_docs(without_stop_words)\n",
    "    \n",
    "    # Convert 2 strings\n",
    "    tokenized_docs = [\" \".join(tokens) for tokens in tokenized_docs]\n",
    "\n",
    "    # Remove empty strings\n",
    "    tokenized_docs = [doc for doc in tokenized_docs if doc]\n",
    "    \n",
    "    # Remove documents with less than 3 words    \n",
    "    #tokenized_docs = [doc for doc in tokenized_docs if len(doc.split()) > 3]\n",
    "    #print(\"tokenized_docs\", tokenized_docs)\n",
    "\n",
    "    if tokenized_docs == [] or len(tokenized_docs) == 0:\n",
    "        i = i+1\n",
    "    else: \n",
    "        topics, probs = topic_model.fit_transform(tokenized_docs)\n",
    "\n",
    "    # Ergebnisse\n",
    "    #print(\"Themenzuweisung:\", topics)\n",
    "    #print(\"Wahrscheinlichkeiten:\", probs)\n",
    "\n",
    "    str_topic_with_probs = []\n",
    "    #for t, p in zip(topics, probs):\n",
    "    #    str_topic_with_probs.append(str(t) + \": \" + str(p))\n",
    "\n",
    "    print(i, \"documents were empty!\")   \n",
    "    return topic_model.get_topics()\n",
    "\n",
    "print(\"Done\")\n"
   ]
  },
  {
   "cell_type": "code",
   "execution_count": 13,
   "id": "ad529d32-bc48-4ec2-b26f-7cb3e1c0ff3d",
   "metadata": {},
   "outputs": [
    {
     "name": "stdout",
     "output_type": "stream",
     "text": [
      "Done\n"
     ]
    }
   ],
   "source": [
    "import time\n",
    "import datetime\n",
    "from datasets import load_from_disk\n",
    "import os\n",
    "def run_analytics_bert_different_Sentence_Transformers(amount_per_iteration,name_of_run, sentence_transformer):\n",
    "\n",
    "    start_time = time.time()\n",
    "    amount = amount_per_iteration\n",
    "\n",
    "    path = \"/home/maurice/Dokumente/3rd_Semester_LiU/TDDE16_Projekt/TDDE16_Song_Lyrics_Analysis/Subdatasets/misc/\"\n",
    "\n",
    "    \n",
    "    rap_70_lyrics_bert = processBertTopics(load_from_disk(path + 'subdataset_70_misc')['lyrics'][:amount],sentence_transformer)\n",
    "    rap_80_lyrics_bert = processBertTopics(load_from_disk(path + \"subdataset_80_misc\")['lyrics'][:amount],sentence_transformer)\n",
    "    rap_90_lyrics_bert = processBertTopics(load_from_disk(path + \"subdataset_90_misc\")['lyrics'][:amount],sentence_transformer)\n",
    "    rap_00_lyrics_bert = processBertTopics(load_from_disk(path + \"subdataset_00_misc\")['lyrics'][:amount],sentence_transformer)\n",
    "    rap_10_lyrics_bert = processBertTopics(load_from_disk(path + \"subdataset_10_misc\")['lyrics'][:amount],sentence_transformer)\n",
    "    rap_20_lyrics_bert = processBertTopics(load_from_disk(path + \"subdataset_20_misc\")['lyrics'][:amount],sentence_transformer)\n",
    "    \n",
    "    \n",
    "    \n",
    "\n",
    "    list_of_lyrics_bert = {\n",
    "        \"70s\": rap_70_lyrics_bert,\n",
    "        \"80s\": rap_80_lyrics_bert,\n",
    "        \"90s\": rap_90_lyrics_bert,\n",
    "        \"00s\": rap_00_lyrics_bert,\n",
    "        \"10s\": rap_10_lyrics_bert,\n",
    "        \"20s\": rap_20_lyrics_bert,\n",
    "    }\n",
    "    end_time = time.time()\n",
    "\n",
    "    amount_of_time = end_time - start_time\n",
    "    \n",
    "    data_for_csv_bert = []\n",
    "    \n",
    "    for decade_name, decade in list_of_lyrics_bert.items():\n",
    "        i = 0\n",
    "        \n",
    "        for topics in decade:\n",
    "            i = i + 1\n",
    "            data_for_csv_bert.append({\n",
    "                \"Method\": \"BERT\",\n",
    "                \"Genre\": \"Misc\",\n",
    "                \"Decade\": decade_name,\n",
    "                \"Topic\": str(decade[topics])\n",
    "            })\n",
    "    data_for_csv_bert.append({\n",
    "                \"Method\": \"TIME\",\n",
    "                \"Genre\": \"TIME\",\n",
    "                \"Decade\": \"TIME\",\n",
    "                \"Topic\": str(amount_of_time)\n",
    "            })\n",
    "    \n",
    "    # Write to csv\n",
    "    now = datetime.datetime.now()\n",
    "    path = \"/home/maurice/Dokumente/3rd_Semester_LiU/TDDE16_Projekt/TDDE16_Song_Lyrics_Analysis/Analysis_Folder/BERT/Misc/\"\n",
    "    \n",
    "    # Datei schreiben\n",
    "    name_of_file = \"topics_misc_BERT_\" + \"6\"+\":\"+ \"16\"+ \":50\" + \"_MiniLM.csv\"\n",
    "    output_file = os.path.join(path, name_of_file)\n",
    "    \n",
    "\n",
    "    with open(output_file, mode='w', newline='', encoding='utf-8') as file:\n",
    "        writer = csv.DictWriter(file, fieldnames=[\"Method\", \"Genre\", \"Decade\", \"Topic\"])\n",
    "        writer.writeheader()  \n",
    "        writer.writerows(data_for_csv_bert) \n",
    "   \n",
    "    print(f\"CSV-Datei '{output_file}' wurde erfolgreich erstellt!\")\n",
    "print(\"Done\")\n"
   ]
  },
  {
   "cell_type": "code",
   "execution_count": 14,
   "id": "c70ccbf7-d026-4549-a865-36a22b423889",
   "metadata": {},
   "outputs": [
    {
     "name": "stdout",
     "output_type": "stream",
     "text": [
      "Path to dataset files: /home/maurice/.cache/kagglehub/datasets/sahib12/badwords/versions/1\n",
      "!!!!Loaded 2130 swear words.\n",
      "0 documents were empty!\n",
      "Path to dataset files: /home/maurice/.cache/kagglehub/datasets/sahib12/badwords/versions/1\n",
      "!!!!Loaded 2130 swear words.\n",
      "0 documents were empty!\n",
      "Path to dataset files: /home/maurice/.cache/kagglehub/datasets/sahib12/badwords/versions/1\n",
      "!!!!Loaded 2130 swear words.\n",
      "0 documents were empty!\n",
      "Path to dataset files: /home/maurice/.cache/kagglehub/datasets/sahib12/badwords/versions/1\n",
      "!!!!Loaded 2130 swear words.\n",
      "0 documents were empty!\n",
      "Path to dataset files: /home/maurice/.cache/kagglehub/datasets/sahib12/badwords/versions/1\n",
      "!!!!Loaded 2130 swear words.\n",
      "0 documents were empty!\n",
      "Path to dataset files: /home/maurice/.cache/kagglehub/datasets/sahib12/badwords/versions/1\n",
      "!!!!Loaded 2130 swear words.\n",
      "0 documents were empty!\n",
      "CSV-Datei '/home/maurice/Dokumente/3rd_Semester_LiU/TDDE16_Projekt/TDDE16_Song_Lyrics_Analysis/Analysis_Folder/BERT/Misc/topics_misc_BERT_6:16:50_MiniLM.csv' wurde erfolgreich erstellt!\n"
     ]
    }
   ],
   "source": [
    "run_analytics_bert_different_Sentence_Transformers(1000,\"BERT_mit_stop_words\",\"all-MiniLM-L6-v2\")"
   ]
  },
  {
   "cell_type": "code",
   "execution_count": 87,
   "id": "5c2ee952-5a1e-48d5-bc2d-fedd50cd225d",
   "metadata": {},
   "outputs": [
    {
     "ename": "NameError",
     "evalue": "name 'topic_model' is not defined",
     "output_type": "error",
     "traceback": [
      "\u001b[0;31m---------------------------------------------------------------------------\u001b[0m",
      "\u001b[0;31mNameError\u001b[0m                                 Traceback (most recent call last)",
      "Cell \u001b[0;32mIn[87], line 1\u001b[0m\n\u001b[0;32m----> 1\u001b[0m \u001b[43mtopic_model\u001b[49m\u001b[38;5;241m.\u001b[39mget_topics(\u001b[38;5;241m0\u001b[39m)\n",
      "\u001b[0;31mNameError\u001b[0m: name 'topic_model' is not defined"
     ]
    }
   ],
   "source": [
    "topic_model.get_topics(0)"
   ]
  },
  {
   "cell_type": "code",
   "execution_count": null,
   "id": "d608b690",
   "metadata": {},
   "outputs": [],
   "source": []
  }
 ],
 "metadata": {
  "kernelspec": {
   "display_name": "Python 3 (ipykernel)",
   "language": "python",
   "name": "python3"
  },
  "language_info": {
   "codemirror_mode": {
    "name": "ipython",
    "version": 3
   },
   "file_extension": ".py",
   "mimetype": "text/x-python",
   "name": "python",
   "nbconvert_exporter": "python",
   "pygments_lexer": "ipython3",
   "version": "3.10.12"
  }
 },
 "nbformat": 4,
 "nbformat_minor": 5
}
