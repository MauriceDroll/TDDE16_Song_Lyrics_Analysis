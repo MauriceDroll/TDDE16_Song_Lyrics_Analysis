{
 "cells": [
  {
   "cell_type": "markdown",
   "id": "a7ef647c-b1f2-4868-9299-71a51a04eb81",
   "metadata": {},
   "source": [
    "<h1> TDDE16 Project <h1>"
   ]
  },
  {
   "cell_type": "markdown",
   "id": "8455f60b-037a-44fe-9e5d-e8a219698ba0",
   "metadata": {},
   "source": [
    "<h2>Goal of this project:</h2>\n",
    "\n",
    "<br> (1) Access the data from the dataset\n",
    "<br> (2) Sort by genre and age of the song\n",
    "<br> (3) Analyze it with LDA (1 way)\n",
    "<br> (4) Analyze it with BERT (2 way)\n",
    "<br> (5) Compare it to prediction/forecast/ thesis\n",
    "<br> (6) Analyse\n",
    "<br> (7) How to deal with things like beleidigungen"
   ]
  },
  {
   "cell_type": "markdown",
   "id": "511f0165-d8b8-49b9-a350-923f6e0efca3",
   "metadata": {},
   "source": [
    "<h2> Prediction/ Forecast/ Thesis / Hypotheses: </h2>\n",
    "\n",
    "<br> 1. Music is based around politcal topics and things people car the moment (Buzz words from Google in that era)\n",
    "<br> 2. Love songs are always important\n",
    "<br> 3. Love songs do not differ to much (how to analyze/proof)\n",
    "<br> 4. Songs have less information in them\n",
    "<br> 5. Newer Songs are more repetitive than older ones (Reddit inspiration), https://www.nature.com/articles/s41598-024-55742-x\n",
    "<br> 6. How did the chorus change over time?\n",
    "<br> 7. Song did get easier to understand over time -> how to calculate?\n",
    "<br> 8a. Topic Heat Map: Topics across a genre a different\n",
    "\n",
    "----\n",
    "\n",
    "<br> 8. Take one artist per genre and compare it songs over time example eminem from 2000 and now"
   ]
  },
  {
   "cell_type": "markdown",
   "id": "3976f9ff-adac-40ab-951b-f52744160bc8",
   "metadata": {},
   "source": [
    "<h3>(1) Access the data from the dataset </h3>\n"
   ]
  },
  {
   "cell_type": "code",
   "execution_count": 1,
   "id": "66c2340d-7489-44ef-8483-5d4db69ec979",
   "metadata": {},
   "outputs": [],
   "source": [
    "%%capture\n",
    "%pip install datasets\n",
    "\n",
    "from datasets import load_dataset\n",
    "\n",
    "ds = load_dataset(\"sebastiandizon/genius-song-lyrics\")"
   ]
  },
  {
   "cell_type": "code",
   "execution_count": 2,
   "id": "4e1c17ec-db66-438b-84b7-feab52d20d72",
   "metadata": {},
   "outputs": [
    {
     "name": "stdout",
     "output_type": "stream",
     "text": [
      "Gefundene Songs zwischen 2000-2010: 1\n"
     ]
    }
   ],
   "source": [
    "def filter_songs_by_year(example):\n",
    "    # Sicherstellen, dass ein Datum vorhanden ist\n",
    "    if 'year' in example and example['year']:\n",
    "        # Extrahiere das Jahr (angenommen, release_date ist im Format 'YYYY-MM-DD')\n",
    "        year = int(example['year'])\n",
    "        if year >2000 and year <2010:\n",
    "            return 2000 <= year <= 2010\n",
    "    return False\n",
    "\n",
    "# Songs filtern\n",
    "filtered_songs = ds.filter(filter_songs_by_year)\n",
    "\n",
    "# Anzahl der gefilterten Songs anzeigen\n",
    "print(f\"Gefundene Songs zwischen 2000-2010: {len(filtered_songs)}\")"
   ]
  },
  {
   "cell_type": "code",
   "execution_count": 3,
   "id": "f449a2df-abeb-4f75-9c26-6f1b0584619b",
   "metadata": {},
   "outputs": [],
   "source": [
    "list_songs = []\n",
    "for i in range(100):\n",
    "    if ds['train'][i]['year'] > 2000:\n",
    "        list_songs.append(ds['train'][i])"
   ]
  },
  {
   "cell_type": "code",
   "execution_count": 4,
   "id": "d0eb859d-c3ed-4aa6-8e0d-97d894637977",
   "metadata": {},
   "outputs": [
    {
     "data": {
      "text/plain": [
       "67"
      ]
     },
     "execution_count": 4,
     "metadata": {},
     "output_type": "execute_result"
    }
   ],
   "source": [
    "len(list_songs)"
   ]
  },
  {
   "cell_type": "code",
   "execution_count": 5,
   "id": "e5862436-01a0-4844-b37f-06f168e17237",
   "metadata": {},
   "outputs": [
    {
     "name": "stdout",
     "output_type": "stream",
     "text": [
      "Category: rap, Number of entries: 964605\n",
      "Category: rb, Number of entries: 155082\n",
      "Category: rock, Number of entries: 633308\n",
      "Category: pop, Number of entries: 1393559\n",
      "Category: misc, Number of entries: 140986\n",
      "Category: country, Number of entries: 86658\n"
     ]
    }
   ],
   "source": [
    "# Assuming the dataset has a 'category' column\n",
    "unique_categories = ds['train'].unique('tag')  # Get all unique categories\n",
    "\n",
    "# Group into subdatasets\n",
    "subdatasets = {category: ds['train'].filter(lambda x: x['tag'] == category and x['language'] == 'en') for category in unique_categories}\n",
    "\n",
    "# Example: Print the first entry of each subdataset\n",
    "for category, subdataset in subdatasets.items():\n",
    "    print(f\"Category: {category}, Number of entries: {len(subdataset)}\")"
   ]
  },
  {
   "cell_type": "code",
   "execution_count": 6,
   "id": "569b7cef-f7bb-4548-9d4c-2b4a3558abf3",
   "metadata": {},
   "outputs": [
    {
     "name": "stdout",
     "output_type": "stream",
     "text": [
      "dict_items([('rap', Dataset({\n",
      "    features: ['title', 'tag', 'artist', 'year', 'views', 'features', 'lyrics', 'id', 'language_cld3', 'language_ft', 'language'],\n",
      "    num_rows: 964605\n",
      "})), ('rb', Dataset({\n",
      "    features: ['title', 'tag', 'artist', 'year', 'views', 'features', 'lyrics', 'id', 'language_cld3', 'language_ft', 'language'],\n",
      "    num_rows: 155082\n",
      "})), ('rock', Dataset({\n",
      "    features: ['title', 'tag', 'artist', 'year', 'views', 'features', 'lyrics', 'id', 'language_cld3', 'language_ft', 'language'],\n",
      "    num_rows: 633308\n",
      "})), ('pop', Dataset({\n",
      "    features: ['title', 'tag', 'artist', 'year', 'views', 'features', 'lyrics', 'id', 'language_cld3', 'language_ft', 'language'],\n",
      "    num_rows: 1393559\n",
      "})), ('misc', Dataset({\n",
      "    features: ['title', 'tag', 'artist', 'year', 'views', 'features', 'lyrics', 'id', 'language_cld3', 'language_ft', 'language'],\n",
      "    num_rows: 140986\n",
      "})), ('country', Dataset({\n",
      "    features: ['title', 'tag', 'artist', 'year', 'views', 'features', 'lyrics', 'id', 'language_cld3', 'language_ft', 'language'],\n",
      "    num_rows: 86658\n",
      "}))])\n"
     ]
    }
   ],
   "source": [
    "print(subdatasets.items())"
   ]
  },
  {
   "cell_type": "code",
   "execution_count": 7,
   "id": "b7eb6774-4a8d-43e7-9dee-c353856e949c",
   "metadata": {},
   "outputs": [],
   "source": [
    "#rap_dataset =  subdatasets['rap'].sort('views', reverse=True)"
   ]
  },
  {
   "cell_type": "code",
   "execution_count": 8,
   "id": "646aacd9-06ba-49d4-a2a8-f7628c1b3d1c",
   "metadata": {},
   "outputs": [
    {
     "name": "stdout",
     "output_type": "stream",
     "text": [
      "{'title': ['Killa Cam', 'Can I Live'], 'tag': ['rap', 'rap'], 'artist': [\"Cam'ron\", 'JAY-Z'], 'year': [2004, 1996], 'views': [173166, 468624], 'features': ['{\"Cam\\\\\\\\\\'ron\",\"Opera Steve\"}', '{}'], 'lyrics': ['[Chorus: Opera Steve & Cam\\'ron]\\nKilla Cam, Killa Cam, Cam\\nKilla Cam, Killa Cam\\nKilla Cam, Cam\\nKilla Cam, Killa Cam, Cam\\nKilla Killa Killa Cam\\nKilla Cam, Cam, Killa (Killa!)\\nKilla Cam, Killa Cam, Cam (Bases loaded)\\nKilla Cam, Killa Cam (Uh-huh)\\nKilla Cam, Cam (Santana on second, Jim on third)\\nKilla Cam, Killa Cam, Cam (I\\'m at bat)\\nKilla Killa Killa Cam\\nKilla Cam, Cam, Killa (I\\'m \\'bout to hit this shit out the world)\\nKilla Cam (Ugh, Heatmakerz), Killa Cam, Cam\\nKilla Cam, Killa Cam\\nKilla Cam, Cam (Hahahaha)\\nKilla Cam, Killa Cam, Cam\\nKilla Killa Killa Cam\\nKilla Cam, Cam, Killa (We  make this shit clap)\\nKilla Cam, Killa Cam, Cam\\nKilla Cam, Killa Cam\\nKilla Cam, Cam\\nKilla Cam, Killa Cam, Cam\\nKilla Killa Killa Cam (Killa! Killa!)\\nKilla Cam, Cam, Killa\\n[Verse 1]\\nWith the goons I spar, stay in tune with ma (What up?)\\nShe like, \"Damn, this the realest since \\'Kumbaya\\'\"\\nBomaye, Killa Cam, my Lord (My Lord)\\nStill the man with the pan, scrilla, fam, on board\\nNow bitches, they want to neuter me, niggas, they want to tutor me\\nThe hooligan in Houlihan\\'s, maneuvering\\'s nothing new to me\\nDoggy, I\\'m from the land of grind, pan-pan: gram or dime?\\nNot toes or MC when I say \"hammer time\"\\nBeef: I hammer mine, when I get my hands on nines\\nIf I had on \\'Bama line, Corduroys, Cam\\'ll shine\\nCanary burgundy: I call it \"Lemon Red\" (Red)\\nYellow diamonds in my ear, call \\'em \"Lemonheads\"\\nLemonhead, end up dead, ice like Winnipeg\\nGemstone, Flintstones, you could say I\\'m friends with Fred\\nYou unhappy, scrappy? (What\\'s going on, Scrappy?)\\nI got Pataki at me\\nBitches say I\\'m \"Tacky Daddy,\" Range look like Laffy Taffy\\n\\n[Chorus]\\nKilla Cam\\nKilla Cam Cam (sing)\\nKilla Cam Killa Cam\\nKilla Cam Cam (uhh, it\\'s me, clap)\\nKilla Cam\\nKilla Cam Cam\\nKilla Killa Killa Cam (sing)\\nKilla Cam Cam Killa (uhh, it\\'s me, clap)\\nKilla Cam\\nKilla Cam Cam (sing)\\nKilla Cam Killa Cam\\nKilla Cam Cam (clap, it\\'s me)\\nKilla Cam\\nKilla Cam Cam\\nKilla Killa Killa Cam (clap)\\n(Harlem, I know y\\'all know about this)\\nKilla Cam Cam Killa (Killa!)\\n[Verse 2]\\nYo, I\\'m from where Nicky Barnes got rich as fuck\\nRich and A hit the kitchens then were pitchin\\' up\\nRob Base, Mase, Doug E Fresh switched it up\\nI do both, who am I to fuck tradition up? (Killa!)\\nSo I parked in a tow-away zone\\nChrome...I don\\'t care\\nThat car a throwaway, homes (Killa!)\\nWelcome to Harlem, where you welcome to problems\\nOff of furlough, fellow felons get pardons\\nThem niggas knew we bang\\nStood out like Pootie Tang\\nSoon as the stoolie sings\\nThat when the toolie sing!\\nBang! Bang!\\nCame from that movie ring\\nSnap, crack jewelry bling\\nFlapjack, ooh he bring\\nClack-clack, \"ooh he ring!\"\\nBad rap, cuties cling\\nAss cap, put them in the river\\nI\\'m the sushi king\\nAnd I\\'ma keep ya fresh\\nLet the fish eat ya flesh\\nYes sir, please confess\\nJust say he\\'s the best (Killa!)\\n[Chorus]\\nKilla Cam (sing)\\nKilla Cam Cam (clap)\\nKilla Cam Killa Cam (yes)\\nKilla Cam Cam (it\\'s me, sing)\\nKilla Cam\\nKilla Cam Cam (sing)\\nKilla Killa Killa Cam\\nKilla Cam Cam Killa  (clap, yes sir, uhh)\\nKilla Cam\\nKilla Cam Cam (sing, clap)\\nKilla Cam Killa Cam\\nKilla Cam Cam (it\\'s me)\\nKilla Cam (sing, clap)\\nKilla Cam Cam\\nKilla Killa Killa Cam\\n(Let me end this shit, listen)\\nKilla Cam Cam Killa\\n\\n[Verse 3]\\n(Killa!) Yo\\nHow dope is this?\\nTeach you how to rope a chick\\nWhat you want: coke or piff?\\nGot it all, smoke or sniff? (everything)\\nAnd you know my drift\\nUsed to figures, dough and shit (millions)\\nYou a rooster nigga, just a roaster, bitch\\nAnd I roast ya bitch\\nThat\\'s how it usually ends\\nTell her and her groupie friends\\nGo get their coochie cleansed\\nWe the moody Gucci, Louis and Pucci men\\nEscada, Prada\\nThe chopper it got the Uzi lens\\nBird\\'s-eye view\\nThe birds I knew flip birds\\nBird gangs, it was birds I flew\\nAnd word I blew off herb I grew\\nI would serve on stoops\\nNow swerve in coupes\\nIt\\'s me, sing! Killa, uhh\\n\\n[Chorus]\\nKilla Cam\\nKilla Cam Cam\\nKilla Cam Killa Cam\\nKilla Cam Cam\\nKilla Cam\\nKilla Cam Cam\\nKilla Killa Killa Cam\\nKilla Cam Cam Killa\\nKilla Cam\\nKilla Cam Cam\\nKilla Cam Killa Cam\\nKilla Cam Cam\\nKilla Cam\\nKilla Cam Cam\\nKilla Killa Killa Cam\\nKilla Cam Cam Killa', '[Produced by Irv Gotti]\\n\\n[Intro]\\nYeah, hah, yeah, Roc-A-Fella\\nWe invite you to somethin\\' epic, you know?\\nWell, we hustle out of a sense of hopelessness\\nSort of a desperation\\nThrough that desperation, we become addicted\\nSort of like the fiends we accustomed to servin\\'\\nBut we feel we have nothin\\' to lose\\nSo, we offer you, well, we offer our lives, right?\\nWhat do you bring to the table?\\n\\n[Verse 1]\\nWhile I\\'m watchin\\' every nigga watchin\\' me closely\\nMy shit is butter for the bread, they wanna toast me\\nI keep my head, both of them, where they supposed to be\\nHoes\\'ll get you sidetracked, then clapped from close feet\\nI don\\'t sleep, I\\'m tired, I feel wired like codeine, these days\\nA brother gotta admire me from four fiends away\\nMy pain, wish it was quick to see\\nFrom sellin\\' \\'caine \\'til brains was fried to a fricassee\\nCan\\'t lie, at the time it never bothered me\\nAt the bar, gettin\\' my thug on properly\\nMy squad and me lack of respect for authority\\nLaughin\\' hard, happy to be escapin\\' poverty, however brief\\nI know this game got valleys and peaks\\nExpectation for dips, for precipitation we stack chips, hardly\\nThe youth I used to be, soon to see a mill\\'in\\nNo more Big Willie, my game has grown\\nPrefer you call me William\\nIllin\\' for revenues, Rayful Edmond-like\\nChannel 7 News, round seven jewels, head dead in the mic\\nForgettin\\' all I ever knew, convenient amnesia\\n\"I suggest you call my lawyer, I know the procedure.\"\\nLock my body, can\\'t trap my mind\\nEasily explain why we adapt to crime\\nI\\'d rather die enormous than live dormant, that\\'s how we on it\\nLive at the main event, I bet a trip to Maui on it\\nPresidential suites my residential for the weekend\\nConfidentially speakin\\' in codes since I sense you peekin\\'\\nThe NSX rental, don\\'t be fooled, my game is mental\\nWe both out of town, dog, what you tryin\\' to get into?\\nViva Las Vegas, see ya later at the crap tables\\nMeet me by the one that starts a G up\\nThis way no Fraud Willies present gamblin\\' they re-up\\nAnd we can have a pleasant time, sippin\\' margaritas\\n[Chorus]\\nGe-ge-geyeahhh\\nCan I live?\\nCan I live?\\n\\n[Verse 2]\\nMy mind is infested with sick thoughts that circle\\nLike a Lexus, if driven wrong it\\'s sure to hurt you\\nDual level like duplexes, in unity\\nMy crew and me commit atrocities like we got immunity\\nYou guessed it, manifest it\\nIn tangible goods, platinum Rolex\\'d it\\nWe don\\'t lease, we buy the whole car, as you should\\nMy confederation, dead a nation\\nExplode on detonation, overload the mind of a said patient\\nWhen it boils to steam, it comes to it\\nWe all fiends, gotta do it: even righteous minds go through this\\nTrue this, the streets school us to spend our money foolish\\nBond with jewelers and watch for intruders\\nI stepped it up another level, meditated like a Buddhist\\nRecruited lieutenants with ludicrous dreams of gettin\\' cream\\n\"Let\\'s do this,\" it gets tedious\\nSo I keep one eye open like CBS — you see me stressed, right?\\n\\n[Chorus]\\nCan I live?\\nCan I live?\\nCan I live?\\nCan I live?'], 'id': [1, 3], 'language_cld3': ['en', 'en'], 'language_ft': ['en', 'en'], 'language': ['en', 'en']}\n"
     ]
    }
   ],
   "source": [
    "tsd_rap = subdatasets['rap'][:2]\n",
    "print(tsd_rap)"
   ]
  },
  {
   "cell_type": "code",
   "execution_count": 18,
   "id": "0fc64293-d428-4053-9b2f-75f7ca5bcc82",
   "metadata": {},
   "outputs": [],
   "source": [
    "# This code will use stopwords for lemmatization\n",
    "\n",
    "import spacy\n",
    "from nltk.corpus import stopwords\n",
    "\n",
    "# Load the English NLP model from spacy\n",
    "nlp = spacy.load(\"en_core_web_sm\")\n",
    "\n",
    "# Load English stop words from nltk\n",
    "stop_words = set(stopwords.words('english'))\n",
    "\n",
    "def preprocess_text(text):\n",
    "    doc = nlp(text)\n",
    "    \n",
    "    # Lemmatize and remove stop words\n",
    "    lemmatized_text = \" \".join(\n",
    "        token.lemma_ for token in doc\n",
    "        if token.text.lower() not in stop_words and token.is_alpha\n",
    "    )\n",
    "    \n",
    "    return lemmatized_text"
   ]
  },
  {
   "cell_type": "code",
   "execution_count": 19,
   "id": "291d9ffe-da69-4b9b-a5af-63a3992d9b0f",
   "metadata": {},
   "outputs": [
    {
     "name": "stdout",
     "output_type": "stream",
     "text": [
      "<class 'datasets.arrow_dataset.Dataset'>\n",
      "964605\n"
     ]
    },
    {
     "ename": "NameError",
     "evalue": "name 'preprocess_test' is not defined",
     "output_type": "error",
     "traceback": [
      "\u001b[0;31m---------------------------------------------------------------------------\u001b[0m",
      "\u001b[0;31mNameError\u001b[0m                                 Traceback (most recent call last)",
      "Cell \u001b[0;32mIn[19], line 10\u001b[0m\n\u001b[1;32m      8\u001b[0m rap_lemma \u001b[38;5;241m=\u001b[39m rap\n\u001b[1;32m      9\u001b[0m \u001b[38;5;28;01mfor\u001b[39;00m r \u001b[38;5;129;01min\u001b[39;00m rap:\n\u001b[0;32m---> 10\u001b[0m     rap_lemma[r] \u001b[38;5;241m=\u001b[39m \u001b[43mpreprocess_test\u001b[49m(r)\n\u001b[1;32m     12\u001b[0m \u001b[38;5;66;03m# Initialize your topic model\u001b[39;00m\n\u001b[1;32m     13\u001b[0m topic_model \u001b[38;5;241m=\u001b[39m BERTopic()\n",
      "\u001b[0;31mNameError\u001b[0m: name 'preprocess_test' is not defined"
     ]
    }
   ],
   "source": [
    "from bertopic import BERTopic\n",
    "\n",
    "print(type(subdatasets['rap']))\n",
    "print(len(subdatasets['rap']['lyrics']))\n",
    "#lyrics_list = [entry['lyrics'] for entry in subdatasets['rap'][:10]]\n",
    "rap = subdatasets['rap']['lyrics'][:10]\n",
    "\n",
    "rap_lemma = rap\n",
    "for r in rap:\n",
    "    rap_lemma[r] = preprocess_text(r)\n",
    "\n",
    "# Initialize your topic model\n",
    "topic_model = BERTopic()\n",
    "# Fit and transform the text data\n",
    "topics, probs = topic_model.fit_transform(rap)\n",
    "\n",
    "# Print or analyze the results\n",
    "print(\"Topics:\", topics)\n",
    "print(\"Probabilities:\", probs)"
   ]
  },
  {
   "cell_type": "code",
   "execution_count": null,
   "id": "ded4880d-6a8d-4902-bcab-4ee365127dbb",
   "metadata": {},
   "outputs": [],
   "source": []
  }
 ],
 "metadata": {
  "kernelspec": {
   "display_name": "Python 3 (ipykernel)",
   "language": "python",
   "name": "python3"
  },
  "language_info": {
   "codemirror_mode": {
    "name": "ipython",
    "version": 3
   },
   "file_extension": ".py",
   "mimetype": "text/x-python",
   "name": "python",
   "nbconvert_exporter": "python",
   "pygments_lexer": "ipython3",
   "version": "3.10.12"
  }
 },
 "nbformat": 4,
 "nbformat_minor": 5
}
