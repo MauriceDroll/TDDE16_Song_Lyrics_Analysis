{
 "cells": [
  {
   "cell_type": "markdown",
   "id": "b93ee4ce-0aa7-49c6-a067-36d41e0915e0",
   "metadata": {},
   "source": [
    "Sankey Chart"
   ]
  },
  {
   "cell_type": "code",
   "execution_count": 13,
   "id": "1612cee8-28cd-49f2-8ddf-c4f5649f3615",
   "metadata": {},
   "outputs": [
    {
     "name": "stdout",
     "output_type": "stream",
     "text": [
      "  Method Genre Decade                                              Topic\n",
      "0    LDA   Rap    70s  0.022*\"rock\" + 0.011*\"time\" + 0.010*\"love\" + 0...\n",
      "1    LDA   Rap    70s  0.018*\"rock\" + 0.010*\"go\" + 0.010*\"time\" + 0.0...\n",
      "2    LDA   Rap    70s  0.027*\"rock\" + 0.012*\"time\" + 0.011*\"to\" + 0.0...\n",
      "3    LDA   Rap    70s  0.021*\"rock\" + 0.014*\"time\" + 0.011*\"love\" + 0...\n",
      "4    LDA   Rap    70s  0.017*\"rock\" + 0.014*\"love\" + 0.010*\"ya\" + 0.0...\n",
      "  Method Genre Decade                                              Topic\n",
      "0   BERT   Rap    70s  [('im', 0.0581961536104272), ('rock', 0.049024...\n",
      "1   BERT   Rap    70s  [('gil', 0.12151400023453168), ('scottheron', ...\n",
      "2   BERT   Rap    80s  [('im', 0.024574168743431837), ('got', 0.02029...\n",
      "3   BERT   Rap    80s  [('im', 0.04388046324880239), ('cause', 0.0284...\n",
      "4   BERT   Rap    80s  [('beat', 0.037625331523414546), ('rock', 0.03...\n",
      "Index(['Method', 'Genre', 'Decade', 'Topic'], dtype='object')\n"
     ]
    },
    {
     "ename": "KeyError",
     "evalue": "'value'",
     "output_type": "error",
     "traceback": [
      "\u001b[0;31m---------------------------------------------------------------------------\u001b[0m",
      "\u001b[0;31mKeyError\u001b[0m                                  Traceback (most recent call last)",
      "File \u001b[0;32m~/.local/lib/python3.10/site-packages/pandas/core/indexes/base.py:3805\u001b[0m, in \u001b[0;36mIndex.get_loc\u001b[0;34m(self, key)\u001b[0m\n\u001b[1;32m   3804\u001b[0m \u001b[38;5;28;01mtry\u001b[39;00m:\n\u001b[0;32m-> 3805\u001b[0m     \u001b[38;5;28;01mreturn\u001b[39;00m \u001b[38;5;28;43mself\u001b[39;49m\u001b[38;5;241;43m.\u001b[39;49m\u001b[43m_engine\u001b[49m\u001b[38;5;241;43m.\u001b[39;49m\u001b[43mget_loc\u001b[49m\u001b[43m(\u001b[49m\u001b[43mcasted_key\u001b[49m\u001b[43m)\u001b[49m\n\u001b[1;32m   3806\u001b[0m \u001b[38;5;28;01mexcept\u001b[39;00m \u001b[38;5;167;01mKeyError\u001b[39;00m \u001b[38;5;28;01mas\u001b[39;00m err:\n",
      "File \u001b[0;32mindex.pyx:167\u001b[0m, in \u001b[0;36mpandas._libs.index.IndexEngine.get_loc\u001b[0;34m()\u001b[0m\n",
      "File \u001b[0;32mindex.pyx:196\u001b[0m, in \u001b[0;36mpandas._libs.index.IndexEngine.get_loc\u001b[0;34m()\u001b[0m\n",
      "File \u001b[0;32mpandas/_libs/hashtable_class_helper.pxi:7081\u001b[0m, in \u001b[0;36mpandas._libs.hashtable.PyObjectHashTable.get_item\u001b[0;34m()\u001b[0m\n",
      "File \u001b[0;32mpandas/_libs/hashtable_class_helper.pxi:7089\u001b[0m, in \u001b[0;36mpandas._libs.hashtable.PyObjectHashTable.get_item\u001b[0;34m()\u001b[0m\n",
      "\u001b[0;31mKeyError\u001b[0m: 'value'",
      "\nThe above exception was the direct cause of the following exception:\n",
      "\u001b[0;31mKeyError\u001b[0m                                  Traceback (most recent call last)",
      "Cell \u001b[0;32mIn[13], line 69\u001b[0m\n\u001b[1;32m     56\u001b[0m data[\u001b[38;5;124m'\u001b[39m\u001b[38;5;124mtarget_idx\u001b[39m\u001b[38;5;124m'\u001b[39m] \u001b[38;5;241m=\u001b[39m data[\u001b[38;5;124m'\u001b[39m\u001b[38;5;124mTopic\u001b[39m\u001b[38;5;124m'\u001b[39m]\u001b[38;5;241m.\u001b[39mmap(node_indices)\n\u001b[1;32m     58\u001b[0m \u001b[38;5;66;03m# Sankey-Diagramm erstellen\u001b[39;00m\n\u001b[1;32m     59\u001b[0m fig \u001b[38;5;241m=\u001b[39m go\u001b[38;5;241m.\u001b[39mFigure(data\u001b[38;5;241m=\u001b[39m[go\u001b[38;5;241m.\u001b[39mSankey(\n\u001b[1;32m     60\u001b[0m     node\u001b[38;5;241m=\u001b[39m\u001b[38;5;28mdict\u001b[39m(\n\u001b[1;32m     61\u001b[0m         pad\u001b[38;5;241m=\u001b[39m\u001b[38;5;241m15\u001b[39m,\n\u001b[1;32m     62\u001b[0m         thickness\u001b[38;5;241m=\u001b[39m\u001b[38;5;241m20\u001b[39m,\n\u001b[1;32m     63\u001b[0m         line\u001b[38;5;241m=\u001b[39m\u001b[38;5;28mdict\u001b[39m(color\u001b[38;5;241m=\u001b[39m\u001b[38;5;124m\"\u001b[39m\u001b[38;5;124mblack\u001b[39m\u001b[38;5;124m\"\u001b[39m, width\u001b[38;5;241m=\u001b[39m\u001b[38;5;241m0.5\u001b[39m),\n\u001b[1;32m     64\u001b[0m         label\u001b[38;5;241m=\u001b[39mall_nodes\n\u001b[1;32m     65\u001b[0m     ),\n\u001b[1;32m     66\u001b[0m     link\u001b[38;5;241m=\u001b[39m\u001b[38;5;28mdict\u001b[39m(\n\u001b[1;32m     67\u001b[0m         source\u001b[38;5;241m=\u001b[39mdata[\u001b[38;5;124m'\u001b[39m\u001b[38;5;124msource_idx\u001b[39m\u001b[38;5;124m'\u001b[39m],\n\u001b[1;32m     68\u001b[0m         target\u001b[38;5;241m=\u001b[39mdata[\u001b[38;5;124m'\u001b[39m\u001b[38;5;124mtarget_idx\u001b[39m\u001b[38;5;124m'\u001b[39m],\n\u001b[0;32m---> 69\u001b[0m         value\u001b[38;5;241m=\u001b[39m\u001b[43mdata\u001b[49m\u001b[43m[\u001b[49m\u001b[38;5;124;43m'\u001b[39;49m\u001b[38;5;124;43mvalue\u001b[39;49m\u001b[38;5;124;43m'\u001b[39;49m\u001b[43m]\u001b[49m\n\u001b[1;32m     70\u001b[0m     )\n\u001b[1;32m     71\u001b[0m )])\n\u001b[1;32m     73\u001b[0m \u001b[38;5;66;03m# Titel und Layout anpassen\u001b[39;00m\n\u001b[1;32m     74\u001b[0m fig\u001b[38;5;241m.\u001b[39mupdate_layout(title_text\u001b[38;5;241m=\u001b[39m\u001b[38;5;124m\"\u001b[39m\u001b[38;5;124mSankey-Diagramm: LDA vs. BERT\u001b[39m\u001b[38;5;124m\"\u001b[39m, font_size\u001b[38;5;241m=\u001b[39m\u001b[38;5;241m12\u001b[39m)\n",
      "File \u001b[0;32m~/.local/lib/python3.10/site-packages/pandas/core/frame.py:4102\u001b[0m, in \u001b[0;36mDataFrame.__getitem__\u001b[0;34m(self, key)\u001b[0m\n\u001b[1;32m   4100\u001b[0m \u001b[38;5;28;01mif\u001b[39;00m \u001b[38;5;28mself\u001b[39m\u001b[38;5;241m.\u001b[39mcolumns\u001b[38;5;241m.\u001b[39mnlevels \u001b[38;5;241m>\u001b[39m \u001b[38;5;241m1\u001b[39m:\n\u001b[1;32m   4101\u001b[0m     \u001b[38;5;28;01mreturn\u001b[39;00m \u001b[38;5;28mself\u001b[39m\u001b[38;5;241m.\u001b[39m_getitem_multilevel(key)\n\u001b[0;32m-> 4102\u001b[0m indexer \u001b[38;5;241m=\u001b[39m \u001b[38;5;28;43mself\u001b[39;49m\u001b[38;5;241;43m.\u001b[39;49m\u001b[43mcolumns\u001b[49m\u001b[38;5;241;43m.\u001b[39;49m\u001b[43mget_loc\u001b[49m\u001b[43m(\u001b[49m\u001b[43mkey\u001b[49m\u001b[43m)\u001b[49m\n\u001b[1;32m   4103\u001b[0m \u001b[38;5;28;01mif\u001b[39;00m is_integer(indexer):\n\u001b[1;32m   4104\u001b[0m     indexer \u001b[38;5;241m=\u001b[39m [indexer]\n",
      "File \u001b[0;32m~/.local/lib/python3.10/site-packages/pandas/core/indexes/base.py:3812\u001b[0m, in \u001b[0;36mIndex.get_loc\u001b[0;34m(self, key)\u001b[0m\n\u001b[1;32m   3807\u001b[0m     \u001b[38;5;28;01mif\u001b[39;00m \u001b[38;5;28misinstance\u001b[39m(casted_key, \u001b[38;5;28mslice\u001b[39m) \u001b[38;5;129;01mor\u001b[39;00m (\n\u001b[1;32m   3808\u001b[0m         \u001b[38;5;28misinstance\u001b[39m(casted_key, abc\u001b[38;5;241m.\u001b[39mIterable)\n\u001b[1;32m   3809\u001b[0m         \u001b[38;5;129;01mand\u001b[39;00m \u001b[38;5;28many\u001b[39m(\u001b[38;5;28misinstance\u001b[39m(x, \u001b[38;5;28mslice\u001b[39m) \u001b[38;5;28;01mfor\u001b[39;00m x \u001b[38;5;129;01min\u001b[39;00m casted_key)\n\u001b[1;32m   3810\u001b[0m     ):\n\u001b[1;32m   3811\u001b[0m         \u001b[38;5;28;01mraise\u001b[39;00m InvalidIndexError(key)\n\u001b[0;32m-> 3812\u001b[0m     \u001b[38;5;28;01mraise\u001b[39;00m \u001b[38;5;167;01mKeyError\u001b[39;00m(key) \u001b[38;5;28;01mfrom\u001b[39;00m \u001b[38;5;21;01merr\u001b[39;00m\n\u001b[1;32m   3813\u001b[0m \u001b[38;5;28;01mexcept\u001b[39;00m \u001b[38;5;167;01mTypeError\u001b[39;00m:\n\u001b[1;32m   3814\u001b[0m     \u001b[38;5;66;03m# If we have a listlike key, _check_indexing_error will raise\u001b[39;00m\n\u001b[1;32m   3815\u001b[0m     \u001b[38;5;66;03m#  InvalidIndexError. Otherwise we fall through and re-raise\u001b[39;00m\n\u001b[1;32m   3816\u001b[0m     \u001b[38;5;66;03m#  the TypeError.\u001b[39;00m\n\u001b[1;32m   3817\u001b[0m     \u001b[38;5;28mself\u001b[39m\u001b[38;5;241m.\u001b[39m_check_indexing_error(key)\n",
      "\u001b[0;31mKeyError\u001b[0m: 'value'"
     ]
    }
   ],
   "source": [
    "import pandas as pd\n",
    "import plotly.graph_objects as go\n",
    "from collections import defaultdict\n",
    "\n",
    "# CSV-Datei laden\n",
    "csv_file = './Document_of_all_relevant_analysis.csv'\n",
    "csv_rap = './Analysis_Folder/BERT/Rap/topics_RAP_BERT_6:22:07_MiniLM.csv'\n",
    "\n",
    "try:\n",
    "    data = pd.read_csv(csv_file, encoding='utf-8',on_bad_lines='skip')\n",
    "    data_bert = pd.read_csv(csv_rap, encoding='utf-8',on_bad_lines='skip')\n",
    "\n",
    "except UnicodeDecodeError:\n",
    "    # Alternative Kodierung verwenden\n",
    "    data = pd.read_csv(csv_file, encoding='ISO-8859-1',on_bad_lines='skip')\n",
    "\n",
    "print(data.head())\n",
    "print(data_bert.head())# Zeigt die ersten Zeilen, um zu prüfen, ob die Daten korrekt geladen wurden\n",
    "print(data_bert.columns)\n",
    "\n",
    "\n",
    "# Dictionary zur Speicherung der Summenwerte\n",
    "key_value = defaultdict(float)\n",
    "\n",
    "def get_back_Topic_list(data):\n",
    "    \n",
    "    # Extrahieren und Summieren der Werte\n",
    "    for topic in data['Topic']:\n",
    "        entries = topic.split(' + ')\n",
    "        for entry in entries:\n",
    "            value, key = entry.split('*')\n",
    "            key = key.strip('\"')\n",
    "            key_value[key] += float(value)\n",
    "\n",
    "    # Umwandlung des Ergebnisses in ein Dictionary\n",
    "    return dict(key_value)\n",
    "\n",
    "data_file_topic_list = get_back_Topic_list(data)\n",
    "\n",
    "import json\n",
    "\n",
    "output_file = './key_value_output.json'\n",
    "\n",
    "with open(output_file, 'w', encoding='utf-8') as f:\n",
    "    json.dump(data_file_topic_list, f, ensure_ascii=False, indent=4)\n",
    "\n",
    "#data_file_topic_list_rap = get_back_Topic_list(data_bert)\n",
    "\n",
    "\n",
    "# Knoten erstellen\n",
    "all_nodes = list(set(data['Topic']).union(set(data_bert['Topic'])))\n",
    "node_indices = {node: idx for idx, node in enumerate(all_nodes)}\n",
    "\n",
    "# Quellen, Ziele und Werte zu Indizes konvertieren\n",
    "data['source_idx'] = data['Topic'].map(node_indices)\n",
    "data['target_idx'] = data['Topic'].map(node_indices)\n",
    "\n",
    "# Sankey-Diagramm erstellen\n",
    "fig = go.Figure(data=[go.Sankey(\n",
    "    node=dict(\n",
    "        pad=15,\n",
    "        thickness=20,\n",
    "        line=dict(color=\"black\", width=0.5),\n",
    "        label=all_nodes\n",
    "    ),\n",
    "    link=dict(\n",
    "        source=data['source_idx'],\n",
    "        target=data['target_idx'],\n",
    "        value=data['value']\n",
    "    )\n",
    ")])\n",
    "\n",
    "# Titel und Layout anpassen\n",
    "fig.update_layout(title_text=\"Sankey-Diagramm: LDA vs. BERT\", font_size=12)\n",
    "fig.show()\n"
   ]
  },
  {
   "cell_type": "code",
   "execution_count": 22,
   "id": "9fc58785-9618-4d22-83ba-0579ebc1723f",
   "metadata": {},
   "outputs": [
    {
     "data": {
      "text/plain": [
       "(defaultdict(float,\n",
       "             {'one': 0.018,\n",
       "              'state': 0.012,\n",
       "              'man': 0.011,\n",
       "              'production': 0.005,\n",
       "              'political': 0.004,\n",
       "              'people': 0.008,\n",
       "              'world': 0.007,\n",
       "              'must': 0.006,\n",
       "              'new': 0.005,\n",
       "              'v': 0.023,\n",
       "              '2d': 0.008,\n",
       "              'law': 0.007,\n",
       "              'court': 0.016,\n",
       "              'defendant': 0.005,\n",
       "              'u': 0.011,\n",
       "              'luke': 0.006,\n",
       "              'know': 0.006,\n",
       "              'go': 0.005,\n",
       "              'michael': 0.005}),\n",
       " ('v', 0.023))"
      ]
     },
     "execution_count": 22,
     "metadata": {},
     "output_type": "execute_result"
    }
   ],
   "source": [
    "# Themen-Liste für die 2020er\n",
    "topics_2020s = [\n",
    "'0.006*\"one\" + 0.006*\"state\" + 0.006*\"man\" + 0.005*\"production\" + 0.004*\"political\"',\n",
    "'0.008*\"people\" + 0.007*\"world\" + 0.006*\"must\" + 0.005*\"new\" + 0.005*\"one\"',\n",
    "'0.011*\"v\" + 0.008*\"2d\" + 0.007*\"law\" + 0.006*\"court\" + 0.005*\"defendant\"',\n",
    "'0.012*\"v\" + 0.011*\"u\" + 0.010*\"court\" + 0.006*\"luke\" + 0.006*\"state\"',\n",
    "'0.007*\"one\" + 0.006*\"know\" + 0.005*\"man\" + 0.005*\"go\" + 0.005*\"michael\"'\n",
    "\n",
    "\n",
    "\n",
    "\n",
    "\n",
    "\n",
    "]\n",
    "\n",
    "# Dictionary zur Speicherung der Summenwerte\n",
    "key_value_2020s = defaultdict(float)\n",
    "\n",
    "# Verarbeitung der Themen\n",
    "for topic in topics_2020s:\n",
    "    entries = topic.split(' + ')\n",
    "    for entry in entries:\n",
    "        value, key = entry.split('*')\n",
    "        key = key.strip('\"')\n",
    "        key_value_2020s[key] += float(value)\n",
    "\n",
    "# Wichtigstes Thema bestimmen\n",
    "most_important_topic_2020s = max(key_value_2020s.items(), key=lambda x: x[1])\n",
    "\n",
    "# Ergebnis\n",
    "key_value_2020s, most_important_topic_2020s\n"
   ]
  },
  {
   "cell_type": "code",
   "execution_count": 15,
   "id": "c016c7e2-e877-42a4-95b5-585be1517cda",
   "metadata": {},
   "outputs": [],
   "source": [
    "# Themen-Liste für die 2020er\n",
    "from collections import defaultdict\n",
    "\n",
    "topics_2020s = [\n",
    "'0.006*\"one\" + 0.006*\"state\" + 0.006*\"man\" + 0.005*\"production\" + 0.004*\"political\"',\n",
    "'0.008*\"people\" + 0.007*\"world\" + 0.006*\"must\" + 0.005*\"new\" + 0.005*\"one\"',\n",
    "'0.011*\"v\" + 0.008*\"2d\" + 0.007*\"law\" + 0.006*\"court\" + 0.005*\"defendant\"',\n",
    "'0.012*\"v\" + 0.011*\"u\" + 0.010*\"court\" + 0.006*\"luke\" + 0.006*\"state\"',\n",
    "'0.007*\"one\" + 0.006*\"know\" + 0.005*\"man\" + 0.005*\"go\" + 0.005*\"michael\"'\n",
    "\n",
    "\n",
    "\n",
    "\n",
    "\n",
    "\n",
    "]\n",
    "\n",
    "def get_hottest_topic():\n",
    "    # Dictionary zur Speicherung der Summenwerte\n",
    "    key_value_2020s = defaultdict(float)\n",
    "    \n",
    "    # Verarbeitung der Themen\n",
    "    for topic in topics_2020s:\n",
    "        entries = topic.split(' + ')\n",
    "        for entry in entries:\n",
    "            value, key = entry.split('*')\n",
    "            key = key.strip('\"')\n",
    "            key_value_2020s[key] += float(value)\n",
    "    \n",
    "    # Wichtigstes Thema bestimmen\n",
    "    most_important_topic_2020s = max(key_value_2020s.items(), key=lambda x: x[1])\n",
    "    \n",
    "    # Ergebnis\n",
    "    key_value_2020s, most_important_topic_2020s\n"
   ]
  },
  {
   "cell_type": "code",
   "execution_count": null,
   "id": "e0d59272-4075-4179-8e5f-60cdab83f4b8",
   "metadata": {},
   "outputs": [],
   "source": [
    "# Fully Automated"
   ]
  },
  {
   "cell_type": "code",
   "execution_count": 16,
   "id": "70beeee8-60bd-4452-9b53-21c23eac5e54",
   "metadata": {},
   "outputs": [
    {
     "name": "stdout",
     "output_type": "stream",
     "text": [
      "70s (('michael', 0.029), ('time', 0.023000000000000003))\n",
      "80s (('time', 0.026000000000000002), ('people', 0.023000000000000003))\n",
      "90s (('ross', 0.037), ('monica', 0.032))\n",
      "00s (('love', 0.032), ('time', 0.031000000000000003))\n",
      "10s (('time', 0.032), ('people', 0.028))\n",
      "20s (('ft', 0.066), ('love', 0.032))\n"
     ]
    }
   ],
   "source": [
    "import pandas as pd\n",
    "from collections import defaultdict\n",
    "\n",
    "\n",
    "# CSV-Datei erneut laden\n",
    "#path =\"/home/maurice/Dokumente/3rd_Semester_LiU/TDDE16_Projekt/TDDE16_Song_Lyrics_Analysis/Analysis_Folder/LDA_BiGrams/\"\n",
    "#file_path = 'topics_rock_LDA_1000_11_1.csv'#\n",
    "\n",
    "\n",
    "path =\"/home/maurice/Dokumente/3rd_Semester_LiU/TDDE16_Projekt/TDDE16_Song_Lyrics_Analysis/Analysis_Folder/\"\n",
    "\n",
    "file_path = 'topics_misc_LDA_16_1.csv'\n",
    "\n",
    "data = pd.read_csv(path + file_path)\n",
    "\n",
    "# Filtern der Zeilen, die '1970s' in der entsprechenden Spalte enthalten\n",
    "filtered_data_1970s = data[data.apply(lambda row: row.astype(str).str.contains('70s').any(), axis=1)]\n",
    "filtered_data_1980s = data[data.apply(lambda row: row.astype(str).str.contains('80s').any(), axis=1)]\n",
    "filtered_data_1990s= data[data.apply(lambda row: row.astype(str).str.contains('90s').any(), axis=1)]\n",
    "\n",
    "filtered_data_2000s = data[data.apply(lambda row: row.astype(str).str.contains('00s').any(), axis=1)]\n",
    "filtered_data_2010s = data[data.apply(lambda row: row.astype(str).str.contains('10s').any(), axis=1)]\n",
    "filtered_data_2020s = data[data.apply(lambda row: row.astype(str).str.contains('20s').any(), axis=1)]\n",
    "\n",
    "\n",
    "def get_hottest_topic(topics_2020s):\n",
    "    # Dictionary zur Speicherung der Summenwerte\n",
    "    key_value_2020s = defaultdict(float)\n",
    "    \n",
    "    # Verarbeitung der Themen\n",
    "    for topic in topics_2020s:\n",
    "        entries = topic.split(' + ')\n",
    "        for entry in entries:\n",
    "            value, key = entry.split('*')\n",
    "            key = key.strip('\"')\n",
    "            key_value_2020s[key] += float(value)\n",
    "\n",
    "        # Ermittlung des wichtigsten und zweithöchsten Themas\n",
    "    \n",
    "    sorted_topics_2020s = sorted(key_value_2020s.items(), key=lambda x: x[1], reverse=True)\n",
    "    \n",
    "    most_important_topic_2020s = sorted_topics_2020s[0] if len(sorted_topics_2020s) > 0 else None\n",
    "    \n",
    "    second_most_important_topic_2020s = sorted_topics_2020s[1] if len(sorted_topics_2020s) > 1 else None\n",
    "    \n",
    "    # Ergebnis\n",
    "    #return key_value_2020s, most_important_topic_2020s                                                        \n",
    "    return most_important_topic_2020s,second_most_important_topic_2020s\n",
    "\n",
    "\n",
    "print(\"70s\", get_hottest_topic(filtered_data_1970s[\"Topic\"]))\n",
    "print(\"80s\", get_hottest_topic(filtered_data_1980s[\"Topic\"]))\n",
    "print(\"90s\", get_hottest_topic(filtered_data_1990s[\"Topic\"]))\n",
    "print(\"00s\", get_hottest_topic(filtered_data_2000s[\"Topic\"]))\n",
    "print(\"10s\", get_hottest_topic(filtered_data_2010s[\"Topic\"]))\n",
    "print(\"20s\", get_hottest_topic(filtered_data_2020s[\"Topic\"]))\n",
    "\n",
    "\n",
    "\n",
    "# Gefilterte Daten anzeigen"
   ]
  },
  {
   "cell_type": "markdown",
   "id": "811b0139-3aef-450b-b758-a084b3f9fdb9",
   "metadata": {},
   "source": [
    "BERT"
   ]
  },
  {
   "cell_type": "code",
   "execution_count": 59,
   "id": "f027651a-cb55-4e4f-a886-361eb8b7c6c3",
   "metadata": {},
   "outputs": [
    {
     "name": "stdout",
     "output_type": "stream",
     "text": [
      "70s (\"'gil', 0.122\", \"'scottheron', 0.121\")\n",
      "80s (\"'im', 0.308\", \"'got', 0.164\")\n",
      "90s (\"'im', 0.328\", \"'got', 0.215\")\n",
      "00s (\"'im', 0.393\", \"'dont', 0.212\")\n",
      "10s (\"'hamilton', 0.217\", \"'burr', 0.164\")\n",
      "20s (\"'yeah', 0.16\", \"'im', 0.155\")\n"
     ]
    }
   ],
   "source": [
    "from collections import defaultdict\n",
    "import pandas as pd\n",
    "\n",
    "# CSV-Datei laden\n",
    "path = \"/home/maurice/Dokumente/3rd_Semester_LiU/TDDE16_Projekt/TDDE16_Song_Lyrics_Analysis/Analysis_Folder/BERT/Rap/\"\n",
    "file_path = 'topics_RAP_BERT_6:22:07_MiniLM.csv'\n",
    "\n",
    "data = pd.read_csv(path + file_path)\n",
    "\n",
    "# Filtern der Zeilen nach Dekade\n",
    "filtered_data_1970s = data[data.apply(lambda row: row.astype(str).str.contains('70s').any(), axis=1)]\n",
    "filtered_data_1980s = data[data.apply(lambda row: row.astype(str).str.contains('80s').any(), axis=1)]\n",
    "filtered_data_1990s = data[data.apply(lambda row: row.astype(str).str.contains('90s').any(), axis=1)]\n",
    "filtered_data_2000s = data[data.apply(lambda row: row.astype(str).str.contains('00s').any(), axis=1)]\n",
    "filtered_data_2010s = data[data.apply(lambda row: row.astype(str).str.contains('10s').any(), axis=1)]\n",
    "filtered_data_2020s = data[data.apply(lambda row: row.astype(str).str.contains('20s').any(), axis=1)]\n",
    "\n",
    "# Angepasste Funktion für neue Struktur\n",
    "def get_hottest_topic(topics):\n",
    "    key_value = defaultdict(float)\n",
    "    \n",
    "    for topic_list in topics:\n",
    "        for word, value in eval(topic_list):  # `eval` konvertiert die String-Repräsentation in eine Liste von Tupeln\n",
    "            key_value[word] += value\n",
    "    \n",
    "    sorted_topics = sorted(key_value.items(), key=lambda x: x[1], reverse=True)\n",
    "    most_important_topic = (sorted_topics[0][0], round(sorted_topics[0][1], 3)) if len(sorted_topics) > 0 else None\n",
    "    second_most_important_topic = (sorted_topics[1][0], round(sorted_topics[1][1], 3)) if len(sorted_topics) > 1 else None\n",
    "    \n",
    "    return str(most_important_topic).strip(\"(\").strip(\")\"), str(second_most_important_topic).strip(\"(\").strip(\")\")\n",
    "\n",
    "# Ergebnisse für jede Dekade\n",
    "print(\"70s\", get_hottest_topic(filtered_data_1970s[\"Topic\"]))\n",
    "print(\"80s\", get_hottest_topic(filtered_data_1980s[\"Topic\"]))\n",
    "print(\"90s\", get_hottest_topic(filtered_data_1990s[\"Topic\"]))\n",
    "print(\"00s\", get_hottest_topic(filtered_data_2000s[\"Topic\"]))\n",
    "print(\"10s\", get_hottest_topic(filtered_data_2010s[\"Topic\"]))\n",
    "print(\"20s\", get_hottest_topic(filtered_data_2020s[\"Topic\"]))\n"
   ]
  },
  {
   "cell_type": "markdown",
   "id": "27909371-4290-4280-84ac-b0eb7cbf9fc6",
   "metadata": {},
   "source": [
    "<h2>Plotting </h2>"
   ]
  },
  {
   "cell_type": "markdown",
   "id": "7ecb6a69-6e18-4b4b-90ce-d87264a484c2",
   "metadata": {},
   "source": [
    "BERT"
   ]
  },
  {
   "cell_type": "code",
   "execution_count": 3,
   "id": "731d63dc-0b2e-48cc-953f-b285b53071bf",
   "metadata": {},
   "outputs": [
    {
     "data": {
      "application/vnd.plotly.v1+json": {
       "config": {
        "plotlyServerURL": "https://plot.ly"
       },
       "data": [
        {
         "link": {
          "source": [
           34,
           34,
           19,
           19,
           24,
           24,
           15,
           15,
           14,
           14,
           33,
           33,
           34,
           34,
           19,
           19,
           24,
           24,
           15,
           14,
           14,
           33,
           34,
           34,
           19,
           19,
           24,
           24,
           15,
           15,
           14,
           14,
           33,
           33,
           34,
           34,
           19,
           19,
           24,
           24,
           15,
           15,
           14,
           14,
           33,
           33
          ],
          "target": [
           6,
           2,
           31,
           13,
           31,
           13,
           31,
           30,
           18,
           11,
           12,
           31,
           3,
           4,
           21,
           5,
           21,
           3,
           28,
           10,
           35,
           21,
           22,
           27,
           31,
           37,
           37,
           0,
           7,
           25,
           17,
           31,
           26,
           31,
           16,
           20,
           36,
           32,
           3,
           31,
           23,
           31,
           29,
           8,
           9,
           1
          ],
          "value": [
           0.122,
           0.121,
           0.308,
           0.164,
           0.328,
           0.215,
           0.393,
           0.212,
           0.217,
           0.164,
           0.16,
           0.155,
           0.484,
           0.255,
           0.32,
           0.212,
           0.293,
           0.208,
           0.166,
           0.182,
           0.124,
           0.214,
           0.173,
           0.17,
           0.221,
           0.195,
           0.231,
           0.202,
           0.199,
           0.199,
           0.143,
           0.14,
           0.193,
           0.189,
           0.27,
           0.245,
           0.06,
           0.047,
           0.328,
           0.221,
           0.228,
           0.208,
           0.098,
           0.084,
           0.414,
           0.351
          ]
         },
         "node": {
          "label": [
           "verse",
           "murdoc",
           "scottheron",
           "christmas",
           "merry",
           "seymour",
           "gil",
           "bennington",
           "koenig",
           "please",
           "harry",
           "burr",
           "yeah",
           "got",
           "2010",
           "2000",
           "wwe",
           "luke",
           "hamilton",
           "1980",
           "travis",
           "love",
           "roger",
           "horton",
           "1990",
           "chester",
           "kelly",
           "waters",
           "justin",
           "adnan",
           "dont",
           "im",
           "would",
           "2020",
           "1970",
           "know",
           "court",
           "chorus"
          ],
          "line": {
           "color": "black",
           "width": 0.5
          },
          "pad": 15,
          "thickness": 20
         },
         "type": "sankey"
        }
       ],
       "layout": {
        "autosize": true,
        "font": {
         "size": 12
        },
        "template": {
         "data": {
          "bar": [
           {
            "error_x": {
             "color": "#2a3f5f"
            },
            "error_y": {
             "color": "#2a3f5f"
            },
            "marker": {
             "line": {
              "color": "#E5ECF6",
              "width": 0.5
             },
             "pattern": {
              "fillmode": "overlay",
              "size": 10,
              "solidity": 0.2
             }
            },
            "type": "bar"
           }
          ],
          "barpolar": [
           {
            "marker": {
             "line": {
              "color": "#E5ECF6",
              "width": 0.5
             },
             "pattern": {
              "fillmode": "overlay",
              "size": 10,
              "solidity": 0.2
             }
            },
            "type": "barpolar"
           }
          ],
          "carpet": [
           {
            "aaxis": {
             "endlinecolor": "#2a3f5f",
             "gridcolor": "white",
             "linecolor": "white",
             "minorgridcolor": "white",
             "startlinecolor": "#2a3f5f"
            },
            "baxis": {
             "endlinecolor": "#2a3f5f",
             "gridcolor": "white",
             "linecolor": "white",
             "minorgridcolor": "white",
             "startlinecolor": "#2a3f5f"
            },
            "type": "carpet"
           }
          ],
          "choropleth": [
           {
            "colorbar": {
             "outlinewidth": 0,
             "ticks": ""
            },
            "type": "choropleth"
           }
          ],
          "contour": [
           {
            "colorbar": {
             "outlinewidth": 0,
             "ticks": ""
            },
            "colorscale": [
             [
              0,
              "#0d0887"
             ],
             [
              0.1111111111111111,
              "#46039f"
             ],
             [
              0.2222222222222222,
              "#7201a8"
             ],
             [
              0.3333333333333333,
              "#9c179e"
             ],
             [
              0.4444444444444444,
              "#bd3786"
             ],
             [
              0.5555555555555556,
              "#d8576b"
             ],
             [
              0.6666666666666666,
              "#ed7953"
             ],
             [
              0.7777777777777778,
              "#fb9f3a"
             ],
             [
              0.8888888888888888,
              "#fdca26"
             ],
             [
              1,
              "#f0f921"
             ]
            ],
            "type": "contour"
           }
          ],
          "contourcarpet": [
           {
            "colorbar": {
             "outlinewidth": 0,
             "ticks": ""
            },
            "type": "contourcarpet"
           }
          ],
          "heatmap": [
           {
            "colorbar": {
             "outlinewidth": 0,
             "ticks": ""
            },
            "colorscale": [
             [
              0,
              "#0d0887"
             ],
             [
              0.1111111111111111,
              "#46039f"
             ],
             [
              0.2222222222222222,
              "#7201a8"
             ],
             [
              0.3333333333333333,
              "#9c179e"
             ],
             [
              0.4444444444444444,
              "#bd3786"
             ],
             [
              0.5555555555555556,
              "#d8576b"
             ],
             [
              0.6666666666666666,
              "#ed7953"
             ],
             [
              0.7777777777777778,
              "#fb9f3a"
             ],
             [
              0.8888888888888888,
              "#fdca26"
             ],
             [
              1,
              "#f0f921"
             ]
            ],
            "type": "heatmap"
           }
          ],
          "heatmapgl": [
           {
            "colorbar": {
             "outlinewidth": 0,
             "ticks": ""
            },
            "colorscale": [
             [
              0,
              "#0d0887"
             ],
             [
              0.1111111111111111,
              "#46039f"
             ],
             [
              0.2222222222222222,
              "#7201a8"
             ],
             [
              0.3333333333333333,
              "#9c179e"
             ],
             [
              0.4444444444444444,
              "#bd3786"
             ],
             [
              0.5555555555555556,
              "#d8576b"
             ],
             [
              0.6666666666666666,
              "#ed7953"
             ],
             [
              0.7777777777777778,
              "#fb9f3a"
             ],
             [
              0.8888888888888888,
              "#fdca26"
             ],
             [
              1,
              "#f0f921"
             ]
            ],
            "type": "heatmapgl"
           }
          ],
          "histogram": [
           {
            "marker": {
             "pattern": {
              "fillmode": "overlay",
              "size": 10,
              "solidity": 0.2
             }
            },
            "type": "histogram"
           }
          ],
          "histogram2d": [
           {
            "colorbar": {
             "outlinewidth": 0,
             "ticks": ""
            },
            "colorscale": [
             [
              0,
              "#0d0887"
             ],
             [
              0.1111111111111111,
              "#46039f"
             ],
             [
              0.2222222222222222,
              "#7201a8"
             ],
             [
              0.3333333333333333,
              "#9c179e"
             ],
             [
              0.4444444444444444,
              "#bd3786"
             ],
             [
              0.5555555555555556,
              "#d8576b"
             ],
             [
              0.6666666666666666,
              "#ed7953"
             ],
             [
              0.7777777777777778,
              "#fb9f3a"
             ],
             [
              0.8888888888888888,
              "#fdca26"
             ],
             [
              1,
              "#f0f921"
             ]
            ],
            "type": "histogram2d"
           }
          ],
          "histogram2dcontour": [
           {
            "colorbar": {
             "outlinewidth": 0,
             "ticks": ""
            },
            "colorscale": [
             [
              0,
              "#0d0887"
             ],
             [
              0.1111111111111111,
              "#46039f"
             ],
             [
              0.2222222222222222,
              "#7201a8"
             ],
             [
              0.3333333333333333,
              "#9c179e"
             ],
             [
              0.4444444444444444,
              "#bd3786"
             ],
             [
              0.5555555555555556,
              "#d8576b"
             ],
             [
              0.6666666666666666,
              "#ed7953"
             ],
             [
              0.7777777777777778,
              "#fb9f3a"
             ],
             [
              0.8888888888888888,
              "#fdca26"
             ],
             [
              1,
              "#f0f921"
             ]
            ],
            "type": "histogram2dcontour"
           }
          ],
          "mesh3d": [
           {
            "colorbar": {
             "outlinewidth": 0,
             "ticks": ""
            },
            "type": "mesh3d"
           }
          ],
          "parcoords": [
           {
            "line": {
             "colorbar": {
              "outlinewidth": 0,
              "ticks": ""
             }
            },
            "type": "parcoords"
           }
          ],
          "pie": [
           {
            "automargin": true,
            "type": "pie"
           }
          ],
          "scatter": [
           {
            "fillpattern": {
             "fillmode": "overlay",
             "size": 10,
             "solidity": 0.2
            },
            "type": "scatter"
           }
          ],
          "scatter3d": [
           {
            "line": {
             "colorbar": {
              "outlinewidth": 0,
              "ticks": ""
             }
            },
            "marker": {
             "colorbar": {
              "outlinewidth": 0,
              "ticks": ""
             }
            },
            "type": "scatter3d"
           }
          ],
          "scattercarpet": [
           {
            "marker": {
             "colorbar": {
              "outlinewidth": 0,
              "ticks": ""
             }
            },
            "type": "scattercarpet"
           }
          ],
          "scattergeo": [
           {
            "marker": {
             "colorbar": {
              "outlinewidth": 0,
              "ticks": ""
             }
            },
            "type": "scattergeo"
           }
          ],
          "scattergl": [
           {
            "marker": {
             "colorbar": {
              "outlinewidth": 0,
              "ticks": ""
             }
            },
            "type": "scattergl"
           }
          ],
          "scattermapbox": [
           {
            "marker": {
             "colorbar": {
              "outlinewidth": 0,
              "ticks": ""
             }
            },
            "type": "scattermapbox"
           }
          ],
          "scatterpolar": [
           {
            "marker": {
             "colorbar": {
              "outlinewidth": 0,
              "ticks": ""
             }
            },
            "type": "scatterpolar"
           }
          ],
          "scatterpolargl": [
           {
            "marker": {
             "colorbar": {
              "outlinewidth": 0,
              "ticks": ""
             }
            },
            "type": "scatterpolargl"
           }
          ],
          "scatterternary": [
           {
            "marker": {
             "colorbar": {
              "outlinewidth": 0,
              "ticks": ""
             }
            },
            "type": "scatterternary"
           }
          ],
          "surface": [
           {
            "colorbar": {
             "outlinewidth": 0,
             "ticks": ""
            },
            "colorscale": [
             [
              0,
              "#0d0887"
             ],
             [
              0.1111111111111111,
              "#46039f"
             ],
             [
              0.2222222222222222,
              "#7201a8"
             ],
             [
              0.3333333333333333,
              "#9c179e"
             ],
             [
              0.4444444444444444,
              "#bd3786"
             ],
             [
              0.5555555555555556,
              "#d8576b"
             ],
             [
              0.6666666666666666,
              "#ed7953"
             ],
             [
              0.7777777777777778,
              "#fb9f3a"
             ],
             [
              0.8888888888888888,
              "#fdca26"
             ],
             [
              1,
              "#f0f921"
             ]
            ],
            "type": "surface"
           }
          ],
          "table": [
           {
            "cells": {
             "fill": {
              "color": "#EBF0F8"
             },
             "line": {
              "color": "white"
             }
            },
            "header": {
             "fill": {
              "color": "#C8D4E3"
             },
             "line": {
              "color": "white"
             }
            },
            "type": "table"
           }
          ]
         },
         "layout": {
          "annotationdefaults": {
           "arrowcolor": "#2a3f5f",
           "arrowhead": 0,
           "arrowwidth": 1
          },
          "autotypenumbers": "strict",
          "coloraxis": {
           "colorbar": {
            "outlinewidth": 0,
            "ticks": ""
           }
          },
          "colorscale": {
           "diverging": [
            [
             0,
             "#8e0152"
            ],
            [
             0.1,
             "#c51b7d"
            ],
            [
             0.2,
             "#de77ae"
            ],
            [
             0.3,
             "#f1b6da"
            ],
            [
             0.4,
             "#fde0ef"
            ],
            [
             0.5,
             "#f7f7f7"
            ],
            [
             0.6,
             "#e6f5d0"
            ],
            [
             0.7,
             "#b8e186"
            ],
            [
             0.8,
             "#7fbc41"
            ],
            [
             0.9,
             "#4d9221"
            ],
            [
             1,
             "#276419"
            ]
           ],
           "sequential": [
            [
             0,
             "#0d0887"
            ],
            [
             0.1111111111111111,
             "#46039f"
            ],
            [
             0.2222222222222222,
             "#7201a8"
            ],
            [
             0.3333333333333333,
             "#9c179e"
            ],
            [
             0.4444444444444444,
             "#bd3786"
            ],
            [
             0.5555555555555556,
             "#d8576b"
            ],
            [
             0.6666666666666666,
             "#ed7953"
            ],
            [
             0.7777777777777778,
             "#fb9f3a"
            ],
            [
             0.8888888888888888,
             "#fdca26"
            ],
            [
             1,
             "#f0f921"
            ]
           ],
           "sequentialminus": [
            [
             0,
             "#0d0887"
            ],
            [
             0.1111111111111111,
             "#46039f"
            ],
            [
             0.2222222222222222,
             "#7201a8"
            ],
            [
             0.3333333333333333,
             "#9c179e"
            ],
            [
             0.4444444444444444,
             "#bd3786"
            ],
            [
             0.5555555555555556,
             "#d8576b"
            ],
            [
             0.6666666666666666,
             "#ed7953"
            ],
            [
             0.7777777777777778,
             "#fb9f3a"
            ],
            [
             0.8888888888888888,
             "#fdca26"
            ],
            [
             1,
             "#f0f921"
            ]
           ]
          },
          "colorway": [
           "#636efa",
           "#EF553B",
           "#00cc96",
           "#ab63fa",
           "#FFA15A",
           "#19d3f3",
           "#FF6692",
           "#B6E880",
           "#FF97FF",
           "#FECB52"
          ],
          "font": {
           "color": "#2a3f5f"
          },
          "geo": {
           "bgcolor": "white",
           "lakecolor": "white",
           "landcolor": "#E5ECF6",
           "showlakes": true,
           "showland": true,
           "subunitcolor": "white"
          },
          "hoverlabel": {
           "align": "left"
          },
          "hovermode": "closest",
          "mapbox": {
           "style": "light"
          },
          "paper_bgcolor": "white",
          "plot_bgcolor": "#E5ECF6",
          "polar": {
           "angularaxis": {
            "gridcolor": "white",
            "linecolor": "white",
            "ticks": ""
           },
           "bgcolor": "#E5ECF6",
           "radialaxis": {
            "gridcolor": "white",
            "linecolor": "white",
            "ticks": ""
           }
          },
          "scene": {
           "xaxis": {
            "backgroundcolor": "#E5ECF6",
            "gridcolor": "white",
            "gridwidth": 2,
            "linecolor": "white",
            "showbackground": true,
            "ticks": "",
            "zerolinecolor": "white"
           },
           "yaxis": {
            "backgroundcolor": "#E5ECF6",
            "gridcolor": "white",
            "gridwidth": 2,
            "linecolor": "white",
            "showbackground": true,
            "ticks": "",
            "zerolinecolor": "white"
           },
           "zaxis": {
            "backgroundcolor": "#E5ECF6",
            "gridcolor": "white",
            "gridwidth": 2,
            "linecolor": "white",
            "showbackground": true,
            "ticks": "",
            "zerolinecolor": "white"
           }
          },
          "shapedefaults": {
           "line": {
            "color": "#2a3f5f"
           }
          },
          "ternary": {
           "aaxis": {
            "gridcolor": "white",
            "linecolor": "white",
            "ticks": ""
           },
           "baxis": {
            "gridcolor": "white",
            "linecolor": "white",
            "ticks": ""
           },
           "bgcolor": "#E5ECF6",
           "caxis": {
            "gridcolor": "white",
            "linecolor": "white",
            "ticks": ""
           }
          },
          "title": {
           "x": 0.05
          },
          "xaxis": {
           "automargin": true,
           "gridcolor": "white",
           "linecolor": "white",
           "ticks": "",
           "title": {
            "standoff": 15
           },
           "zerolinecolor": "white",
           "zerolinewidth": 2
          },
          "yaxis": {
           "automargin": true,
           "gridcolor": "white",
           "linecolor": "white",
           "ticks": "",
           "title": {
            "standoff": 15
           },
           "zerolinecolor": "white",
           "zerolinewidth": 2
          }
         }
        },
        "title": {
         "text": "Sankey-Diagramm: Music-Genres and Topics (BERT)"
        }
       }
      },
      "image/png": "[encoded data removed]",
      "text/html": [
       "<div>                            <div id=\"213f761e-3c3a-43e7-893c-814cda81f26c\" class=\"plotly-graph-div\" style=\"height:525px; width:100%;\"></div>            <script type=\"text/javascript\">                require([\"plotly\"], function(Plotly) {                    window.PLOTLYENV=window.PLOTLYENV || {};                                    if (document.getElementById(\"213f761e-3c3a-43e7-893c-814cda81f26c\")) {                    Plotly.newPlot(                        \"213f761e-3c3a-43e7-893c-814cda81f26c\",                        [{\"link\":{\"source\":[34,34,19,19,24,24,15,15,14,14,33,33,34,34,19,19,24,24,15,14,14,33,34,34,19,19,24,24,15,15,14,14,33,33,34,34,19,19,24,24,15,15,14,14,33,33],\"target\":[6,2,31,13,31,13,31,30,18,11,12,31,3,4,21,5,21,3,28,10,35,21,22,27,31,37,37,0,7,25,17,31,26,31,16,20,36,32,3,31,23,31,29,8,9,1],\"value\":[0.122,0.121,0.308,0.164,0.328,0.215,0.393,0.212,0.217,0.164,0.16,0.155,0.484,0.255,0.32,0.212,0.293,0.208,0.166,0.182,0.124,0.214,0.173,0.17,0.221,0.195,0.231,0.202,0.199,0.199,0.143,0.14,0.193,0.189,0.27,0.245,0.06,0.047,0.328,0.221,0.228,0.208,0.098,0.084,0.414,0.351]},\"node\":{\"label\":[\"verse\",\"murdoc\",\"scottheron\",\"christmas\",\"merry\",\"seymour\",\"gil\",\"bennington\",\"koenig\",\"please\",\"harry\",\"burr\",\"yeah\",\"got\",\"2010\",\"2000\",\"wwe\",\"luke\",\"hamilton\",\"1980\",\"travis\",\"love\",\"roger\",\"horton\",\"1990\",\"chester\",\"kelly\",\"waters\",\"justin\",\"adnan\",\"dont\",\"im\",\"would\",\"2020\",\"1970\",\"know\",\"court\",\"chorus\"],\"line\":{\"color\":\"black\",\"width\":0.5},\"pad\":15,\"thickness\":20},\"type\":\"sankey\"}],                        {\"template\":{\"data\":{\"histogram2dcontour\":[{\"type\":\"histogram2dcontour\",\"colorbar\":{\"outlinewidth\":0,\"ticks\":\"\"},\"colorscale\":[[0.0,\"#0d0887\"],[0.1111111111111111,\"#46039f\"],[0.2222222222222222,\"#7201a8\"],[0.3333333333333333,\"#9c179e\"],[0.4444444444444444,\"#bd3786\"],[0.5555555555555556,\"#d8576b\"],[0.6666666666666666,\"#ed7953\"],[0.7777777777777778,\"#fb9f3a\"],[0.8888888888888888,\"#fdca26\"],[1.0,\"#f0f921\"]]}],\"choropleth\":[{\"type\":\"choropleth\",\"colorbar\":{\"outlinewidth\":0,\"ticks\":\"\"}}],\"histogram2d\":[{\"type\":\"histogram2d\",\"colorbar\":{\"outlinewidth\":0,\"ticks\":\"\"},\"colorscale\":[[0.0,\"#0d0887\"],[0.1111111111111111,\"#46039f\"],[0.2222222222222222,\"#7201a8\"],[0.3333333333333333,\"#9c179e\"],[0.4444444444444444,\"#bd3786\"],[0.5555555555555556,\"#d8576b\"],[0.6666666666666666,\"#ed7953\"],[0.7777777777777778,\"#fb9f3a\"],[0.8888888888888888,\"#fdca26\"],[1.0,\"#f0f921\"]]}],\"heatmap\":[{\"type\":\"heatmap\",\"colorbar\":{\"outlinewidth\":0,\"ticks\":\"\"},\"colorscale\":[[0.0,\"#0d0887\"],[0.1111111111111111,\"#46039f\"],[0.2222222222222222,\"#7201a8\"],[0.3333333333333333,\"#9c179e\"],[0.4444444444444444,\"#bd3786\"],[0.5555555555555556,\"#d8576b\"],[0.6666666666666666,\"#ed7953\"],[0.7777777777777778,\"#fb9f3a\"],[0.8888888888888888,\"#fdca26\"],[1.0,\"#f0f921\"]]}],\"heatmapgl\":[{\"type\":\"heatmapgl\",\"colorbar\":{\"outlinewidth\":0,\"ticks\":\"\"},\"colorscale\":[[0.0,\"#0d0887\"],[0.1111111111111111,\"#46039f\"],[0.2222222222222222,\"#7201a8\"],[0.3333333333333333,\"#9c179e\"],[0.4444444444444444,\"#bd3786\"],[0.5555555555555556,\"#d8576b\"],[0.6666666666666666,\"#ed7953\"],[0.7777777777777778,\"#fb9f3a\"],[0.8888888888888888,\"#fdca26\"],[1.0,\"#f0f921\"]]}],\"contourcarpet\":[{\"type\":\"contourcarpet\",\"colorbar\":{\"outlinewidth\":0,\"ticks\":\"\"}}],\"contour\":[{\"type\":\"contour\",\"colorbar\":{\"outlinewidth\":0,\"ticks\":\"\"},\"colorscale\":[[0.0,\"#0d0887\"],[0.1111111111111111,\"#46039f\"],[0.2222222222222222,\"#7201a8\"],[0.3333333333333333,\"#9c179e\"],[0.4444444444444444,\"#bd3786\"],[0.5555555555555556,\"#d8576b\"],[0.6666666666666666,\"#ed7953\"],[0.7777777777777778,\"#fb9f3a\"],[0.8888888888888888,\"#fdca26\"],[1.0,\"#f0f921\"]]}],\"surface\":[{\"type\":\"surface\",\"colorbar\":{\"outlinewidth\":0,\"ticks\":\"\"},\"colorscale\":[[0.0,\"#0d0887\"],[0.1111111111111111,\"#46039f\"],[0.2222222222222222,\"#7201a8\"],[0.3333333333333333,\"#9c179e\"],[0.4444444444444444,\"#bd3786\"],[0.5555555555555556,\"#d8576b\"],[0.6666666666666666,\"#ed7953\"],[0.7777777777777778,\"#fb9f3a\"],[0.8888888888888888,\"#fdca26\"],[1.0,\"#f0f921\"]]}],\"mesh3d\":[{\"type\":\"mesh3d\",\"colorbar\":{\"outlinewidth\":0,\"ticks\":\"\"}}],\"scatter\":[{\"fillpattern\":{\"fillmode\":\"overlay\",\"size\":10,\"solidity\":0.2},\"type\":\"scatter\"}],\"parcoords\":[{\"type\":\"parcoords\",\"line\":{\"colorbar\":{\"outlinewidth\":0,\"ticks\":\"\"}}}],\"scatterpolargl\":[{\"type\":\"scatterpolargl\",\"marker\":{\"colorbar\":{\"outlinewidth\":0,\"ticks\":\"\"}}}],\"bar\":[{\"error_x\":{\"color\":\"#2a3f5f\"},\"error_y\":{\"color\":\"#2a3f5f\"},\"marker\":{\"line\":{\"color\":\"#E5ECF6\",\"width\":0.5},\"pattern\":{\"fillmode\":\"overlay\",\"size\":10,\"solidity\":0.2}},\"type\":\"bar\"}],\"scattergeo\":[{\"type\":\"scattergeo\",\"marker\":{\"colorbar\":{\"outlinewidth\":0,\"ticks\":\"\"}}}],\"scatterpolar\":[{\"type\":\"scatterpolar\",\"marker\":{\"colorbar\":{\"outlinewidth\":0,\"ticks\":\"\"}}}],\"histogram\":[{\"marker\":{\"pattern\":{\"fillmode\":\"overlay\",\"size\":10,\"solidity\":0.2}},\"type\":\"histogram\"}],\"scattergl\":[{\"type\":\"scattergl\",\"marker\":{\"colorbar\":{\"outlinewidth\":0,\"ticks\":\"\"}}}],\"scatter3d\":[{\"type\":\"scatter3d\",\"line\":{\"colorbar\":{\"outlinewidth\":0,\"ticks\":\"\"}},\"marker\":{\"colorbar\":{\"outlinewidth\":0,\"ticks\":\"\"}}}],\"scattermapbox\":[{\"type\":\"scattermapbox\",\"marker\":{\"colorbar\":{\"outlinewidth\":0,\"ticks\":\"\"}}}],\"scatterternary\":[{\"type\":\"scatterternary\",\"marker\":{\"colorbar\":{\"outlinewidth\":0,\"ticks\":\"\"}}}],\"scattercarpet\":[{\"type\":\"scattercarpet\",\"marker\":{\"colorbar\":{\"outlinewidth\":0,\"ticks\":\"\"}}}],\"carpet\":[{\"aaxis\":{\"endlinecolor\":\"#2a3f5f\",\"gridcolor\":\"white\",\"linecolor\":\"white\",\"minorgridcolor\":\"white\",\"startlinecolor\":\"#2a3f5f\"},\"baxis\":{\"endlinecolor\":\"#2a3f5f\",\"gridcolor\":\"white\",\"linecolor\":\"white\",\"minorgridcolor\":\"white\",\"startlinecolor\":\"#2a3f5f\"},\"type\":\"carpet\"}],\"table\":[{\"cells\":{\"fill\":{\"color\":\"#EBF0F8\"},\"line\":{\"color\":\"white\"}},\"header\":{\"fill\":{\"color\":\"#C8D4E3\"},\"line\":{\"color\":\"white\"}},\"type\":\"table\"}],\"barpolar\":[{\"marker\":{\"line\":{\"color\":\"#E5ECF6\",\"width\":0.5},\"pattern\":{\"fillmode\":\"overlay\",\"size\":10,\"solidity\":0.2}},\"type\":\"barpolar\"}],\"pie\":[{\"automargin\":true,\"type\":\"pie\"}]},\"layout\":{\"autotypenumbers\":\"strict\",\"colorway\":[\"#636efa\",\"#EF553B\",\"#00cc96\",\"#ab63fa\",\"#FFA15A\",\"#19d3f3\",\"#FF6692\",\"#B6E880\",\"#FF97FF\",\"#FECB52\"],\"font\":{\"color\":\"#2a3f5f\"},\"hovermode\":\"closest\",\"hoverlabel\":{\"align\":\"left\"},\"paper_bgcolor\":\"white\",\"plot_bgcolor\":\"#E5ECF6\",\"polar\":{\"bgcolor\":\"#E5ECF6\",\"angularaxis\":{\"gridcolor\":\"white\",\"linecolor\":\"white\",\"ticks\":\"\"},\"radialaxis\":{\"gridcolor\":\"white\",\"linecolor\":\"white\",\"ticks\":\"\"}},\"ternary\":{\"bgcolor\":\"#E5ECF6\",\"aaxis\":{\"gridcolor\":\"white\",\"linecolor\":\"white\",\"ticks\":\"\"},\"baxis\":{\"gridcolor\":\"white\",\"linecolor\":\"white\",\"ticks\":\"\"},\"caxis\":{\"gridcolor\":\"white\",\"linecolor\":\"white\",\"ticks\":\"\"}},\"coloraxis\":{\"colorbar\":{\"outlinewidth\":0,\"ticks\":\"\"}},\"colorscale\":{\"sequential\":[[0.0,\"#0d0887\"],[0.1111111111111111,\"#46039f\"],[0.2222222222222222,\"#7201a8\"],[0.3333333333333333,\"#9c179e\"],[0.4444444444444444,\"#bd3786\"],[0.5555555555555556,\"#d8576b\"],[0.6666666666666666,\"#ed7953\"],[0.7777777777777778,\"#fb9f3a\"],[0.8888888888888888,\"#fdca26\"],[1.0,\"#f0f921\"]],\"sequentialminus\":[[0.0,\"#0d0887\"],[0.1111111111111111,\"#46039f\"],[0.2222222222222222,\"#7201a8\"],[0.3333333333333333,\"#9c179e\"],[0.4444444444444444,\"#bd3786\"],[0.5555555555555556,\"#d8576b\"],[0.6666666666666666,\"#ed7953\"],[0.7777777777777778,\"#fb9f3a\"],[0.8888888888888888,\"#fdca26\"],[1.0,\"#f0f921\"]],\"diverging\":[[0,\"#8e0152\"],[0.1,\"#c51b7d\"],[0.2,\"#de77ae\"],[0.3,\"#f1b6da\"],[0.4,\"#fde0ef\"],[0.5,\"#f7f7f7\"],[0.6,\"#e6f5d0\"],[0.7,\"#b8e186\"],[0.8,\"#7fbc41\"],[0.9,\"#4d9221\"],[1,\"#276419\"]]},\"xaxis\":{\"gridcolor\":\"white\",\"linecolor\":\"white\",\"ticks\":\"\",\"title\":{\"standoff\":15},\"zerolinecolor\":\"white\",\"automargin\":true,\"zerolinewidth\":2},\"yaxis\":{\"gridcolor\":\"white\",\"linecolor\":\"white\",\"ticks\":\"\",\"title\":{\"standoff\":15},\"zerolinecolor\":\"white\",\"automargin\":true,\"zerolinewidth\":2},\"scene\":{\"xaxis\":{\"backgroundcolor\":\"#E5ECF6\",\"gridcolor\":\"white\",\"linecolor\":\"white\",\"showbackground\":true,\"ticks\":\"\",\"zerolinecolor\":\"white\",\"gridwidth\":2},\"yaxis\":{\"backgroundcolor\":\"#E5ECF6\",\"gridcolor\":\"white\",\"linecolor\":\"white\",\"showbackground\":true,\"ticks\":\"\",\"zerolinecolor\":\"white\",\"gridwidth\":2},\"zaxis\":{\"backgroundcolor\":\"#E5ECF6\",\"gridcolor\":\"white\",\"linecolor\":\"white\",\"showbackground\":true,\"ticks\":\"\",\"zerolinecolor\":\"white\",\"gridwidth\":2}},\"shapedefaults\":{\"line\":{\"color\":\"#2a3f5f\"}},\"annotationdefaults\":{\"arrowcolor\":\"#2a3f5f\",\"arrowhead\":0,\"arrowwidth\":1},\"geo\":{\"bgcolor\":\"white\",\"landcolor\":\"#E5ECF6\",\"subunitcolor\":\"white\",\"showland\":true,\"showlakes\":true,\"lakecolor\":\"white\"},\"title\":{\"x\":0.05},\"mapbox\":{\"style\":\"light\"}}},\"title\":{\"text\":\"Sankey-Diagramm: Music-Genres and Topics (BERT)\"},\"font\":{\"size\":12}},                        {\"responsive\": true}                    ).then(function(){\n",
       "                            \n",
       "var gd = document.getElementById('213f761e-3c3a-43e7-893c-814cda81f26c');\n",
       "var x = new MutationObserver(function (mutations, observer) {{\n",
       "        var display = window.getComputedStyle(gd).display;\n",
       "        if (!display || display === 'none') {{\n",
       "            console.log([gd, 'removed!']);\n",
       "            Plotly.purge(gd);\n",
       "            observer.disconnect();\n",
       "        }}\n",
       "}});\n",
       "\n",
       "// Listen for the removal of the full notebook cells\n",
       "var notebookContainer = gd.closest('#notebook-container');\n",
       "if (notebookContainer) {{\n",
       "    x.observe(notebookContainer, {childList: true});\n",
       "}}\n",
       "\n",
       "// Listen for the clearing of the current output cell\n",
       "var outputEl = gd.closest('.output');\n",
       "if (outputEl) {{\n",
       "    x.observe(outputEl, {childList: true});\n",
       "}}\n",
       "\n",
       "                        })                };                });            </script>        </div>"
      ]
     },
     "metadata": {},
     "output_type": "display_data"
    }
   ],
   "source": [
    "import pandas as pd\n",
    "import plotly.graph_objects as go\n",
    "\n",
    "# Daten vorbereiten (basierend auf der Struktur)\n",
    "data = pd.DataFrame({\n",
    "    'Decade': ['1970', '1980', '1990', '2000', '2010', '2020'],\n",
    "    'Rap': [\n",
    "        [(\"gil\", 0.122), (\"scottheron\", 0.121)],\n",
    "        [(\"im\", 0.308), (\"got\", 0.164)],\n",
    "        [(\"im\", 0.328), (\"got\", 0.215)],\n",
    "        [(\"im\", 0.393), (\"dont\", 0.212)],\n",
    "        [(\"hamilton\", 0.217), (\"burr\", 0.164)],\n",
    "        [(\"yeah\", 0.16), (\"im\", 0.155)]\n",
    "    ],\n",
    "    'Pop': [\n",
    "        [(\"christmas\", 0.484), (\"merry\", 0.255)],\n",
    "        [(\"love\", 0.32), (\"seymour\", 0.212)],\n",
    "        [(\"love\", 0.293), (\"christmas\", 0.208)],\n",
    "        [(\"justin\", 0.166)],\n",
    "        [(\"harry\", 0.182), (\"know\", 0.124)],\n",
    "        [(\"love\", 0.214)]\n",
    "    ],\n",
    "    'Rock': [\n",
    "        [(\"roger\", 0.173), (\"waters\", 0.17)],\n",
    "        [(\"im\", 0.221), (\"chorus\", 0.195)],\n",
    "        [(\"chorus\", 0.231), (\"verse\", 0.202)],\n",
    "        [(\"bennington\", 0.199), (\"chester\", 0.199)],\n",
    "        [(\"luke\", 0.143), (\"im\", 0.14)],\n",
    "        [(\"kelly\", 0.193), (\"im\", 0.189)]\n",
    "    ],\n",
    "    'Misc': [\n",
    "        [(\"wwe\", 0.27), (\"travis\", 0.245)],\n",
    "        [(\"court\", 0.06), (\"would\", 0.047)],\n",
    "        [(\"christmas\", 0.328), (\"im\", 0.221)],\n",
    "        [(\"horton\", 0.228), (\"im\", 0.208)],\n",
    "        [(\"adnan\", 0.098), (\"koenig\", 0.084)],\n",
    "        [(\"please\", 0.414), (\"murdoc\", 0.351)]\n",
    "    ]\n",
    "})\n",
    "\n",
    "# Vorbereitung der Daten für das Sankey-Diagramm\n",
    "all_nodes = set()\n",
    "source = []\n",
    "target = []\n",
    "value = []\n",
    "\n",
    "for column in data.columns[1:]:  # Spalten Rap, Pop, Rock, Misc\n",
    "    for decade, topics in zip(data['Decade'], data[column]):\n",
    "        for topic, val in topics:\n",
    "            all_nodes.add(decade)\n",
    "            all_nodes.add(topic)\n",
    "            source.append(decade)\n",
    "            target.append(topic)\n",
    "            value.append(val)\n",
    "\n",
    "# Knoten und ihre Indizes erstellen\n",
    "all_nodes = list(all_nodes)\n",
    "node_indices = {node: idx for idx, node in enumerate(all_nodes)}\n",
    "\n",
    "# Indizes für Quelle und Ziel\n",
    "source_indices = [node_indices[s] for s in source]\n",
    "target_indices = [node_indices[t] for t in target]\n",
    "\n",
    "# Sankey-Diagramm erstellen\n",
    "fig = go.Figure(data=[go.Sankey(\n",
    "    node=dict(\n",
    "        pad=15,\n",
    "        thickness=20,\n",
    "        line=dict(color=\"black\", width=0.5),\n",
    "        label=all_nodes\n",
    "    ),\n",
    "    link=dict(\n",
    "        source=source_indices,\n",
    "        target=target_indices,\n",
    "        value=value\n",
    "    )\n",
    ")])\n",
    "\n",
    "# Layout anpassen und Diagramm anzeigen\n",
    "fig.update_layout(title_text=\"Sankey-Diagramm: Music-Genres and Topics (BERT)\", font_size=12)\n",
    "fig.show()\n"
   ]
  },
  {
   "cell_type": "code",
   "execution_count": 5,
   "id": "158d5b76-dcb1-4dfa-a0d6-1a681f50092b",
   "metadata": {},
   "outputs": [
    {
     "data": {
      "text/plain": [
       "'sankey_diagram_music_genres.png'"
      ]
     },
     "execution_count": 5,
     "metadata": {},
     "output_type": "execute_result"
    }
   ],
   "source": [
    "# Layout anpassen, um die Skalierung zu ändern und das Diagramm zu speichern\n",
    "\n",
    "fig.update_layout(\n",
    "\n",
    "    title_text=\"Sankey-Diagram: Music-Genres and Topics (BERT)\",\n",
    "\n",
    "    font_size=12,\n",
    "\n",
    "    width=1000,  # Breite des Diagramms anpassen\n",
    "\n",
    "    height=600   # Höhe des Diagramms anpassen\n",
    "\n",
    ")\n",
    "\n",
    "# Diagramm speichern\n",
    "\n",
    "output_path = \"sankey_diagram_music_genres.png\"\n",
    "\n",
    "fig.write_image(output_path, scale=2)  # Skalierungsfaktor für bessere Qualität\n",
    "\n",
    "output_path"
   ]
  },
  {
   "cell_type": "code",
   "execution_count": 19,
   "id": "a8adf1d3-4aa1-4378-8182-c0a30052bc0c",
   "metadata": {},
   "outputs": [
    {
     "data": {
      "application/vnd.plotly.v1+json": {
       "config": {
        "plotlyServerURL": "https://plot.ly"
       },
       "data": [
        {
         "link": {
          "source": [
           5,
           1,
           9,
           12,
           12,
           7,
           7,
           4,
           5,
           1,
           9,
           12,
           7,
           4,
           5,
           1,
           9,
           12,
           7,
           4,
           5,
           5,
           1,
           1,
           9,
           9,
           12,
           12,
           7,
           7,
           4
          ],
          "target": [
           17,
           17,
           6,
           10,
           2,
           11,
           15,
           3,
           3,
           3,
           3,
           3,
           3,
           3,
           3,
           3,
           3,
           3,
           3,
           3,
           0,
           13,
           13,
           8,
           14,
           16,
           3,
           13,
           13,
           8,
           3
          ],
          "value": [
           0.105,
           0.049,
           0.052,
           0.049,
           0.049,
           0.053,
           0.051,
           0.04,
           0.044,
           0.048,
           0.035,
           0.03,
           0.042,
           0.03,
           0.044,
           0.048,
           0.035,
           0.03,
           0.042,
           0.03,
           0.029,
           0.023,
           0.026,
           0.023,
           0.037,
           0.032,
           0.032,
           0.031,
           0.032,
           0.028,
           0.032
          ]
         },
         "node": {
          "label": [
           "michael",
           "1980",
           "play",
           "love",
           "2020",
           "1970",
           "dream",
           "2010",
           "people",
           "1990",
           "game",
           "money",
           "2000",
           "time",
           "ross",
           "rich",
           "monica",
           "rock"
          ],
          "line": {
           "color": "black",
           "width": 0.5
          },
          "pad": 15,
          "thickness": 20
         },
         "type": "sankey"
        }
       ],
       "layout": {
        "autosize": true,
        "font": {
         "size": 12
        },
        "template": {
         "data": {
          "bar": [
           {
            "error_x": {
             "color": "#2a3f5f"
            },
            "error_y": {
             "color": "#2a3f5f"
            },
            "marker": {
             "line": {
              "color": "#E5ECF6",
              "width": 0.5
             },
             "pattern": {
              "fillmode": "overlay",
              "size": 10,
              "solidity": 0.2
             }
            },
            "type": "bar"
           }
          ],
          "barpolar": [
           {
            "marker": {
             "line": {
              "color": "#E5ECF6",
              "width": 0.5
             },
             "pattern": {
              "fillmode": "overlay",
              "size": 10,
              "solidity": 0.2
             }
            },
            "type": "barpolar"
           }
          ],
          "carpet": [
           {
            "aaxis": {
             "endlinecolor": "#2a3f5f",
             "gridcolor": "white",
             "linecolor": "white",
             "minorgridcolor": "white",
             "startlinecolor": "#2a3f5f"
            },
            "baxis": {
             "endlinecolor": "#2a3f5f",
             "gridcolor": "white",
             "linecolor": "white",
             "minorgridcolor": "white",
             "startlinecolor": "#2a3f5f"
            },
            "type": "carpet"
           }
          ],
          "choropleth": [
           {
            "colorbar": {
             "outlinewidth": 0,
             "ticks": ""
            },
            "type": "choropleth"
           }
          ],
          "contour": [
           {
            "colorbar": {
             "outlinewidth": 0,
             "ticks": ""
            },
            "colorscale": [
             [
              0,
              "#0d0887"
             ],
             [
              0.1111111111111111,
              "#46039f"
             ],
             [
              0.2222222222222222,
              "#7201a8"
             ],
             [
              0.3333333333333333,
              "#9c179e"
             ],
             [
              0.4444444444444444,
              "#bd3786"
             ],
             [
              0.5555555555555556,
              "#d8576b"
             ],
             [
              0.6666666666666666,
              "#ed7953"
             ],
             [
              0.7777777777777778,
              "#fb9f3a"
             ],
             [
              0.8888888888888888,
              "#fdca26"
             ],
             [
              1,
              "#f0f921"
             ]
            ],
            "type": "contour"
           }
          ],
          "contourcarpet": [
           {
            "colorbar": {
             "outlinewidth": 0,
             "ticks": ""
            },
            "type": "contourcarpet"
           }
          ],
          "heatmap": [
           {
            "colorbar": {
             "outlinewidth": 0,
             "ticks": ""
            },
            "colorscale": [
             [
              0,
              "#0d0887"
             ],
             [
              0.1111111111111111,
              "#46039f"
             ],
             [
              0.2222222222222222,
              "#7201a8"
             ],
             [
              0.3333333333333333,
              "#9c179e"
             ],
             [
              0.4444444444444444,
              "#bd3786"
             ],
             [
              0.5555555555555556,
              "#d8576b"
             ],
             [
              0.6666666666666666,
              "#ed7953"
             ],
             [
              0.7777777777777778,
              "#fb9f3a"
             ],
             [
              0.8888888888888888,
              "#fdca26"
             ],
             [
              1,
              "#f0f921"
             ]
            ],
            "type": "heatmap"
           }
          ],
          "heatmapgl": [
           {
            "colorbar": {
             "outlinewidth": 0,
             "ticks": ""
            },
            "colorscale": [
             [
              0,
              "#0d0887"
             ],
             [
              0.1111111111111111,
              "#46039f"
             ],
             [
              0.2222222222222222,
              "#7201a8"
             ],
             [
              0.3333333333333333,
              "#9c179e"
             ],
             [
              0.4444444444444444,
              "#bd3786"
             ],
             [
              0.5555555555555556,
              "#d8576b"
             ],
             [
              0.6666666666666666,
              "#ed7953"
             ],
             [
              0.7777777777777778,
              "#fb9f3a"
             ],
             [
              0.8888888888888888,
              "#fdca26"
             ],
             [
              1,
              "#f0f921"
             ]
            ],
            "type": "heatmapgl"
           }
          ],
          "histogram": [
           {
            "marker": {
             "pattern": {
              "fillmode": "overlay",
              "size": 10,
              "solidity": 0.2
             }
            },
            "type": "histogram"
           }
          ],
          "histogram2d": [
           {
            "colorbar": {
             "outlinewidth": 0,
             "ticks": ""
            },
            "colorscale": [
             [
              0,
              "#0d0887"
             ],
             [
              0.1111111111111111,
              "#46039f"
             ],
             [
              0.2222222222222222,
              "#7201a8"
             ],
             [
              0.3333333333333333,
              "#9c179e"
             ],
             [
              0.4444444444444444,
              "#bd3786"
             ],
             [
              0.5555555555555556,
              "#d8576b"
             ],
             [
              0.6666666666666666,
              "#ed7953"
             ],
             [
              0.7777777777777778,
              "#fb9f3a"
             ],
             [
              0.8888888888888888,
              "#fdca26"
             ],
             [
              1,
              "#f0f921"
             ]
            ],
            "type": "histogram2d"
           }
          ],
          "histogram2dcontour": [
           {
            "colorbar": {
             "outlinewidth": 0,
             "ticks": ""
            },
            "colorscale": [
             [
              0,
              "#0d0887"
             ],
             [
              0.1111111111111111,
              "#46039f"
             ],
             [
              0.2222222222222222,
              "#7201a8"
             ],
             [
              0.3333333333333333,
              "#9c179e"
             ],
             [
              0.4444444444444444,
              "#bd3786"
             ],
             [
              0.5555555555555556,
              "#d8576b"
             ],
             [
              0.6666666666666666,
              "#ed7953"
             ],
             [
              0.7777777777777778,
              "#fb9f3a"
             ],
             [
              0.8888888888888888,
              "#fdca26"
             ],
             [
              1,
              "#f0f921"
             ]
            ],
            "type": "histogram2dcontour"
           }
          ],
          "mesh3d": [
           {
            "colorbar": {
             "outlinewidth": 0,
             "ticks": ""
            },
            "type": "mesh3d"
           }
          ],
          "parcoords": [
           {
            "line": {
             "colorbar": {
              "outlinewidth": 0,
              "ticks": ""
             }
            },
            "type": "parcoords"
           }
          ],
          "pie": [
           {
            "automargin": true,
            "type": "pie"
           }
          ],
          "scatter": [
           {
            "fillpattern": {
             "fillmode": "overlay",
             "size": 10,
             "solidity": 0.2
            },
            "type": "scatter"
           }
          ],
          "scatter3d": [
           {
            "line": {
             "colorbar": {
              "outlinewidth": 0,
              "ticks": ""
             }
            },
            "marker": {
             "colorbar": {
              "outlinewidth": 0,
              "ticks": ""
             }
            },
            "type": "scatter3d"
           }
          ],
          "scattercarpet": [
           {
            "marker": {
             "colorbar": {
              "outlinewidth": 0,
              "ticks": ""
             }
            },
            "type": "scattercarpet"
           }
          ],
          "scattergeo": [
           {
            "marker": {
             "colorbar": {
              "outlinewidth": 0,
              "ticks": ""
             }
            },
            "type": "scattergeo"
           }
          ],
          "scattergl": [
           {
            "marker": {
             "colorbar": {
              "outlinewidth": 0,
              "ticks": ""
             }
            },
            "type": "scattergl"
           }
          ],
          "scattermapbox": [
           {
            "marker": {
             "colorbar": {
              "outlinewidth": 0,
              "ticks": ""
             }
            },
            "type": "scattermapbox"
           }
          ],
          "scatterpolar": [
           {
            "marker": {
             "colorbar": {
              "outlinewidth": 0,
              "ticks": ""
             }
            },
            "type": "scatterpolar"
           }
          ],
          "scatterpolargl": [
           {
            "marker": {
             "colorbar": {
              "outlinewidth": 0,
              "ticks": ""
             }
            },
            "type": "scatterpolargl"
           }
          ],
          "scatterternary": [
           {
            "marker": {
             "colorbar": {
              "outlinewidth": 0,
              "ticks": ""
             }
            },
            "type": "scatterternary"
           }
          ],
          "surface": [
           {
            "colorbar": {
             "outlinewidth": 0,
             "ticks": ""
            },
            "colorscale": [
             [
              0,
              "#0d0887"
             ],
             [
              0.1111111111111111,
              "#46039f"
             ],
             [
              0.2222222222222222,
              "#7201a8"
             ],
             [
              0.3333333333333333,
              "#9c179e"
             ],
             [
              0.4444444444444444,
              "#bd3786"
             ],
             [
              0.5555555555555556,
              "#d8576b"
             ],
             [
              0.6666666666666666,
              "#ed7953"
             ],
             [
              0.7777777777777778,
              "#fb9f3a"
             ],
             [
              0.8888888888888888,
              "#fdca26"
             ],
             [
              1,
              "#f0f921"
             ]
            ],
            "type": "surface"
           }
          ],
          "table": [
           {
            "cells": {
             "fill": {
              "color": "#EBF0F8"
             },
             "line": {
              "color": "white"
             }
            },
            "header": {
             "fill": {
              "color": "#C8D4E3"
             },
             "line": {
              "color": "white"
             }
            },
            "type": "table"
           }
          ]
         },
         "layout": {
          "annotationdefaults": {
           "arrowcolor": "#2a3f5f",
           "arrowhead": 0,
           "arrowwidth": 1
          },
          "autotypenumbers": "strict",
          "coloraxis": {
           "colorbar": {
            "outlinewidth": 0,
            "ticks": ""
           }
          },
          "colorscale": {
           "diverging": [
            [
             0,
             "#8e0152"
            ],
            [
             0.1,
             "#c51b7d"
            ],
            [
             0.2,
             "#de77ae"
            ],
            [
             0.3,
             "#f1b6da"
            ],
            [
             0.4,
             "#fde0ef"
            ],
            [
             0.5,
             "#f7f7f7"
            ],
            [
             0.6,
             "#e6f5d0"
            ],
            [
             0.7,
             "#b8e186"
            ],
            [
             0.8,
             "#7fbc41"
            ],
            [
             0.9,
             "#4d9221"
            ],
            [
             1,
             "#276419"
            ]
           ],
           "sequential": [
            [
             0,
             "#0d0887"
            ],
            [
             0.1111111111111111,
             "#46039f"
            ],
            [
             0.2222222222222222,
             "#7201a8"
            ],
            [
             0.3333333333333333,
             "#9c179e"
            ],
            [
             0.4444444444444444,
             "#bd3786"
            ],
            [
             0.5555555555555556,
             "#d8576b"
            ],
            [
             0.6666666666666666,
             "#ed7953"
            ],
            [
             0.7777777777777778,
             "#fb9f3a"
            ],
            [
             0.8888888888888888,
             "#fdca26"
            ],
            [
             1,
             "#f0f921"
            ]
           ],
           "sequentialminus": [
            [
             0,
             "#0d0887"
            ],
            [
             0.1111111111111111,
             "#46039f"
            ],
            [
             0.2222222222222222,
             "#7201a8"
            ],
            [
             0.3333333333333333,
             "#9c179e"
            ],
            [
             0.4444444444444444,
             "#bd3786"
            ],
            [
             0.5555555555555556,
             "#d8576b"
            ],
            [
             0.6666666666666666,
             "#ed7953"
            ],
            [
             0.7777777777777778,
             "#fb9f3a"
            ],
            [
             0.8888888888888888,
             "#fdca26"
            ],
            [
             1,
             "#f0f921"
            ]
           ]
          },
          "colorway": [
           "#636efa",
           "#EF553B",
           "#00cc96",
           "#ab63fa",
           "#FFA15A",
           "#19d3f3",
           "#FF6692",
           "#B6E880",
           "#FF97FF",
           "#FECB52"
          ],
          "font": {
           "color": "#2a3f5f"
          },
          "geo": {
           "bgcolor": "white",
           "lakecolor": "white",
           "landcolor": "#E5ECF6",
           "showlakes": true,
           "showland": true,
           "subunitcolor": "white"
          },
          "hoverlabel": {
           "align": "left"
          },
          "hovermode": "closest",
          "mapbox": {
           "style": "light"
          },
          "paper_bgcolor": "white",
          "plot_bgcolor": "#E5ECF6",
          "polar": {
           "angularaxis": {
            "gridcolor": "white",
            "linecolor": "white",
            "ticks": ""
           },
           "bgcolor": "#E5ECF6",
           "radialaxis": {
            "gridcolor": "white",
            "linecolor": "white",
            "ticks": ""
           }
          },
          "scene": {
           "xaxis": {
            "backgroundcolor": "#E5ECF6",
            "gridcolor": "white",
            "gridwidth": 2,
            "linecolor": "white",
            "showbackground": true,
            "ticks": "",
            "zerolinecolor": "white"
           },
           "yaxis": {
            "backgroundcolor": "#E5ECF6",
            "gridcolor": "white",
            "gridwidth": 2,
            "linecolor": "white",
            "showbackground": true,
            "ticks": "",
            "zerolinecolor": "white"
           },
           "zaxis": {
            "backgroundcolor": "#E5ECF6",
            "gridcolor": "white",
            "gridwidth": 2,
            "linecolor": "white",
            "showbackground": true,
            "ticks": "",
            "zerolinecolor": "white"
           }
          },
          "shapedefaults": {
           "line": {
            "color": "#2a3f5f"
           }
          },
          "ternary": {
           "aaxis": {
            "gridcolor": "white",
            "linecolor": "white",
            "ticks": ""
           },
           "baxis": {
            "gridcolor": "white",
            "linecolor": "white",
            "ticks": ""
           },
           "bgcolor": "#E5ECF6",
           "caxis": {
            "gridcolor": "white",
            "linecolor": "white",
            "ticks": ""
           }
          },
          "title": {
           "x": 0.05
          },
          "xaxis": {
           "automargin": true,
           "gridcolor": "white",
           "linecolor": "white",
           "ticks": "",
           "title": {
            "standoff": 15
           },
           "zerolinecolor": "white",
           "zerolinewidth": 2
          },
          "yaxis": {
           "automargin": true,
           "gridcolor": "white",
           "linecolor": "white",
           "ticks": "",
           "title": {
            "standoff": 15
           },
           "zerolinecolor": "white",
           "zerolinewidth": 2
          }
         }
        },
        "title": {
         "text": "Sankey Diagram: Music Genres and Topics (BERT)"
        }
       }
      },
      "image/png": "[encoded data removed]",
      "text/html": [
       "<div>                            <div id=\"3d0af8bb-ebbd-4cc1-8162-f3f2c3d33d52\" class=\"plotly-graph-div\" style=\"height:525px; width:100%;\"></div>            <script type=\"text/javascript\">                require([\"plotly\"], function(Plotly) {                    window.PLOTLYENV=window.PLOTLYENV || {};                                    if (document.getElementById(\"3d0af8bb-ebbd-4cc1-8162-f3f2c3d33d52\")) {                    Plotly.newPlot(                        \"3d0af8bb-ebbd-4cc1-8162-f3f2c3d33d52\",                        [{\"link\":{\"source\":[5,1,9,12,12,7,7,4,5,1,9,12,7,4,5,1,9,12,7,4,5,5,1,1,9,9,12,12,7,7,4],\"target\":[17,17,6,10,2,11,15,3,3,3,3,3,3,3,3,3,3,3,3,3,0,13,13,8,14,16,3,13,13,8,3],\"value\":[0.105,0.049,0.052,0.049,0.049,0.053,0.051,0.04,0.044,0.048,0.035,0.03,0.042,0.03,0.044,0.048,0.035,0.03,0.042,0.03,0.029,0.023,0.026,0.023,0.037,0.032,0.032,0.031,0.032,0.028,0.032]},\"node\":{\"label\":[\"michael\",\"1980\",\"play\",\"love\",\"2020\",\"1970\",\"dream\",\"2010\",\"people\",\"1990\",\"game\",\"money\",\"2000\",\"time\",\"ross\",\"rich\",\"monica\",\"rock\"],\"line\":{\"color\":\"black\",\"width\":0.5},\"pad\":15,\"thickness\":20},\"type\":\"sankey\"}],                        {\"template\":{\"data\":{\"histogram2dcontour\":[{\"type\":\"histogram2dcontour\",\"colorbar\":{\"outlinewidth\":0,\"ticks\":\"\"},\"colorscale\":[[0.0,\"#0d0887\"],[0.1111111111111111,\"#46039f\"],[0.2222222222222222,\"#7201a8\"],[0.3333333333333333,\"#9c179e\"],[0.4444444444444444,\"#bd3786\"],[0.5555555555555556,\"#d8576b\"],[0.6666666666666666,\"#ed7953\"],[0.7777777777777778,\"#fb9f3a\"],[0.8888888888888888,\"#fdca26\"],[1.0,\"#f0f921\"]]}],\"choropleth\":[{\"type\":\"choropleth\",\"colorbar\":{\"outlinewidth\":0,\"ticks\":\"\"}}],\"histogram2d\":[{\"type\":\"histogram2d\",\"colorbar\":{\"outlinewidth\":0,\"ticks\":\"\"},\"colorscale\":[[0.0,\"#0d0887\"],[0.1111111111111111,\"#46039f\"],[0.2222222222222222,\"#7201a8\"],[0.3333333333333333,\"#9c179e\"],[0.4444444444444444,\"#bd3786\"],[0.5555555555555556,\"#d8576b\"],[0.6666666666666666,\"#ed7953\"],[0.7777777777777778,\"#fb9f3a\"],[0.8888888888888888,\"#fdca26\"],[1.0,\"#f0f921\"]]}],\"heatmap\":[{\"type\":\"heatmap\",\"colorbar\":{\"outlinewidth\":0,\"ticks\":\"\"},\"colorscale\":[[0.0,\"#0d0887\"],[0.1111111111111111,\"#46039f\"],[0.2222222222222222,\"#7201a8\"],[0.3333333333333333,\"#9c179e\"],[0.4444444444444444,\"#bd3786\"],[0.5555555555555556,\"#d8576b\"],[0.6666666666666666,\"#ed7953\"],[0.7777777777777778,\"#fb9f3a\"],[0.8888888888888888,\"#fdca26\"],[1.0,\"#f0f921\"]]}],\"heatmapgl\":[{\"type\":\"heatmapgl\",\"colorbar\":{\"outlinewidth\":0,\"ticks\":\"\"},\"colorscale\":[[0.0,\"#0d0887\"],[0.1111111111111111,\"#46039f\"],[0.2222222222222222,\"#7201a8\"],[0.3333333333333333,\"#9c179e\"],[0.4444444444444444,\"#bd3786\"],[0.5555555555555556,\"#d8576b\"],[0.6666666666666666,\"#ed7953\"],[0.7777777777777778,\"#fb9f3a\"],[0.8888888888888888,\"#fdca26\"],[1.0,\"#f0f921\"]]}],\"contourcarpet\":[{\"type\":\"contourcarpet\",\"colorbar\":{\"outlinewidth\":0,\"ticks\":\"\"}}],\"contour\":[{\"type\":\"contour\",\"colorbar\":{\"outlinewidth\":0,\"ticks\":\"\"},\"colorscale\":[[0.0,\"#0d0887\"],[0.1111111111111111,\"#46039f\"],[0.2222222222222222,\"#7201a8\"],[0.3333333333333333,\"#9c179e\"],[0.4444444444444444,\"#bd3786\"],[0.5555555555555556,\"#d8576b\"],[0.6666666666666666,\"#ed7953\"],[0.7777777777777778,\"#fb9f3a\"],[0.8888888888888888,\"#fdca26\"],[1.0,\"#f0f921\"]]}],\"surface\":[{\"type\":\"surface\",\"colorbar\":{\"outlinewidth\":0,\"ticks\":\"\"},\"colorscale\":[[0.0,\"#0d0887\"],[0.1111111111111111,\"#46039f\"],[0.2222222222222222,\"#7201a8\"],[0.3333333333333333,\"#9c179e\"],[0.4444444444444444,\"#bd3786\"],[0.5555555555555556,\"#d8576b\"],[0.6666666666666666,\"#ed7953\"],[0.7777777777777778,\"#fb9f3a\"],[0.8888888888888888,\"#fdca26\"],[1.0,\"#f0f921\"]]}],\"mesh3d\":[{\"type\":\"mesh3d\",\"colorbar\":{\"outlinewidth\":0,\"ticks\":\"\"}}],\"scatter\":[{\"fillpattern\":{\"fillmode\":\"overlay\",\"size\":10,\"solidity\":0.2},\"type\":\"scatter\"}],\"parcoords\":[{\"type\":\"parcoords\",\"line\":{\"colorbar\":{\"outlinewidth\":0,\"ticks\":\"\"}}}],\"scatterpolargl\":[{\"type\":\"scatterpolargl\",\"marker\":{\"colorbar\":{\"outlinewidth\":0,\"ticks\":\"\"}}}],\"bar\":[{\"error_x\":{\"color\":\"#2a3f5f\"},\"error_y\":{\"color\":\"#2a3f5f\"},\"marker\":{\"line\":{\"color\":\"#E5ECF6\",\"width\":0.5},\"pattern\":{\"fillmode\":\"overlay\",\"size\":10,\"solidity\":0.2}},\"type\":\"bar\"}],\"scattergeo\":[{\"type\":\"scattergeo\",\"marker\":{\"colorbar\":{\"outlinewidth\":0,\"ticks\":\"\"}}}],\"scatterpolar\":[{\"type\":\"scatterpolar\",\"marker\":{\"colorbar\":{\"outlinewidth\":0,\"ticks\":\"\"}}}],\"histogram\":[{\"marker\":{\"pattern\":{\"fillmode\":\"overlay\",\"size\":10,\"solidity\":0.2}},\"type\":\"histogram\"}],\"scattergl\":[{\"type\":\"scattergl\",\"marker\":{\"colorbar\":{\"outlinewidth\":0,\"ticks\":\"\"}}}],\"scatter3d\":[{\"type\":\"scatter3d\",\"line\":{\"colorbar\":{\"outlinewidth\":0,\"ticks\":\"\"}},\"marker\":{\"colorbar\":{\"outlinewidth\":0,\"ticks\":\"\"}}}],\"scattermapbox\":[{\"type\":\"scattermapbox\",\"marker\":{\"colorbar\":{\"outlinewidth\":0,\"ticks\":\"\"}}}],\"scatterternary\":[{\"type\":\"scatterternary\",\"marker\":{\"colorbar\":{\"outlinewidth\":0,\"ticks\":\"\"}}}],\"scattercarpet\":[{\"type\":\"scattercarpet\",\"marker\":{\"colorbar\":{\"outlinewidth\":0,\"ticks\":\"\"}}}],\"carpet\":[{\"aaxis\":{\"endlinecolor\":\"#2a3f5f\",\"gridcolor\":\"white\",\"linecolor\":\"white\",\"minorgridcolor\":\"white\",\"startlinecolor\":\"#2a3f5f\"},\"baxis\":{\"endlinecolor\":\"#2a3f5f\",\"gridcolor\":\"white\",\"linecolor\":\"white\",\"minorgridcolor\":\"white\",\"startlinecolor\":\"#2a3f5f\"},\"type\":\"carpet\"}],\"table\":[{\"cells\":{\"fill\":{\"color\":\"#EBF0F8\"},\"line\":{\"color\":\"white\"}},\"header\":{\"fill\":{\"color\":\"#C8D4E3\"},\"line\":{\"color\":\"white\"}},\"type\":\"table\"}],\"barpolar\":[{\"marker\":{\"line\":{\"color\":\"#E5ECF6\",\"width\":0.5},\"pattern\":{\"fillmode\":\"overlay\",\"size\":10,\"solidity\":0.2}},\"type\":\"barpolar\"}],\"pie\":[{\"automargin\":true,\"type\":\"pie\"}]},\"layout\":{\"autotypenumbers\":\"strict\",\"colorway\":[\"#636efa\",\"#EF553B\",\"#00cc96\",\"#ab63fa\",\"#FFA15A\",\"#19d3f3\",\"#FF6692\",\"#B6E880\",\"#FF97FF\",\"#FECB52\"],\"font\":{\"color\":\"#2a3f5f\"},\"hovermode\":\"closest\",\"hoverlabel\":{\"align\":\"left\"},\"paper_bgcolor\":\"white\",\"plot_bgcolor\":\"#E5ECF6\",\"polar\":{\"bgcolor\":\"#E5ECF6\",\"angularaxis\":{\"gridcolor\":\"white\",\"linecolor\":\"white\",\"ticks\":\"\"},\"radialaxis\":{\"gridcolor\":\"white\",\"linecolor\":\"white\",\"ticks\":\"\"}},\"ternary\":{\"bgcolor\":\"#E5ECF6\",\"aaxis\":{\"gridcolor\":\"white\",\"linecolor\":\"white\",\"ticks\":\"\"},\"baxis\":{\"gridcolor\":\"white\",\"linecolor\":\"white\",\"ticks\":\"\"},\"caxis\":{\"gridcolor\":\"white\",\"linecolor\":\"white\",\"ticks\":\"\"}},\"coloraxis\":{\"colorbar\":{\"outlinewidth\":0,\"ticks\":\"\"}},\"colorscale\":{\"sequential\":[[0.0,\"#0d0887\"],[0.1111111111111111,\"#46039f\"],[0.2222222222222222,\"#7201a8\"],[0.3333333333333333,\"#9c179e\"],[0.4444444444444444,\"#bd3786\"],[0.5555555555555556,\"#d8576b\"],[0.6666666666666666,\"#ed7953\"],[0.7777777777777778,\"#fb9f3a\"],[0.8888888888888888,\"#fdca26\"],[1.0,\"#f0f921\"]],\"sequentialminus\":[[0.0,\"#0d0887\"],[0.1111111111111111,\"#46039f\"],[0.2222222222222222,\"#7201a8\"],[0.3333333333333333,\"#9c179e\"],[0.4444444444444444,\"#bd3786\"],[0.5555555555555556,\"#d8576b\"],[0.6666666666666666,\"#ed7953\"],[0.7777777777777778,\"#fb9f3a\"],[0.8888888888888888,\"#fdca26\"],[1.0,\"#f0f921\"]],\"diverging\":[[0,\"#8e0152\"],[0.1,\"#c51b7d\"],[0.2,\"#de77ae\"],[0.3,\"#f1b6da\"],[0.4,\"#fde0ef\"],[0.5,\"#f7f7f7\"],[0.6,\"#e6f5d0\"],[0.7,\"#b8e186\"],[0.8,\"#7fbc41\"],[0.9,\"#4d9221\"],[1,\"#276419\"]]},\"xaxis\":{\"gridcolor\":\"white\",\"linecolor\":\"white\",\"ticks\":\"\",\"title\":{\"standoff\":15},\"zerolinecolor\":\"white\",\"automargin\":true,\"zerolinewidth\":2},\"yaxis\":{\"gridcolor\":\"white\",\"linecolor\":\"white\",\"ticks\":\"\",\"title\":{\"standoff\":15},\"zerolinecolor\":\"white\",\"automargin\":true,\"zerolinewidth\":2},\"scene\":{\"xaxis\":{\"backgroundcolor\":\"#E5ECF6\",\"gridcolor\":\"white\",\"linecolor\":\"white\",\"showbackground\":true,\"ticks\":\"\",\"zerolinecolor\":\"white\",\"gridwidth\":2},\"yaxis\":{\"backgroundcolor\":\"#E5ECF6\",\"gridcolor\":\"white\",\"linecolor\":\"white\",\"showbackground\":true,\"ticks\":\"\",\"zerolinecolor\":\"white\",\"gridwidth\":2},\"zaxis\":{\"backgroundcolor\":\"#E5ECF6\",\"gridcolor\":\"white\",\"linecolor\":\"white\",\"showbackground\":true,\"ticks\":\"\",\"zerolinecolor\":\"white\",\"gridwidth\":2}},\"shapedefaults\":{\"line\":{\"color\":\"#2a3f5f\"}},\"annotationdefaults\":{\"arrowcolor\":\"#2a3f5f\",\"arrowhead\":0,\"arrowwidth\":1},\"geo\":{\"bgcolor\":\"white\",\"landcolor\":\"#E5ECF6\",\"subunitcolor\":\"white\",\"showland\":true,\"showlakes\":true,\"lakecolor\":\"white\"},\"title\":{\"x\":0.05},\"mapbox\":{\"style\":\"light\"}}},\"title\":{\"text\":\"Sankey Diagram: Music Genres and Topics (BERT)\"},\"font\":{\"size\":12}},                        {\"responsive\": true}                    ).then(function(){\n",
       "                            \n",
       "var gd = document.getElementById('3d0af8bb-ebbd-4cc1-8162-f3f2c3d33d52');\n",
       "var x = new MutationObserver(function (mutations, observer) {{\n",
       "        var display = window.getComputedStyle(gd).display;\n",
       "        if (!display || display === 'none') {{\n",
       "            console.log([gd, 'removed!']);\n",
       "            Plotly.purge(gd);\n",
       "            observer.disconnect();\n",
       "        }}\n",
       "}});\n",
       "\n",
       "// Listen for the removal of the full notebook cells\n",
       "var notebookContainer = gd.closest('#notebook-container');\n",
       "if (notebookContainer) {{\n",
       "    x.observe(notebookContainer, {childList: true});\n",
       "}}\n",
       "\n",
       "// Listen for the clearing of the current output cell\n",
       "var outputEl = gd.closest('.output');\n",
       "if (outputEl) {{\n",
       "    x.observe(outputEl, {childList: true});\n",
       "}}\n",
       "\n",
       "                        })                };                });            </script>        </div>"
      ]
     },
     "metadata": {},
     "output_type": "display_data"
    }
   ],
   "source": [
    "import plotly.graph_objects as go\n",
    "\n",
    "data = {\n",
    "    \"Decade\": [\"1970\", \"1980\", \"1990\", \"2000\", \"2010\", \"2020\"],\n",
    "    \"Rap\": [\n",
    "        [(\"rock\", 0.105)],\n",
    "        [(\"rock\", 0.049)],\n",
    "        [(\"dream\", 0.052)],\n",
    "        [(\"game\", 0.049), (\"play\", 0.049)],\n",
    "        [(\"money\", 0.053), (\"rich\", 0.051)],\n",
    "        [(\"love\", 0.04)],\n",
    "    ],\n",
    "    \"Pop\": [\n",
    "        [(\"love\", 0.044)],\n",
    "        [(\"love\", 0.048)],\n",
    "        [(\"love\", 0.035)],\n",
    "        [(\"love\", 0.03)],\n",
    "        [(\"love\", 0.042)],\n",
    "        [(\"love\", 0.03)],\n",
    "    ],\n",
    "    \"Rock\": [\n",
    "        [(\"love\", 0.044)],\n",
    "        [(\"love\", 0.048)],\n",
    "        [(\"love\", 0.035)],\n",
    "        [(\"love\", 0.03)],\n",
    "        [(\"love\", 0.042)],\n",
    "        [(\"love\", 0.03)],\n",
    "    ],\n",
    "    \"Misc\": [\n",
    "        [(\"michael\", 0.029), (\"time\", 0.023)],\n",
    "        [(\"time\", 0.026), (\"people\", 0.023)],\n",
    "        [(\"ross\", 0.037), (\"monica\", 0.032)],\n",
    "        [(\"love\", 0.032), (\"time\", 0.031)],\n",
    "        [(\"time\", 0.032), (\"people\", 0.028)],\n",
    "        [(\"love\", 0.032)],\n",
    "    ],\n",
    "}\n",
    "\n",
    "# Prepare data for Sankey Diagram\n",
    "all_nodes = set()\n",
    "source = []\n",
    "target = []\n",
    "value = []\n",
    "\n",
    "for column in [\"Rap\", \"Pop\", \"Rock\", \"Misc\"]:  # Focus on topic columns\n",
    "    for decade, topics in zip(data[\"Decade\"], data[column]):\n",
    "        for topic, val in topics:\n",
    "            all_nodes.add(decade)\n",
    "            all_nodes.add(topic)\n",
    "            source.append(decade)\n",
    "            target.append(topic)\n",
    "            value.append(val)\n",
    "\n",
    "# Create nodes and their indices\n",
    "all_nodes = list(all_nodes)\n",
    "node_indices = {node: idx for idx, node in enumerate(all_nodes)}\n",
    "\n",
    "# Map source and target to indices\n",
    "source_indices = [node_indices[s] for s in source]\n",
    "target_indices = [node_indices[t] for t in target]\n",
    "\n",
    "# Create Sankey Diagram\n",
    "fig = go.Figure(data=[go.Sankey(\n",
    "    node=dict(\n",
    "        pad=15,\n",
    "        thickness=20,\n",
    "        line=dict(color=\"black\", width=0.5),\n",
    "        label=all_nodes\n",
    "    ),\n",
    "    link=dict(\n",
    "        source=source_indices,\n",
    "        target=target_indices,\n",
    "        value=value\n",
    "    )\n",
    ")])\n",
    "\n",
    "# Update layout and show diagram\n",
    "fig.update_layout(title_text=\"Sankey Diagram: Music Genres and Topics (BERT)\", font_size=12)\n",
    "fig.show()\n"
   ]
  },
  {
   "cell_type": "code",
   "execution_count": 20,
   "id": "c85de648-eef8-4f8d-8194-930b960c54cb",
   "metadata": {},
   "outputs": [
    {
     "data": {
      "text/plain": [
       "'LDA_sankey_diagram_music_genres.png'"
      ]
     },
     "execution_count": 20,
     "metadata": {},
     "output_type": "execute_result"
    }
   ],
   "source": [
    "# Layout anpassen, um die Skalierung zu ändern und das Diagramm zu speichern\n",
    "\n",
    "fig.update_layout(\n",
    "\n",
    "    title_text=\"Sankey-Diagram: Music-Genres and Topics (LDA)\",\n",
    "\n",
    "    font_size=12,\n",
    "\n",
    "    width=1000,  # Breite des Diagramms anpassen\n",
    "\n",
    "    height=600   # Höhe des Diagramms anpassen\n",
    "\n",
    ")\n",
    "\n",
    "# Diagramm speichern\n",
    "\n",
    "output_path = \"LDA_sankey_diagram_music_genres.png\"\n",
    "\n",
    "fig.write_image(output_path, scale=2)  # Skalierungsfaktor für bessere Qualität\n",
    "\n",
    "output_path"
   ]
  },
  {
   "cell_type": "code",
   "execution_count": 17,
   "id": "e3529c79-aa3b-428f-bf22-86a16dce2890",
   "metadata": {},
   "outputs": [
    {
     "ename": "ValueError",
     "evalue": "too many values to unpack (expected 2)",
     "output_type": "error",
     "traceback": [
      "\u001b[0;31m---------------------------------------------------------------------------\u001b[0m",
      "\u001b[0;31mValueError\u001b[0m                                Traceback (most recent call last)",
      "Cell \u001b[0;32mIn[17], line 81\u001b[0m\n\u001b[1;32m     79\u001b[0m word_freq \u001b[38;5;241m=\u001b[39m {}\n\u001b[1;32m     80\u001b[0m \u001b[38;5;28;01mfor\u001b[39;00m topics \u001b[38;5;129;01min\u001b[39;00m data[genre]:\n\u001b[0;32m---> 81\u001b[0m     \u001b[38;5;28;01mfor\u001b[39;00m word, weight \u001b[38;5;129;01min\u001b[39;00m topics:\n\u001b[1;32m     82\u001b[0m         word_freq[word] \u001b[38;5;241m=\u001b[39m word_freq\u001b[38;5;241m.\u001b[39mget(word, \u001b[38;5;241m0\u001b[39m) \u001b[38;5;241m+\u001b[39m weight\n\u001b[1;32m     84\u001b[0m \u001b[38;5;66;03m# Wortwolke generieren\u001b[39;00m\n",
      "\u001b[0;31mValueError\u001b[0m: too many values to unpack (expected 2)"
     ]
    }
   ],
   "source": [
    "import pandas as pd\n",
    "from wordcloud import WordCloud\n",
    "import matplotlib.pyplot as plt\n",
    "\n",
    "# Daten vorbereiten (basierend auf der Struktur)\n",
    "data = {\n",
    "\n",
    "    \"Decade\": [\"1970\", \"1980\", \"1990\", \"2000\", \"2010\", \"2020\"],\n",
    "\n",
    "    \"Rap\": [\n",
    "\n",
    "        (\"rock\", 0.105),\n",
    "\n",
    "        {\"rock\": 0.049},\n",
    "\n",
    "        (\"dream\", 0.052),\n",
    "\n",
    "        [(\"game\", 0.049), (\"play\", 0.049)],\n",
    "\n",
    "        [(\"money\", 0.053), (\"rich\", 0.051)],\n",
    "\n",
    "        (\"love\", 0.04),\n",
    "\n",
    "    ],\n",
    "\n",
    "    \"Pop\": [\n",
    "\n",
    "        (\"love\", 0.044),\n",
    "\n",
    "        (\"love\", 0.048),\n",
    "\n",
    "        (\"love\", 0.035),\n",
    "\n",
    "        (\"love\", 0.03),\n",
    "\n",
    "        (\"love\", 0.042),\n",
    "\n",
    "        (\"love\", 0.03),\n",
    "\n",
    "    ],\n",
    "\n",
    "    \"Rock\": [\n",
    "\n",
    "        (\"love\", 0.044),\n",
    "\n",
    "        (\"love\", 0.048),\n",
    "\n",
    "        (\"love\", 0.035),\n",
    "\n",
    "        (\"love\", 0.03),\n",
    "\n",
    "        (\"love\", 0.042),\n",
    "\n",
    "        (\"love\", 0.03),\n",
    "\n",
    "    ],\n",
    "\n",
    "    \"Misc\": [\n",
    "\n",
    "        [(\"michael\", 0.029), (\"time\", 0.023)],\n",
    "\n",
    "        [(\"time\", 0.026), (\"people\", 0.023)],\n",
    "\n",
    "        [(\"ross\", 0.037), (\"monica\", 0.032)],\n",
    "\n",
    "        [(\"love\", 0.032), (\"time\", 0.031)],\n",
    "\n",
    "        [(\"time\", 0.032), (\"people\", 0.028)],\n",
    "\n",
    "        (\"love\", 0.032),\n",
    "\n",
    "    ],\n",
    "\n",
    "}\n",
    "\n",
    "\n",
    "# Funktion zur Erstellung einer Wortwolke\n",
    "for genre in ['Rap', 'Pop', 'Rock', 'Misc']:\n",
    "    word_freq = {}\n",
    "    for topics in data[genre]:\n",
    "        for word, weight in topics:\n",
    "            word_freq[word] = word_freq.get(word, 0) + weight\n",
    "\n",
    "    # Wortwolke generieren\n",
    "    wordcloud = WordCloud(width=800, height=400, background_color=\"white\").generate_from_frequencies(word_freq)\n",
    "\n",
    "    # Wortwolke anzeigen\n",
    "    plt.figure(figsize=(10, 5))\n",
    "    plt.imshow(wordcloud, interpolation=\"bilinear\")\n",
    "    plt.axis(\"off\")\n",
    "    plt.title(f\"Wordcloud for {genre}\", fontsize=16)\n",
    "    plt.show()\n"
   ]
  },
  {
   "cell_type": "code",
   "execution_count": 7,
   "id": "c536aa60-3911-4fbd-95d7-f9a93cfb116d",
   "metadata": {},
   "outputs": [
    {
     "name": "stdout",
     "output_type": "stream",
     "text": [
      "Defaulting to user installation because normal site-packages is not writeable\n",
      "Collecting wordcloud\n",
      "  Downloading wordcloud-1.9.4-cp310-cp310-manylinux_2_17_x86_64.manylinux2014_x86_64.whl (511 kB)\n",
      "\u001b[2K     \u001b[38;2;114;156;31m━━━━━━━━━━━━━━━━━━━━━━━━━━━━━━━━━━━━━━━\u001b[0m \u001b[32m511.1/511.1 KB\u001b[0m \u001b[31m6.4 MB/s\u001b[0m eta \u001b[36m0:00:00\u001b[0m MB/s\u001b[0m eta \u001b[36m0:00:01\u001b[0m\n",
      "\u001b[?25hRequirement already satisfied: pillow in /usr/lib/python3/dist-packages (from wordcloud) (9.0.1)\n",
      "Requirement already satisfied: matplotlib in /home/maurice/.local/lib/python3.10/site-packages (from wordcloud) (3.9.2)\n",
      "Requirement already satisfied: numpy>=1.6.1 in /home/maurice/.local/lib/python3.10/site-packages (from wordcloud) (1.26.4)\n",
      "Requirement already satisfied: python-dateutil>=2.7 in /home/maurice/.local/lib/python3.10/site-packages (from matplotlib->wordcloud) (2.8.2)\n",
      "Requirement already satisfied: cycler>=0.10 in /home/maurice/.local/lib/python3.10/site-packages (from matplotlib->wordcloud) (0.12.1)\n",
      "Requirement already satisfied: packaging>=20.0 in /usr/local/lib/python3.10/dist-packages (from matplotlib->wordcloud) (23.2)\n",
      "Requirement already satisfied: fonttools>=4.22.0 in /home/maurice/.local/lib/python3.10/site-packages (from matplotlib->wordcloud) (4.55.0)\n",
      "Requirement already satisfied: contourpy>=1.0.1 in /home/maurice/.local/lib/python3.10/site-packages (from matplotlib->wordcloud) (1.3.1)\n",
      "Requirement already satisfied: kiwisolver>=1.3.1 in /home/maurice/.local/lib/python3.10/site-packages (from matplotlib->wordcloud) (1.4.7)\n",
      "Requirement already satisfied: pyparsing>=2.3.1 in /usr/lib/python3/dist-packages (from matplotlib->wordcloud) (2.4.7)\n",
      "Requirement already satisfied: six>=1.5 in /usr/lib/python3/dist-packages (from python-dateutil>=2.7->matplotlib->wordcloud) (1.16.0)\n",
      "Installing collected packages: wordcloud\n",
      "Successfully installed wordcloud-1.9.4\n",
      "Note: you may need to restart the kernel to use updated packages.\n"
     ]
    }
   ],
   "source": [
    "%pip install wordcloud"
   ]
  },
  {
   "cell_type": "code",
   "execution_count": null,
   "id": "dda2cec5-ba6b-4a9e-965b-714f8f3035d3",
   "metadata": {},
   "outputs": [],
   "source": []
  }
 ],
 "metadata": {
  "kernelspec": {
   "display_name": "Python 3 (ipykernel)",
   "language": "python",
   "name": "python3"
  },
  "language_info": {
   "codemirror_mode": {
    "name": "ipython",
    "version": 3
   },
   "file_extension": ".py",
   "mimetype": "text/x-python",
   "name": "python",
   "nbconvert_exporter": "python",
   "pygments_lexer": "ipython3",
   "version": "3.10.12"
  }
 },
 "nbformat": 4,
 "nbformat_minor": 5
}
